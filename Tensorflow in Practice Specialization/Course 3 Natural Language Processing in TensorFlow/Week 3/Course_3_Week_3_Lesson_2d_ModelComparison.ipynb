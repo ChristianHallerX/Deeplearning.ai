{
 "cells": [
  {
   "cell_type": "markdown",
   "metadata": {
    "colab_type": "text",
    "id": "8YUhFBz97CC4"
   },
   "source": [
    "# IMDB (full words) Dataset Model Comparison\n",
    "- GRU\n",
    "- Bidirectional LSTM\n",
    "- Conv1d"
   ]
  },
  {
   "cell_type": "code",
   "execution_count": 1,
   "metadata": {
    "colab": {
     "base_uri": "https://localhost:8080/",
     "height": 35
    },
    "colab_type": "code",
    "id": "P-AhVYeBWgQ3",
    "outputId": "139ee2cc-834b-41a2-e68b-2e7f77128c44"
   },
   "outputs": [
    {
     "name": "stdout",
     "output_type": "stream",
     "text": [
      "2.2.0\n"
     ]
    }
   ],
   "source": [
    "import tensorflow as tf\n",
    "print(tf.__version__)"
   ]
  },
  {
   "cell_type": "code",
   "execution_count": 2,
   "metadata": {
    "colab": {},
    "colab_type": "code",
    "id": "_IoM4VFxWpMR"
   },
   "outputs": [],
   "source": [
    "import tensorflow_datasets as tfds\n",
    "imdb, info = tfds.load(\"imdb_reviews\", with_info=True, as_supervised=True)"
   ]
  },
  {
   "cell_type": "code",
   "execution_count": 3,
   "metadata": {
    "colab": {},
    "colab_type": "code",
    "id": "wHQ2Ko0zl7M4"
   },
   "outputs": [],
   "source": [
    "# Train/test split and sentence/label split\n",
    "\n",
    "import numpy as np\n",
    "\n",
    "train_data, test_data = imdb['train'], imdb['test']\n",
    "\n",
    "training_sentences = []\n",
    "training_labels = []\n",
    "\n",
    "testing_sentences = []\n",
    "testing_labels = []\n",
    "\n",
    "# str(s.tonumpy()) is needed in Python3 instead of just s.numpy()\n",
    "for s,l in train_data:\n",
    "  training_sentences.append(str(s.numpy()))\n",
    "  training_labels.append(l.numpy())\n",
    "  \n",
    "for s,l in test_data:\n",
    "  testing_sentences.append(str(s.numpy()))\n",
    "  testing_labels.append(l.numpy())\n",
    "  \n",
    "training_labels_final = np.array(training_labels)\n",
    "testing_labels_final = np.array(testing_labels)\n"
   ]
  },
  {
   "cell_type": "code",
   "execution_count": 4,
   "metadata": {
    "colab": {},
    "colab_type": "code",
    "id": "7n15yyMdmoH1"
   },
   "outputs": [],
   "source": [
    "# Createing vocabulary, tokenizing, padding\n",
    "vocab_size = 10000\n",
    "embedding_dim = 16\n",
    "max_length = 120\n",
    "trunc_type='post'\n",
    "oov_tok = \"<OOV>\"\n",
    "\n",
    "\n",
    "from tensorflow.keras.preprocessing.text import Tokenizer\n",
    "from tensorflow.keras.preprocessing.sequence import pad_sequences\n",
    "\n",
    "tokenizer = Tokenizer(num_words = vocab_size, oov_token=oov_tok)\n",
    "tokenizer.fit_on_texts(training_sentences)\n",
    "word_index = tokenizer.word_index\n",
    "sequences = tokenizer.texts_to_sequences(training_sentences)\n",
    "padded = pad_sequences(sequences,maxlen=max_length, truncating=trunc_type)\n",
    "\n",
    "testing_sequences = tokenizer.texts_to_sequences(testing_sentences)\n",
    "testing_padded = pad_sequences(testing_sequences,maxlen=max_length)"
   ]
  },
  {
   "cell_type": "code",
   "execution_count": 5,
   "metadata": {
    "colab": {
     "base_uri": "https://localhost:8080/",
     "height": 73
    },
    "colab_type": "code",
    "id": "9axf0uIXVMhO",
    "outputId": "fb0d5663-0124-41b3-c1e5-e3e7ff85f3b9"
   },
   "outputs": [
    {
     "name": "stdout",
     "output_type": "stream",
     "text": [
      "? ? ? ? ? ? ? b'i have been known to fall asleep during films but this is usually due to a combination of things including really tired being warm and comfortable on the <OOV> and having just eaten a lot however on this occasion i fell asleep because the film was rubbish the plot development was constant constantly slow and boring things seemed to happen but with no explanation of what was causing them or why i admit i may have missed part of the film but i watched the majority of it and everything just seemed to happen of its own <OOV> without any real concern for anything else i cant recommend this film at all '\n",
      "b'I have been known to fall asleep during films, but this is usually due to a combination of things including, really tired, being warm and comfortable on the sette and having just eaten a lot. However on this occasion I fell asleep because the film was rubbish. The plot development was constant. Constantly slow and boring. Things seemed to happen, but with no explanation of what was causing them or why. I admit, I may have missed part of the film, but i watched the majority of it and everything just seemed to happen of its own accord without any real concern for anything else. I cant recommend this film at all.'\n"
     ]
    }
   ],
   "source": [
    "# Conversion of tokenized sentence\n",
    "reverse_word_index = dict([(value, key) for (key, value) in word_index.items()])\n",
    "\n",
    "def decode_review(text):\n",
    "    return ' '.join([reverse_word_index.get(i, '?') for i in text])\n",
    "\n",
    "print(decode_review(padded[1]))\n",
    "print(training_sentences[1])"
   ]
  },
  {
   "cell_type": "markdown",
   "metadata": {
    "colab_type": "text",
    "id": "JJ6Hu_qw7wR4"
   },
   "source": [
    "## GRU model design"
   ]
  },
  {
   "cell_type": "code",
   "execution_count": 6,
   "metadata": {
    "colab": {
     "base_uri": "https://localhost:8080/",
     "height": 303
    },
    "colab_type": "code",
    "id": "5NEpdhb8AxID",
    "outputId": "6dfab049-6c7d-4d68-aff6-3b5825e76277"
   },
   "outputs": [
    {
     "name": "stdout",
     "output_type": "stream",
     "text": [
      "Model: \"sequential\"\n",
      "_________________________________________________________________\n",
      "Layer (type)                 Output Shape              Param #   \n",
      "=================================================================\n",
      "embedding (Embedding)        (None, 120, 16)           160000    \n",
      "_________________________________________________________________\n",
      "bidirectional (Bidirectional (None, 64)                9600      \n",
      "_________________________________________________________________\n",
      "dense (Dense)                (None, 6)                 390       \n",
      "_________________________________________________________________\n",
      "dense_1 (Dense)              (None, 1)                 7         \n",
      "=================================================================\n",
      "Total params: 169,997\n",
      "Trainable params: 169,997\n",
      "Non-trainable params: 0\n",
      "_________________________________________________________________\n"
     ]
    }
   ],
   "source": [
    "# model design\n",
    "model = tf.keras.Sequential([\n",
    "    tf.keras.layers.Embedding(vocab_size, embedding_dim, input_length=max_length),\n",
    "    tf.keras.layers.Bidirectional(tf.keras.layers.GRU(32)),\n",
    "    tf.keras.layers.Dense(6, activation='relu'),\n",
    "    tf.keras.layers.Dense(1, activation='sigmoid')\n",
    "])\n",
    "model.compile(loss='binary_crossentropy',optimizer='adam',metrics=['accuracy'])\n",
    "model.summary()\n"
   ]
  },
  {
   "cell_type": "code",
   "execution_count": 7,
   "metadata": {
    "colab": {
     "base_uri": "https://localhost:8080/",
     "height": 1000
    },
    "colab_type": "code",
    "id": "V5LLrXC-uNX6",
    "outputId": "87324745-f65e-4c53-daa1-e9fa06cab14b"
   },
   "outputs": [
    {
     "name": "stdout",
     "output_type": "stream",
     "text": [
      "Epoch 1/50\n",
      "782/782 [==============================] - 13s 17ms/step - loss: 0.5481 - accuracy: 0.6916 - val_loss: 0.3880 - val_accuracy: 0.8364\n",
      "Epoch 2/50\n",
      "782/782 [==============================] - 13s 17ms/step - loss: 0.3167 - accuracy: 0.8698 - val_loss: 0.3622 - val_accuracy: 0.8428\n",
      "Epoch 3/50\n",
      "782/782 [==============================] - 13s 16ms/step - loss: 0.2501 - accuracy: 0.9034 - val_loss: 0.4014 - val_accuracy: 0.8374\n",
      "Epoch 4/50\n",
      "782/782 [==============================] - 13s 16ms/step - loss: 0.2057 - accuracy: 0.9242 - val_loss: 0.4156 - val_accuracy: 0.8382\n",
      "Epoch 5/50\n",
      "782/782 [==============================] - 13s 16ms/step - loss: 0.1620 - accuracy: 0.9416 - val_loss: 0.4446 - val_accuracy: 0.8329\n",
      "Epoch 6/50\n",
      "782/782 [==============================] - 13s 16ms/step - loss: 0.1160 - accuracy: 0.9599 - val_loss: 0.5284 - val_accuracy: 0.8254\n",
      "Epoch 7/50\n",
      "782/782 [==============================] - 13s 16ms/step - loss: 0.0801 - accuracy: 0.9746 - val_loss: 0.5739 - val_accuracy: 0.8182\n",
      "Epoch 8/50\n",
      "782/782 [==============================] - 13s 17ms/step - loss: 0.0547 - accuracy: 0.9833 - val_loss: 0.7412 - val_accuracy: 0.8205\n",
      "Epoch 9/50\n",
      "782/782 [==============================] - 13s 17ms/step - loss: 0.0372 - accuracy: 0.9886 - val_loss: 0.7052 - val_accuracy: 0.8034\n",
      "Epoch 10/50\n",
      "782/782 [==============================] - 13s 16ms/step - loss: 0.0329 - accuracy: 0.9888 - val_loss: 0.8231 - val_accuracy: 0.8134\n",
      "Epoch 11/50\n",
      "782/782 [==============================] - 13s 17ms/step - loss: 0.0182 - accuracy: 0.9951 - val_loss: 0.9319 - val_accuracy: 0.8104\n",
      "Epoch 12/50\n",
      "782/782 [==============================] - 13s 16ms/step - loss: 0.0159 - accuracy: 0.9952 - val_loss: 1.0920 - val_accuracy: 0.8038\n",
      "Epoch 13/50\n",
      "782/782 [==============================] - 13s 17ms/step - loss: 0.0199 - accuracy: 0.9931 - val_loss: 1.0692 - val_accuracy: 0.8062\n",
      "Epoch 14/50\n",
      "782/782 [==============================] - 13s 17ms/step - loss: 0.0136 - accuracy: 0.9953 - val_loss: 1.0848 - val_accuracy: 0.8118\n",
      "Epoch 15/50\n",
      "782/782 [==============================] - 13s 17ms/step - loss: 0.0109 - accuracy: 0.9962 - val_loss: 1.1771 - val_accuracy: 0.8092\n",
      "Epoch 16/50\n",
      "782/782 [==============================] - 13s 16ms/step - loss: 0.0128 - accuracy: 0.9959 - val_loss: 1.1082 - val_accuracy: 0.8090\n",
      "Epoch 17/50\n",
      "782/782 [==============================] - 13s 17ms/step - loss: 0.0114 - accuracy: 0.9963 - val_loss: 1.1890 - val_accuracy: 0.8075\n",
      "Epoch 18/50\n",
      "782/782 [==============================] - 13s 17ms/step - loss: 0.0084 - accuracy: 0.9970 - val_loss: 1.3327 - val_accuracy: 0.8092\n",
      "Epoch 19/50\n",
      "782/782 [==============================] - 13s 17ms/step - loss: 0.0044 - accuracy: 0.9985 - val_loss: 1.4010 - val_accuracy: 0.8061\n",
      "Epoch 20/50\n",
      "782/782 [==============================] - 13s 17ms/step - loss: 0.0089 - accuracy: 0.9971 - val_loss: 1.4101 - val_accuracy: 0.8065\n",
      "Epoch 21/50\n",
      "782/782 [==============================] - 13s 17ms/step - loss: 0.0127 - accuracy: 0.9953 - val_loss: 1.2739 - val_accuracy: 0.8050\n",
      "Epoch 22/50\n",
      "782/782 [==============================] - 13s 16ms/step - loss: 0.0050 - accuracy: 0.9980 - val_loss: 1.3420 - val_accuracy: 0.8028\n",
      "Epoch 23/50\n",
      "782/782 [==============================] - 13s 16ms/step - loss: 0.0040 - accuracy: 0.9988 - val_loss: 1.3757 - val_accuracy: 0.8058\n",
      "Epoch 24/50\n",
      "782/782 [==============================] - 13s 17ms/step - loss: 0.0069 - accuracy: 0.9976 - val_loss: 1.4577 - val_accuracy: 0.8033\n",
      "Epoch 25/50\n",
      "782/782 [==============================] - 13s 16ms/step - loss: 0.0059 - accuracy: 0.9979 - val_loss: 1.4441 - val_accuracy: 0.8009\n",
      "Epoch 26/50\n",
      "782/782 [==============================] - 13s 17ms/step - loss: 0.0028 - accuracy: 0.9992 - val_loss: 1.4520 - val_accuracy: 0.8055\n",
      "Epoch 27/50\n",
      "782/782 [==============================] - 13s 17ms/step - loss: 0.0029 - accuracy: 0.9990 - val_loss: 1.5051 - val_accuracy: 0.8088\n",
      "Epoch 28/50\n",
      "782/782 [==============================] - 13s 17ms/step - loss: 0.0083 - accuracy: 0.9974 - val_loss: 1.4914 - val_accuracy: 0.8054\n",
      "Epoch 29/50\n",
      "782/782 [==============================] - 13s 17ms/step - loss: 0.0059 - accuracy: 0.9980 - val_loss: 1.3627 - val_accuracy: 0.8006\n",
      "Epoch 30/50\n",
      "782/782 [==============================] - 13s 16ms/step - loss: 0.0038 - accuracy: 0.9987 - val_loss: 1.4952 - val_accuracy: 0.8044\n",
      "Epoch 31/50\n",
      "782/782 [==============================] - 13s 17ms/step - loss: 0.0028 - accuracy: 0.9993 - val_loss: 1.5385 - val_accuracy: 0.8041\n",
      "Epoch 32/50\n",
      "782/782 [==============================] - 13s 17ms/step - loss: 0.0010 - accuracy: 0.9998 - val_loss: 1.6094 - val_accuracy: 0.8019\n",
      "Epoch 33/50\n",
      "782/782 [==============================] - 13s 17ms/step - loss: 1.1974e-04 - accuracy: 1.0000 - val_loss: 1.7422 - val_accuracy: 0.8049\n",
      "Epoch 34/50\n",
      "782/782 [==============================] - 13s 16ms/step - loss: 2.5631e-05 - accuracy: 1.0000 - val_loss: 1.7943 - val_accuracy: 0.8067\n",
      "Epoch 35/50\n",
      "782/782 [==============================] - 13s 17ms/step - loss: 1.6289e-05 - accuracy: 1.0000 - val_loss: 1.8475 - val_accuracy: 0.8058\n",
      "Epoch 36/50\n",
      "782/782 [==============================] - 13s 17ms/step - loss: 1.1168e-05 - accuracy: 1.0000 - val_loss: 1.9065 - val_accuracy: 0.8061\n",
      "Epoch 37/50\n",
      "782/782 [==============================] - 13s 17ms/step - loss: 7.7351e-06 - accuracy: 1.0000 - val_loss: 1.9608 - val_accuracy: 0.8066\n",
      "Epoch 38/50\n",
      "782/782 [==============================] - 13s 16ms/step - loss: 5.3368e-06 - accuracy: 1.0000 - val_loss: 2.0181 - val_accuracy: 0.8072\n",
      "Epoch 39/50\n",
      "782/782 [==============================] - 13s 17ms/step - loss: 3.6609e-06 - accuracy: 1.0000 - val_loss: 2.0799 - val_accuracy: 0.8073\n",
      "Epoch 40/50\n",
      "782/782 [==============================] - 13s 16ms/step - loss: 2.4933e-06 - accuracy: 1.0000 - val_loss: 2.1426 - val_accuracy: 0.8068\n",
      "Epoch 41/50\n",
      "782/782 [==============================] - 13s 16ms/step - loss: 1.6888e-06 - accuracy: 1.0000 - val_loss: 2.2024 - val_accuracy: 0.8068\n",
      "Epoch 42/50\n",
      "782/782 [==============================] - 13s 17ms/step - loss: 1.1349e-06 - accuracy: 1.0000 - val_loss: 2.2646 - val_accuracy: 0.8069\n",
      "Epoch 43/50\n",
      "782/782 [==============================] - 13s 17ms/step - loss: 7.6173e-07 - accuracy: 1.0000 - val_loss: 2.3322 - val_accuracy: 0.8064\n",
      "Epoch 44/50\n",
      "782/782 [==============================] - 13s 17ms/step - loss: 5.0810e-07 - accuracy: 1.0000 - val_loss: 2.3956 - val_accuracy: 0.8066\n",
      "Epoch 45/50\n",
      "782/782 [==============================] - 13s 17ms/step - loss: 3.3812e-07 - accuracy: 1.0000 - val_loss: 2.4632 - val_accuracy: 0.8065\n",
      "Epoch 46/50\n",
      "782/782 [==============================] - 13s 16ms/step - loss: 2.2544e-07 - accuracy: 1.0000 - val_loss: 2.5299 - val_accuracy: 0.8064\n",
      "Epoch 47/50\n",
      "782/782 [==============================] - 13s 17ms/step - loss: 1.4974e-07 - accuracy: 1.0000 - val_loss: 2.5981 - val_accuracy: 0.8065\n",
      "Epoch 48/50\n",
      "782/782 [==============================] - 13s 17ms/step - loss: 1.0014e-07 - accuracy: 1.0000 - val_loss: 2.6643 - val_accuracy: 0.8062\n",
      "Epoch 49/50\n",
      "782/782 [==============================] - 13s 17ms/step - loss: 6.7264e-08 - accuracy: 1.0000 - val_loss: 2.7314 - val_accuracy: 0.8062\n",
      "Epoch 50/50\n",
      "782/782 [==============================] - 13s 17ms/step - loss: 4.5558e-08 - accuracy: 1.0000 - val_loss: 2.7942 - val_accuracy: 0.8060\n"
     ]
    }
   ],
   "source": [
    "# training\n",
    "num_epochs = 50\n",
    "history = model.fit(padded, training_labels_final, epochs=num_epochs, validation_data=(testing_padded, testing_labels_final))"
   ]
  },
  {
   "cell_type": "code",
   "execution_count": 8,
   "metadata": {
    "colab": {
     "base_uri": "https://localhost:8080/",
     "height": 541
    },
    "colab_type": "code",
    "id": "nHGYuU4jPYaj",
    "outputId": "9abf4cea-1984-4b5d-b07c-8d7831d8e0b0"
   },
   "outputs": [
    {
     "data": {
      "image/png": "[encoded data removed]",
      "text/plain": [
       "<Figure size 432x288 with 1 Axes>"
      ]
     },
     "metadata": {
      "needs_background": "light",
      "tags": []
     },
     "output_type": "display_data"
    },
    {
     "data": {
      "image/png": "[encoded data removed]",
      "text/plain": [
       "<Figure size 432x288 with 1 Axes>"
      ]
     },
     "metadata": {
      "needs_background": "light",
      "tags": []
     },
     "output_type": "display_data"
    }
   ],
   "source": [
    "import matplotlib.pyplot as plt\n",
    "\n",
    "def plot_graphs(history, string):\n",
    "  plt.plot(history.history[string])\n",
    "  plt.plot(history.history['val_'+string])\n",
    "  plt.xlabel(\"Epochs\")\n",
    "  plt.ylabel(string)\n",
    "  plt.legend([string, 'val_'+string])\n",
    "  plt.show()\n",
    "\n",
    "plot_graphs(history, 'accuracy')\n",
    "plot_graphs(history, 'loss')"
   ]
  },
  {
   "cell_type": "markdown",
   "metadata": {
    "colab_type": "text",
    "id": "4kPabUW2748H"
   },
   "source": [
    "## LSTM model design"
   ]
  },
  {
   "cell_type": "code",
   "execution_count": 9,
   "metadata": {
    "colab": {
     "base_uri": "https://localhost:8080/",
     "height": 303
    },
    "colab_type": "code",
    "id": "wSualgGPPK0S",
    "outputId": "75e7d94b-7009-4bd0-ce41-eeda6ab3c372"
   },
   "outputs": [
    {
     "name": "stdout",
     "output_type": "stream",
     "text": [
      "Model: \"sequential_1\"\n",
      "_________________________________________________________________\n",
      "Layer (type)                 Output Shape              Param #   \n",
      "=================================================================\n",
      "embedding_1 (Embedding)      (None, 120, 16)           160000    \n",
      "_________________________________________________________________\n",
      "bidirectional_1 (Bidirection (None, 64)                12544     \n",
      "_________________________________________________________________\n",
      "dense_2 (Dense)              (None, 6)                 390       \n",
      "_________________________________________________________________\n",
      "dense_3 (Dense)              (None, 1)                 7         \n",
      "=================================================================\n",
      "Total params: 172,941\n",
      "Trainable params: 172,941\n",
      "Non-trainable params: 0\n",
      "_________________________________________________________________\n"
     ]
    }
   ],
   "source": [
    "# Model Definition with LSTM\n",
    "model = tf.keras.Sequential([\n",
    "    tf.keras.layers.Embedding(vocab_size, embedding_dim, input_length=max_length),\n",
    "    tf.keras.layers.Bidirectional(tf.keras.layers.LSTM(32)),\n",
    "    tf.keras.layers.Dense(6, activation='relu'),\n",
    "    tf.keras.layers.Dense(1, activation='sigmoid')\n",
    "])\n",
    "model.compile(loss='binary_crossentropy',optimizer='adam',metrics=['accuracy'])\n",
    "model.summary()"
   ]
  },
  {
   "cell_type": "code",
   "execution_count": 10,
   "metadata": {
    "colab": {
     "base_uri": "https://localhost:8080/",
     "height": 1000
    },
    "colab_type": "code",
    "id": "Hzi43p2k8RwS",
    "outputId": "40ea0ade-e465-4349-99d6-08681147a2c9"
   },
   "outputs": [
    {
     "name": "stdout",
     "output_type": "stream",
     "text": [
      "Epoch 1/50\n",
      "782/782 [==============================] - 14s 18ms/step - loss: 0.5325 - accuracy: 0.7170 - val_loss: 0.3678 - val_accuracy: 0.8392\n",
      "Epoch 2/50\n",
      "782/782 [==============================] - 13s 17ms/step - loss: 0.3211 - accuracy: 0.8701 - val_loss: 0.3659 - val_accuracy: 0.8440\n",
      "Epoch 3/50\n",
      "782/782 [==============================] - 13s 17ms/step - loss: 0.2529 - accuracy: 0.9027 - val_loss: 0.3715 - val_accuracy: 0.8430\n",
      "Epoch 4/50\n",
      "782/782 [==============================] - 13s 17ms/step - loss: 0.2105 - accuracy: 0.9212 - val_loss: 0.4184 - val_accuracy: 0.8361\n",
      "Epoch 5/50\n",
      "782/782 [==============================] - 13s 17ms/step - loss: 0.1743 - accuracy: 0.9374 - val_loss: 0.4414 - val_accuracy: 0.8258\n",
      "Epoch 6/50\n",
      "782/782 [==============================] - 13s 17ms/step - loss: 0.1421 - accuracy: 0.9505 - val_loss: 0.4908 - val_accuracy: 0.8174\n",
      "Epoch 7/50\n",
      "782/782 [==============================] - 14s 17ms/step - loss: 0.1123 - accuracy: 0.9626 - val_loss: 0.4889 - val_accuracy: 0.8217\n",
      "Epoch 8/50\n",
      "782/782 [==============================] - 13s 17ms/step - loss: 0.0798 - accuracy: 0.9749 - val_loss: 0.6002 - val_accuracy: 0.8221\n",
      "Epoch 9/50\n",
      "782/782 [==============================] - 13s 17ms/step - loss: 0.0628 - accuracy: 0.9792 - val_loss: 0.6592 - val_accuracy: 0.8143\n",
      "Epoch 10/50\n",
      "782/782 [==============================] - 13s 17ms/step - loss: 0.0504 - accuracy: 0.9847 - val_loss: 0.7185 - val_accuracy: 0.7967\n",
      "Epoch 11/50\n",
      "782/782 [==============================] - 13s 17ms/step - loss: 0.0438 - accuracy: 0.9862 - val_loss: 0.8062 - val_accuracy: 0.8194\n",
      "Epoch 12/50\n",
      "782/782 [==============================] - 13s 17ms/step - loss: 0.0329 - accuracy: 0.9896 - val_loss: 0.8145 - val_accuracy: 0.8118\n",
      "Epoch 13/50\n",
      "782/782 [==============================] - 14s 17ms/step - loss: 0.0331 - accuracy: 0.9891 - val_loss: 0.8711 - val_accuracy: 0.8051\n",
      "Epoch 14/50\n",
      "782/782 [==============================] - 13s 17ms/step - loss: 0.0218 - accuracy: 0.9936 - val_loss: 0.8990 - val_accuracy: 0.8019\n",
      "Epoch 15/50\n",
      "782/782 [==============================] - 14s 17ms/step - loss: 0.0277 - accuracy: 0.9912 - val_loss: 0.8076 - val_accuracy: 0.8134\n",
      "Epoch 16/50\n",
      "782/782 [==============================] - 14s 18ms/step - loss: 0.0183 - accuracy: 0.9948 - val_loss: 1.0060 - val_accuracy: 0.8156\n",
      "Epoch 17/50\n",
      "782/782 [==============================] - 14s 18ms/step - loss: 0.0138 - accuracy: 0.9954 - val_loss: 1.0505 - val_accuracy: 0.8108\n",
      "Epoch 18/50\n",
      "782/782 [==============================] - 13s 17ms/step - loss: 0.0124 - accuracy: 0.9960 - val_loss: 1.0989 - val_accuracy: 0.8146\n",
      "Epoch 19/50\n",
      "782/782 [==============================] - 14s 17ms/step - loss: 0.0139 - accuracy: 0.9958 - val_loss: 1.0168 - val_accuracy: 0.8071\n",
      "Epoch 20/50\n",
      "782/782 [==============================] - 13s 17ms/step - loss: 0.0171 - accuracy: 0.9944 - val_loss: 1.0448 - val_accuracy: 0.8082\n",
      "Epoch 21/50\n",
      "782/782 [==============================] - 13s 17ms/step - loss: 0.0087 - accuracy: 0.9972 - val_loss: 1.1378 - val_accuracy: 0.8126\n",
      "Epoch 22/50\n",
      "782/782 [==============================] - 13s 17ms/step - loss: 0.0050 - accuracy: 0.9987 - val_loss: 1.1986 - val_accuracy: 0.8112\n",
      "Epoch 23/50\n",
      "782/782 [==============================] - 13s 17ms/step - loss: 0.0093 - accuracy: 0.9971 - val_loss: 1.1090 - val_accuracy: 0.8076\n",
      "Epoch 24/50\n",
      "782/782 [==============================] - 13s 17ms/step - loss: 0.0174 - accuracy: 0.9946 - val_loss: 1.1310 - val_accuracy: 0.8146\n",
      "Epoch 25/50\n",
      "782/782 [==============================] - 14s 17ms/step - loss: 0.0034 - accuracy: 0.9989 - val_loss: 1.3982 - val_accuracy: 0.8102\n",
      "Epoch 26/50\n",
      "782/782 [==============================] - 13s 17ms/step - loss: 0.0098 - accuracy: 0.9965 - val_loss: 1.1026 - val_accuracy: 0.8047\n",
      "Epoch 27/50\n",
      "782/782 [==============================] - 13s 17ms/step - loss: 0.0054 - accuracy: 0.9985 - val_loss: 1.1560 - val_accuracy: 0.7988\n",
      "Epoch 28/50\n",
      "782/782 [==============================] - 13s 17ms/step - loss: 0.0138 - accuracy: 0.9951 - val_loss: 1.1711 - val_accuracy: 0.8048\n",
      "Epoch 29/50\n",
      "782/782 [==============================] - 13s 17ms/step - loss: 0.0047 - accuracy: 0.9984 - val_loss: 1.2482 - val_accuracy: 0.8052\n",
      "Epoch 30/50\n",
      "782/782 [==============================] - 13s 17ms/step - loss: 0.0041 - accuracy: 0.9988 - val_loss: 1.1978 - val_accuracy: 0.7963\n",
      "Epoch 31/50\n",
      "782/782 [==============================] - 14s 17ms/step - loss: 0.0117 - accuracy: 0.9963 - val_loss: 1.2494 - val_accuracy: 0.7966\n",
      "Epoch 32/50\n",
      "782/782 [==============================] - 13s 17ms/step - loss: 0.0069 - accuracy: 0.9980 - val_loss: 1.1931 - val_accuracy: 0.8056\n",
      "Epoch 33/50\n",
      "782/782 [==============================] - 13s 17ms/step - loss: 8.6871e-04 - accuracy: 0.9998 - val_loss: 1.3604 - val_accuracy: 0.8057\n",
      "Epoch 34/50\n",
      "782/782 [==============================] - 13s 17ms/step - loss: 0.0055 - accuracy: 0.9985 - val_loss: 1.2793 - val_accuracy: 0.8160\n",
      "Epoch 35/50\n",
      "782/782 [==============================] - 13s 17ms/step - loss: 0.0056 - accuracy: 0.9981 - val_loss: 1.2915 - val_accuracy: 0.8072\n",
      "Epoch 36/50\n",
      "782/782 [==============================] - 14s 17ms/step - loss: 0.0041 - accuracy: 0.9988 - val_loss: 1.3099 - val_accuracy: 0.8000\n",
      "Epoch 37/50\n",
      "782/782 [==============================] - 14s 18ms/step - loss: 0.0072 - accuracy: 0.9976 - val_loss: 1.2041 - val_accuracy: 0.7986\n",
      "Epoch 38/50\n",
      "782/782 [==============================] - 13s 17ms/step - loss: 0.0039 - accuracy: 0.9988 - val_loss: 1.3010 - val_accuracy: 0.8056\n",
      "Epoch 39/50\n",
      "782/782 [==============================] - 14s 18ms/step - loss: 0.0011 - accuracy: 0.9997 - val_loss: 1.2702 - val_accuracy: 0.8053\n",
      "Epoch 40/50\n",
      "782/782 [==============================] - 14s 18ms/step - loss: 0.0060 - accuracy: 0.9984 - val_loss: 1.2251 - val_accuracy: 0.7995\n",
      "Epoch 41/50\n",
      "782/782 [==============================] - 13s 17ms/step - loss: 0.0065 - accuracy: 0.9978 - val_loss: 1.3544 - val_accuracy: 0.8012\n",
      "Epoch 42/50\n",
      "782/782 [==============================] - 14s 17ms/step - loss: 0.0022 - accuracy: 0.9994 - val_loss: 1.3727 - val_accuracy: 0.7978\n",
      "Epoch 43/50\n",
      "782/782 [==============================] - 14s 17ms/step - loss: 6.0240e-04 - accuracy: 0.9999 - val_loss: 1.5255 - val_accuracy: 0.8043\n",
      "Epoch 44/50\n",
      "782/782 [==============================] - 14s 17ms/step - loss: 4.3506e-05 - accuracy: 1.0000 - val_loss: 1.6033 - val_accuracy: 0.8058\n",
      "Epoch 45/50\n",
      "782/782 [==============================] - 14s 17ms/step - loss: 2.4550e-05 - accuracy: 1.0000 - val_loss: 1.6648 - val_accuracy: 0.8059\n",
      "Epoch 46/50\n",
      "782/782 [==============================] - 13s 17ms/step - loss: 1.6049e-05 - accuracy: 1.0000 - val_loss: 1.7299 - val_accuracy: 0.8061\n",
      "Epoch 47/50\n",
      "782/782 [==============================] - 13s 17ms/step - loss: 1.0648e-05 - accuracy: 1.0000 - val_loss: 1.7951 - val_accuracy: 0.8052\n",
      "Epoch 48/50\n",
      "782/782 [==============================] - 14s 17ms/step - loss: 7.0161e-06 - accuracy: 1.0000 - val_loss: 1.8622 - val_accuracy: 0.8045\n",
      "Epoch 49/50\n",
      "782/782 [==============================] - 14s 17ms/step - loss: 4.5884e-06 - accuracy: 1.0000 - val_loss: 1.9354 - val_accuracy: 0.8048\n",
      "Epoch 50/50\n",
      "782/782 [==============================] - 14s 17ms/step - loss: 2.9918e-06 - accuracy: 1.0000 - val_loss: 2.0070 - val_accuracy: 0.8054\n"
     ]
    }
   ],
   "source": [
    "# training\n",
    "num_epochs = 50\n",
    "history = model.fit(padded, training_labels_final, epochs=num_epochs, validation_data=(testing_padded, testing_labels_final))"
   ]
  },
  {
   "cell_type": "code",
   "execution_count": 11,
   "metadata": {
    "colab": {
     "base_uri": "https://localhost:8080/",
     "height": 541
    },
    "colab_type": "code",
    "id": "fT3UIEMR8R5k",
    "outputId": "4814cf27-726a-4dde-bd92-99ea65d35b62"
   },
   "outputs": [
    {
     "data": {
      "image/png": "[encoded data removed]",
      "text/plain": [
       "<Figure size 432x288 with 1 Axes>"
      ]
     },
     "metadata": {
      "needs_background": "light",
      "tags": []
     },
     "output_type": "display_data"
    },
    {
     "data": {
      "image/png": "[encoded data removed]",
      "text/plain": [
       "<Figure size 432x288 with 1 Axes>"
      ]
     },
     "metadata": {
      "needs_background": "light",
      "tags": []
     },
     "output_type": "display_data"
    }
   ],
   "source": [
    "import matplotlib.pyplot as plt\n",
    "\n",
    "def plot_graphs(history, string):\n",
    "  plt.plot(history.history[string])\n",
    "  plt.plot(history.history['val_'+string])\n",
    "  plt.xlabel(\"Epochs\")\n",
    "  plt.ylabel(string)\n",
    "  plt.legend([string, 'val_'+string])\n",
    "  plt.show()\n",
    "\n",
    "plot_graphs(history, 'accuracy')\n",
    "plot_graphs(history, 'loss')"
   ]
  },
  {
   "cell_type": "markdown",
   "metadata": {
    "colab_type": "text",
    "id": "5b3ZkDCp8KDD"
   },
   "source": [
    "## Conv1d model design"
   ]
  },
  {
   "cell_type": "code",
   "execution_count": 12,
   "metadata": {
    "colab": {
     "base_uri": "https://localhost:8080/",
     "height": 339
    },
    "colab_type": "code",
    "id": "K_Jc7cY3Qxke",
    "outputId": "8fc4359f-5879-4d0c-f2ea-0c7f971f460a"
   },
   "outputs": [
    {
     "name": "stdout",
     "output_type": "stream",
     "text": [
      "Model: \"sequential_2\"\n",
      "_________________________________________________________________\n",
      "Layer (type)                 Output Shape              Param #   \n",
      "=================================================================\n",
      "embedding_2 (Embedding)      (None, 120, 16)           160000    \n",
      "_________________________________________________________________\n",
      "conv1d (Conv1D)              (None, 116, 128)          10368     \n",
      "_________________________________________________________________\n",
      "global_average_pooling1d (Gl (None, 128)               0         \n",
      "_________________________________________________________________\n",
      "dense_4 (Dense)              (None, 6)                 774       \n",
      "_________________________________________________________________\n",
      "dense_5 (Dense)              (None, 1)                 7         \n",
      "=================================================================\n",
      "Total params: 171,149\n",
      "Trainable params: 171,149\n",
      "Non-trainable params: 0\n",
      "_________________________________________________________________\n"
     ]
    }
   ],
   "source": [
    "# Model Definition with Conv1D\n",
    "model = tf.keras.Sequential([\n",
    "    tf.keras.layers.Embedding(vocab_size, embedding_dim, input_length=max_length),\n",
    "    tf.keras.layers.Conv1D(128, 5, activation='relu'),\n",
    "    tf.keras.layers.GlobalAveragePooling1D(),\n",
    "    tf.keras.layers.Dense(6, activation='relu'),\n",
    "    tf.keras.layers.Dense(1, activation='sigmoid')\n",
    "])\n",
    "model.compile(loss='binary_crossentropy',optimizer='adam',metrics=['accuracy'])\n",
    "model.summary()"
   ]
  },
  {
   "cell_type": "code",
   "execution_count": 13,
   "metadata": {
    "colab": {
     "base_uri": "https://localhost:8080/",
     "height": 1000
    },
    "colab_type": "code",
    "id": "Sl2aiavH8ZKu",
    "outputId": "5bcb7dde-5cd9-4fdc-d2a2-a2d361b3bd6a"
   },
   "outputs": [
    {
     "name": "stdout",
     "output_type": "stream",
     "text": [
      "Epoch 1/50\n",
      "782/782 [==============================] - 5s 7ms/step - loss: 0.5371 - accuracy: 0.7587 - val_loss: 0.4359 - val_accuracy: 0.8431\n",
      "Epoch 2/50\n",
      "782/782 [==============================] - 5s 7ms/step - loss: 0.3662 - accuracy: 0.8764 - val_loss: 0.3972 - val_accuracy: 0.8451\n",
      "Epoch 3/50\n",
      "782/782 [==============================] - 5s 7ms/step - loss: 0.2897 - accuracy: 0.9046 - val_loss: 0.3985 - val_accuracy: 0.8358\n",
      "Epoch 4/50\n",
      "782/782 [==============================] - 5s 7ms/step - loss: 0.2367 - accuracy: 0.9254 - val_loss: 0.4774 - val_accuracy: 0.8317\n",
      "Epoch 5/50\n",
      "782/782 [==============================] - 6s 7ms/step - loss: 0.2022 - accuracy: 0.9381 - val_loss: 0.5019 - val_accuracy: 0.8304\n",
      "Epoch 6/50\n",
      "782/782 [==============================] - 5s 7ms/step - loss: 0.1760 - accuracy: 0.9479 - val_loss: 0.5318 - val_accuracy: 0.8228\n",
      "Epoch 7/50\n",
      "782/782 [==============================] - 5s 7ms/step - loss: 0.1545 - accuracy: 0.9570 - val_loss: 0.6251 - val_accuracy: 0.8218\n",
      "Epoch 8/50\n",
      "782/782 [==============================] - 5s 7ms/step - loss: 0.1382 - accuracy: 0.9627 - val_loss: 0.7249 - val_accuracy: 0.8188\n",
      "Epoch 9/50\n",
      "782/782 [==============================] - 5s 7ms/step - loss: 0.1294 - accuracy: 0.9649 - val_loss: 0.8900 - val_accuracy: 0.8164\n",
      "Epoch 10/50\n",
      "782/782 [==============================] - 5s 7ms/step - loss: 0.1232 - accuracy: 0.9672 - val_loss: 0.8189 - val_accuracy: 0.8149\n",
      "Epoch 11/50\n",
      "782/782 [==============================] - 5s 7ms/step - loss: 0.1164 - accuracy: 0.9698 - val_loss: 0.9059 - val_accuracy: 0.8183\n",
      "Epoch 12/50\n",
      "782/782 [==============================] - 5s 7ms/step - loss: 0.1166 - accuracy: 0.9696 - val_loss: 0.9667 - val_accuracy: 0.8168\n",
      "Epoch 13/50\n",
      "782/782 [==============================] - 5s 7ms/step - loss: 0.1164 - accuracy: 0.9691 - val_loss: 1.1215 - val_accuracy: 0.8139\n",
      "Epoch 14/50\n",
      "782/782 [==============================] - 5s 7ms/step - loss: 0.1169 - accuracy: 0.9686 - val_loss: 1.0194 - val_accuracy: 0.8153\n",
      "Epoch 15/50\n",
      "782/782 [==============================] - 5s 7ms/step - loss: 0.1185 - accuracy: 0.9680 - val_loss: 1.1661 - val_accuracy: 0.8150\n",
      "Epoch 16/50\n",
      "782/782 [==============================] - 5s 7ms/step - loss: 0.1120 - accuracy: 0.9710 - val_loss: 1.1524 - val_accuracy: 0.8157\n",
      "Epoch 17/50\n",
      "782/782 [==============================] - 5s 7ms/step - loss: 0.1118 - accuracy: 0.9707 - val_loss: 1.3158 - val_accuracy: 0.8145\n",
      "Epoch 18/50\n",
      "782/782 [==============================] - 5s 7ms/step - loss: 0.1093 - accuracy: 0.9720 - val_loss: 1.1231 - val_accuracy: 0.8131\n",
      "Epoch 19/50\n",
      "782/782 [==============================] - 5s 7ms/step - loss: 0.1096 - accuracy: 0.9715 - val_loss: 1.5586 - val_accuracy: 0.8114\n",
      "Epoch 20/50\n",
      "782/782 [==============================] - 5s 7ms/step - loss: 0.1138 - accuracy: 0.9700 - val_loss: 1.1089 - val_accuracy: 0.8117\n",
      "Epoch 21/50\n",
      "782/782 [==============================] - 5s 7ms/step - loss: 0.1097 - accuracy: 0.9714 - val_loss: 1.0950 - val_accuracy: 0.8092\n",
      "Epoch 22/50\n",
      "782/782 [==============================] - 5s 7ms/step - loss: 0.1108 - accuracy: 0.9712 - val_loss: 1.3040 - val_accuracy: 0.8138\n",
      "Epoch 23/50\n",
      "782/782 [==============================] - 5s 7ms/step - loss: 0.1079 - accuracy: 0.9725 - val_loss: 1.2787 - val_accuracy: 0.8141\n",
      "Epoch 24/50\n",
      "782/782 [==============================] - 5s 7ms/step - loss: 0.1088 - accuracy: 0.9718 - val_loss: 1.2673 - val_accuracy: 0.8114\n",
      "Epoch 25/50\n",
      "782/782 [==============================] - 5s 7ms/step - loss: 0.1083 - accuracy: 0.9721 - val_loss: 1.4781 - val_accuracy: 0.8114\n",
      "Epoch 26/50\n",
      "782/782 [==============================] - 5s 7ms/step - loss: 0.1114 - accuracy: 0.9707 - val_loss: 1.4972 - val_accuracy: 0.8114\n",
      "Epoch 27/50\n",
      "782/782 [==============================] - 5s 7ms/step - loss: 0.1072 - accuracy: 0.9726 - val_loss: 1.2209 - val_accuracy: 0.8127\n",
      "Epoch 28/50\n",
      "782/782 [==============================] - 5s 7ms/step - loss: 0.1065 - accuracy: 0.9730 - val_loss: 1.3884 - val_accuracy: 0.8142\n",
      "Epoch 29/50\n",
      "782/782 [==============================] - 5s 7ms/step - loss: 0.1088 - accuracy: 0.9718 - val_loss: 1.4127 - val_accuracy: 0.8145\n",
      "Epoch 30/50\n",
      "782/782 [==============================] - 6s 7ms/step - loss: 0.1065 - accuracy: 0.9727 - val_loss: 1.5832 - val_accuracy: 0.8142\n",
      "Epoch 31/50\n",
      "782/782 [==============================] - 6s 7ms/step - loss: 0.1064 - accuracy: 0.9728 - val_loss: 1.5134 - val_accuracy: 0.8137\n",
      "Epoch 32/50\n",
      "782/782 [==============================] - 5s 7ms/step - loss: 0.1042 - accuracy: 0.9737 - val_loss: 1.5231 - val_accuracy: 0.8136\n",
      "Epoch 33/50\n",
      "782/782 [==============================] - 5s 7ms/step - loss: 0.1048 - accuracy: 0.9736 - val_loss: 1.2507 - val_accuracy: 0.8122\n",
      "Epoch 34/50\n",
      "782/782 [==============================] - 5s 7ms/step - loss: 0.1044 - accuracy: 0.9737 - val_loss: 1.5188 - val_accuracy: 0.8138\n",
      "Epoch 35/50\n",
      "782/782 [==============================] - 5s 7ms/step - loss: 0.1037 - accuracy: 0.9738 - val_loss: 1.3700 - val_accuracy: 0.8128\n",
      "Epoch 36/50\n",
      "782/782 [==============================] - 5s 7ms/step - loss: 0.1035 - accuracy: 0.9738 - val_loss: 1.6317 - val_accuracy: 0.8136\n",
      "Epoch 37/50\n",
      "782/782 [==============================] - 5s 7ms/step - loss: 0.1034 - accuracy: 0.9738 - val_loss: 1.6433 - val_accuracy: 0.8114\n",
      "Epoch 38/50\n",
      "782/782 [==============================] - 5s 7ms/step - loss: 0.1028 - accuracy: 0.9743 - val_loss: 1.5818 - val_accuracy: 0.8107\n",
      "Epoch 39/50\n",
      "782/782 [==============================] - 5s 7ms/step - loss: 0.1046 - accuracy: 0.9733 - val_loss: 1.5725 - val_accuracy: 0.8136\n",
      "Epoch 40/50\n",
      "782/782 [==============================] - 5s 7ms/step - loss: 0.1062 - accuracy: 0.9730 - val_loss: 1.2653 - val_accuracy: 0.8090\n",
      "Epoch 41/50\n",
      "782/782 [==============================] - 5s 7ms/step - loss: 0.1016 - accuracy: 0.9745 - val_loss: 1.4146 - val_accuracy: 0.8116\n",
      "Epoch 42/50\n",
      "782/782 [==============================] - 5s 7ms/step - loss: 0.1009 - accuracy: 0.9748 - val_loss: 1.4003 - val_accuracy: 0.8110\n",
      "Epoch 43/50\n",
      "782/782 [==============================] - 5s 7ms/step - loss: 0.1022 - accuracy: 0.9745 - val_loss: 1.4467 - val_accuracy: 0.8101\n",
      "Epoch 44/50\n",
      "782/782 [==============================] - 5s 7ms/step - loss: 0.1038 - accuracy: 0.9734 - val_loss: 1.4599 - val_accuracy: 0.8091\n",
      "Epoch 45/50\n",
      "782/782 [==============================] - 5s 7ms/step - loss: 0.1028 - accuracy: 0.9740 - val_loss: 1.4919 - val_accuracy: 0.8124\n",
      "Epoch 46/50\n",
      "782/782 [==============================] - 5s 7ms/step - loss: 0.0995 - accuracy: 0.9753 - val_loss: 1.4561 - val_accuracy: 0.8113\n",
      "Epoch 47/50\n",
      "782/782 [==============================] - 5s 7ms/step - loss: 0.0987 - accuracy: 0.9757 - val_loss: 1.4745 - val_accuracy: 0.8112\n",
      "Epoch 48/50\n",
      "782/782 [==============================] - 5s 7ms/step - loss: 0.0985 - accuracy: 0.9757 - val_loss: 1.5216 - val_accuracy: 0.8114\n",
      "Epoch 49/50\n",
      "782/782 [==============================] - 5s 7ms/step - loss: 0.1003 - accuracy: 0.9750 - val_loss: 1.6810 - val_accuracy: 0.8066\n",
      "Epoch 50/50\n",
      "782/782 [==============================] - 5s 7ms/step - loss: 0.1083 - accuracy: 0.9718 - val_loss: 1.4444 - val_accuracy: 0.8115\n"
     ]
    }
   ],
   "source": [
    "# training\n",
    "num_epochs = 50\n",
    "history = model.fit(padded, training_labels_final, epochs=num_epochs, validation_data=(testing_padded, testing_labels_final))"
   ]
  },
  {
   "cell_type": "code",
   "execution_count": 14,
   "metadata": {
    "colab": {
     "base_uri": "https://localhost:8080/",
     "height": 541
    },
    "colab_type": "code",
    "id": "LEFfMvXk8Zcd",
    "outputId": "70041678-87d1-46d3-ec0c-26e3f1dd2888"
   },
   "outputs": [
    {
     "data": {
      "image/png": "[encoded data removed]",
      "text/plain": [
       "<Figure size 432x288 with 1 Axes>"
      ]
     },
     "metadata": {
      "needs_background": "light",
      "tags": []
     },
     "output_type": "display_data"
    },
    {
     "data": {
      "image/png": "[encoded data removed]",
      "text/plain": [
       "<Figure size 432x288 with 1 Axes>"
      ]
     },
     "metadata": {
      "needs_background": "light",
      "tags": []
     },
     "output_type": "display_data"
    }
   ],
   "source": [
    "import matplotlib.pyplot as plt\n",
    "\n",
    "def plot_graphs(history, string):\n",
    "  plt.plot(history.history[string])\n",
    "  plt.plot(history.history['val_'+string])\n",
    "  plt.xlabel(\"Epochs\")\n",
    "  plt.ylabel(string)\n",
    "  plt.legend([string, 'val_'+string])\n",
    "  plt.show()\n",
    "\n",
    "plot_graphs(history, 'accuracy')\n",
    "plot_graphs(history, 'loss')"
   ]
  },
  {
   "cell_type": "code",
   "execution_count": 14,
   "metadata": {
    "colab": {},
    "colab_type": "code",
    "id": "B9ffphrB9nmi"
   },
   "outputs": [],
   "source": []
  }
 ],
 "metadata": {
  "accelerator": "GPU",
  "colab": {
   "collapsed_sections": [],
   "name": "Course 3 - Week 3 - Lesson 2d.ipynb",
   "provenance": [],
   "toc_visible": true
  },
  "kernelspec": {
   "display_name": "Python 3",
   "language": "python",
   "name": "python3"
  },
  "language_info": {
   "codemirror_mode": {
    "name": "ipython",
    "version": 3
   },
   "file_extension": ".py",
   "mimetype": "text/x-python",
   "name": "python",
   "nbconvert_exporter": "python",
   "pygments_lexer": "ipython3",
   "version": "3.7.9"
  }
 },
 "nbformat": 4,
 "nbformat_minor": 4
}
