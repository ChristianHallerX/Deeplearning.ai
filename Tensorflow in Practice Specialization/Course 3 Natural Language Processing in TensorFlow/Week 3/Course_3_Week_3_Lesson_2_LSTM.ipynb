{
 "cells": [
  {
   "cell_type": "markdown",
   "metadata": {
    "colab_type": "text",
    "id": "wkXGoS4ZRqa4"
   },
   "source": [
    "# Sarcasm with Single Layer LSTM"
   ]
  },
  {
   "cell_type": "code",
   "execution_count": 1,
   "metadata": {
    "colab": {},
    "colab_type": "code",
    "id": "1ppnEsS7RxaA"
   },
   "outputs": [],
   "source": [
    "import numpy as np\n",
    "\n",
    "import json\n",
    "import tensorflow as tf\n",
    "\n",
    "from tensorflow.keras.preprocessing.text import Tokenizer\n",
    "from tensorflow.keras.preprocessing.sequence import pad_sequences"
   ]
  },
  {
   "cell_type": "code",
   "execution_count": 2,
   "metadata": {
    "colab": {
     "base_uri": "https://localhost:8080/",
     "height": 214
    },
    "colab_type": "code",
    "id": "8_plsiBkR1hS",
    "outputId": "995fa44d-5add-46c8-feb2-210c9716b44a"
   },
   "outputs": [
    {
     "name": "stdout",
     "output_type": "stream",
     "text": [
      "--2020-07-09 15:54:24--  https://storage.googleapis.com/laurencemoroney-blog.appspot.com/sarcasm.json\n",
      "Resolving storage.googleapis.com (storage.googleapis.com)... 173.194.217.128, 173.194.218.128, 108.177.11.128, ...\n",
      "Connecting to storage.googleapis.com (storage.googleapis.com)|173.194.217.128|:443... connected.\n",
      "HTTP request sent, awaiting response... 200 OK\n",
      "Length: 5643545 (5.4M) [application/json]\n",
      "Saving to: ‘/tmp/sarcasm.json’\n",
      "\n",
      "/tmp/sarcasm.json   100%[===================>]   5.38M  --.-KB/s    in 0.03s   \n",
      "\n",
      "2020-07-09 15:54:24 (163 MB/s) - ‘/tmp/sarcasm.json’ saved [5643545/5643545]\n",
      "\n"
     ]
    }
   ],
   "source": [
    "!wget --no-check-certificate \\\n",
    "    https://storage.googleapis.com/laurencemoroney-blog.appspot.com/sarcasm.json \\\n",
    "    -O /tmp/sarcasm.json"
   ]
  },
  {
   "cell_type": "code",
   "execution_count": 3,
   "metadata": {
    "colab": {},
    "colab_type": "code",
    "id": "R4mD0MMBR3uF"
   },
   "outputs": [],
   "source": [
    "vocab_size = 1000\n",
    "embedding_dim = 16\n",
    "max_length = 120\n",
    "trunc_type='post'\n",
    "padding_type='post'\n",
    "oov_tok = \"<OOV>\"\n",
    "training_size = 20000\n",
    "\n",
    "with open(\"/tmp/sarcasm.json\", 'r') as f:\n",
    "    datastore = json.load(f)\n",
    "\n",
    "sentences = []\n",
    "labels = []\n",
    "urls = []\n",
    "for item in datastore:\n",
    "    sentences.append(item['headline'])\n",
    "    labels.append(item['is_sarcastic'])\n",
    "\n",
    "training_sentences = sentences[0:training_size]\n",
    "testing_sentences = sentences[training_size:]\n",
    "training_labels = labels[0:training_size]\n",
    "testing_labels = labels[training_size:]"
   ]
  },
  {
   "cell_type": "code",
   "execution_count": 4,
   "metadata": {
    "colab": {},
    "colab_type": "code",
    "id": "K1t5Eh4pR7n9"
   },
   "outputs": [],
   "source": [
    "tokenizer = Tokenizer(num_words=vocab_size, oov_token=oov_tok)\n",
    "tokenizer.fit_on_texts(training_sentences)\n",
    "\n",
    "word_index = tokenizer.word_index\n",
    "\n",
    "training_sequences = tokenizer.texts_to_sequences(training_sentences)\n",
    "training_padded = pad_sequences(training_sequences, maxlen=max_length, padding=padding_type, truncating=trunc_type)\n",
    "\n",
    "testing_sequences = tokenizer.texts_to_sequences(testing_sentences)\n",
    "testing_padded = pad_sequences(testing_sequences, maxlen=max_length, padding=padding_type, truncating=trunc_type)"
   ]
  },
  {
   "cell_type": "code",
   "execution_count": 5,
   "metadata": {
    "colab": {
     "base_uri": "https://localhost:8080/",
     "height": 303
    },
    "colab_type": "code",
    "id": "um5DT1GVSCbX",
    "outputId": "52f3e900-2192-4bab-f3f4-5e88d4bdbf8f"
   },
   "outputs": [
    {
     "name": "stdout",
     "output_type": "stream",
     "text": [
      "Model: \"sequential\"\n",
      "_________________________________________________________________\n",
      "Layer (type)                 Output Shape              Param #   \n",
      "=================================================================\n",
      "embedding (Embedding)        (None, 120, 16)           16000     \n",
      "_________________________________________________________________\n",
      "bidirectional (Bidirectional (None, 64)                12544     \n",
      "_________________________________________________________________\n",
      "dense (Dense)                (None, 24)                1560      \n",
      "_________________________________________________________________\n",
      "dense_1 (Dense)              (None, 1)                 25        \n",
      "=================================================================\n",
      "Total params: 30,129\n",
      "Trainable params: 30,129\n",
      "Non-trainable params: 0\n",
      "_________________________________________________________________\n"
     ]
    }
   ],
   "source": [
    "model = tf.keras.Sequential([\n",
    "    tf.keras.layers.Embedding(vocab_size, embedding_dim, input_length=max_length),\n",
    "    tf.keras.layers.Bidirectional(tf.keras.layers.LSTM(32)), ###<--- here is the bidirectional LSTM\n",
    "    tf.keras.layers.Dense(24, activation='relu'),\n",
    "    tf.keras.layers.Dense(1, activation='sigmoid')\n",
    "])\n",
    "model.compile(loss='binary_crossentropy',optimizer='adam',metrics=['accuracy'])\n",
    "model.summary()"
   ]
  },
  {
   "cell_type": "code",
   "execution_count": 6,
   "metadata": {
    "colab": {
     "base_uri": "https://localhost:8080/",
     "height": 1000
    },
    "colab_type": "code",
    "id": "jGwXGIXvFhXW",
    "outputId": "fe112c92-8953-4dba-ab56-6e5a6d2b794e"
   },
   "outputs": [
    {
     "name": "stdout",
     "output_type": "stream",
     "text": [
      "Epoch 1/50\n",
      "625/625 [==============================] - 37s 59ms/step - loss: 0.4501 - accuracy: 0.7734 - val_loss: 0.3973 - val_accuracy: 0.8074\n",
      "Epoch 2/50\n",
      "625/625 [==============================] - 36s 58ms/step - loss: 0.3555 - accuracy: 0.8378 - val_loss: 0.3822 - val_accuracy: 0.8283\n",
      "Epoch 3/50\n",
      "625/625 [==============================] - 36s 58ms/step - loss: 0.3287 - accuracy: 0.8522 - val_loss: 0.3723 - val_accuracy: 0.8328\n",
      "Epoch 4/50\n",
      "625/625 [==============================] - 36s 58ms/step - loss: 0.3105 - accuracy: 0.8619 - val_loss: 0.3765 - val_accuracy: 0.8310\n",
      "Epoch 5/50\n",
      "625/625 [==============================] - 36s 57ms/step - loss: 0.2977 - accuracy: 0.8694 - val_loss: 0.3740 - val_accuracy: 0.8325\n",
      "Epoch 6/50\n",
      "625/625 [==============================] - 36s 57ms/step - loss: 0.2861 - accuracy: 0.8751 - val_loss: 0.3999 - val_accuracy: 0.8249\n",
      "Epoch 7/50\n",
      "625/625 [==============================] - 36s 57ms/step - loss: 0.2782 - accuracy: 0.8777 - val_loss: 0.3895 - val_accuracy: 0.8284\n",
      "Epoch 8/50\n",
      "625/625 [==============================] - 36s 57ms/step - loss: 0.2694 - accuracy: 0.8822 - val_loss: 0.3896 - val_accuracy: 0.8250\n",
      "Epoch 9/50\n",
      "625/625 [==============================] - 36s 57ms/step - loss: 0.2629 - accuracy: 0.8859 - val_loss: 0.4019 - val_accuracy: 0.8274\n",
      "Epoch 10/50\n",
      "625/625 [==============================] - 36s 57ms/step - loss: 0.2559 - accuracy: 0.8885 - val_loss: 0.4044 - val_accuracy: 0.8286\n",
      "Epoch 11/50\n",
      "625/625 [==============================] - 36s 57ms/step - loss: 0.2481 - accuracy: 0.8942 - val_loss: 0.4068 - val_accuracy: 0.8246\n",
      "Epoch 12/50\n",
      "625/625 [==============================] - 36s 57ms/step - loss: 0.2404 - accuracy: 0.8985 - val_loss: 0.4377 - val_accuracy: 0.8258\n",
      "Epoch 13/50\n",
      "625/625 [==============================] - 36s 57ms/step - loss: 0.2329 - accuracy: 0.9023 - val_loss: 0.4443 - val_accuracy: 0.8205\n",
      "Epoch 14/50\n",
      "625/625 [==============================] - 36s 57ms/step - loss: 0.2265 - accuracy: 0.9033 - val_loss: 0.4555 - val_accuracy: 0.8232\n",
      "Epoch 15/50\n",
      "625/625 [==============================] - 36s 58ms/step - loss: 0.2182 - accuracy: 0.9086 - val_loss: 0.4847 - val_accuracy: 0.8235\n",
      "Epoch 16/50\n",
      "625/625 [==============================] - 36s 58ms/step - loss: 0.2116 - accuracy: 0.9109 - val_loss: 0.5128 - val_accuracy: 0.8217\n",
      "Epoch 17/50\n",
      "625/625 [==============================] - 36s 58ms/step - loss: 0.2033 - accuracy: 0.9159 - val_loss: 0.4940 - val_accuracy: 0.8205\n",
      "Epoch 18/50\n",
      "625/625 [==============================] - 36s 57ms/step - loss: 0.1968 - accuracy: 0.9167 - val_loss: 0.5499 - val_accuracy: 0.8138\n",
      "Epoch 19/50\n",
      "625/625 [==============================] - 36s 58ms/step - loss: 0.1895 - accuracy: 0.9211 - val_loss: 0.5641 - val_accuracy: 0.8168\n",
      "Epoch 20/50\n",
      "625/625 [==============================] - 36s 58ms/step - loss: 0.1809 - accuracy: 0.9240 - val_loss: 0.6688 - val_accuracy: 0.8153\n",
      "Epoch 21/50\n",
      "625/625 [==============================] - 36s 58ms/step - loss: 0.1762 - accuracy: 0.9267 - val_loss: 0.6805 - val_accuracy: 0.8111\n",
      "Epoch 22/50\n",
      "625/625 [==============================] - 36s 58ms/step - loss: 0.1717 - accuracy: 0.9279 - val_loss: 0.6247 - val_accuracy: 0.8073\n",
      "Epoch 23/50\n",
      "625/625 [==============================] - 36s 58ms/step - loss: 0.1623 - accuracy: 0.9300 - val_loss: 0.6901 - val_accuracy: 0.8110\n",
      "Epoch 24/50\n",
      "625/625 [==============================] - 36s 58ms/step - loss: 0.1587 - accuracy: 0.9330 - val_loss: 0.7708 - val_accuracy: 0.8056\n",
      "Epoch 25/50\n",
      "625/625 [==============================] - 36s 58ms/step - loss: 0.1533 - accuracy: 0.9352 - val_loss: 0.7639 - val_accuracy: 0.8070\n",
      "Epoch 26/50\n",
      "625/625 [==============================] - 36s 58ms/step - loss: 0.1482 - accuracy: 0.9360 - val_loss: 0.6892 - val_accuracy: 0.8047\n",
      "Epoch 27/50\n",
      "625/625 [==============================] - 36s 58ms/step - loss: 0.1432 - accuracy: 0.9387 - val_loss: 0.8403 - val_accuracy: 0.8101\n",
      "Epoch 28/50\n",
      "625/625 [==============================] - 36s 58ms/step - loss: 0.1370 - accuracy: 0.9402 - val_loss: 0.8946 - val_accuracy: 0.8067\n",
      "Epoch 29/50\n",
      "625/625 [==============================] - 36s 58ms/step - loss: 0.1301 - accuracy: 0.9433 - val_loss: 0.9569 - val_accuracy: 0.8062\n",
      "Epoch 30/50\n",
      "625/625 [==============================] - 36s 58ms/step - loss: 0.1227 - accuracy: 0.9468 - val_loss: 1.0200 - val_accuracy: 0.8027\n",
      "Epoch 31/50\n",
      "625/625 [==============================] - 35s 57ms/step - loss: 0.1247 - accuracy: 0.9446 - val_loss: 0.9389 - val_accuracy: 0.8006\n",
      "Epoch 32/50\n",
      "625/625 [==============================] - 36s 57ms/step - loss: 0.1192 - accuracy: 0.9470 - val_loss: 1.1192 - val_accuracy: 0.7939\n",
      "Epoch 33/50\n",
      "625/625 [==============================] - 37s 59ms/step - loss: 0.1095 - accuracy: 0.9506 - val_loss: 1.1333 - val_accuracy: 0.7952\n",
      "Epoch 34/50\n",
      "625/625 [==============================] - 37s 59ms/step - loss: 0.1071 - accuracy: 0.9518 - val_loss: 1.1920 - val_accuracy: 0.7994\n",
      "Epoch 35/50\n",
      "625/625 [==============================] - 37s 59ms/step - loss: 0.1042 - accuracy: 0.9532 - val_loss: 1.2302 - val_accuracy: 0.8003\n",
      "Epoch 36/50\n",
      "625/625 [==============================] - 37s 59ms/step - loss: 0.1005 - accuracy: 0.9548 - val_loss: 1.1556 - val_accuracy: 0.8027\n",
      "Epoch 37/50\n",
      "625/625 [==============================] - 37s 59ms/step - loss: 0.0952 - accuracy: 0.9567 - val_loss: 1.3524 - val_accuracy: 0.7989\n",
      "Epoch 38/50\n",
      "625/625 [==============================] - 37s 59ms/step - loss: 0.0899 - accuracy: 0.9589 - val_loss: 1.3585 - val_accuracy: 0.7974\n",
      "Epoch 39/50\n",
      "625/625 [==============================] - 37s 59ms/step - loss: 0.0890 - accuracy: 0.9598 - val_loss: 1.3072 - val_accuracy: 0.7965\n",
      "Epoch 40/50\n",
      "625/625 [==============================] - 37s 59ms/step - loss: 0.0834 - accuracy: 0.9612 - val_loss: 1.4238 - val_accuracy: 0.8013\n",
      "Epoch 41/50\n",
      "625/625 [==============================] - 37s 59ms/step - loss: 0.0840 - accuracy: 0.9613 - val_loss: 1.5385 - val_accuracy: 0.8015\n",
      "Epoch 42/50\n",
      "625/625 [==============================] - 37s 59ms/step - loss: 0.0866 - accuracy: 0.9610 - val_loss: 1.5103 - val_accuracy: 0.7936\n",
      "Epoch 43/50\n",
      "625/625 [==============================] - 37s 59ms/step - loss: 0.0758 - accuracy: 0.9645 - val_loss: 1.6285 - val_accuracy: 0.7915\n",
      "Epoch 44/50\n",
      "625/625 [==============================] - 37s 59ms/step - loss: 0.0732 - accuracy: 0.9664 - val_loss: 1.5620 - val_accuracy: 0.7939\n",
      "Epoch 45/50\n",
      "625/625 [==============================] - 37s 59ms/step - loss: 0.0739 - accuracy: 0.9653 - val_loss: 1.6269 - val_accuracy: 0.7948\n",
      "Epoch 46/50\n",
      "625/625 [==============================] - 37s 59ms/step - loss: 0.0657 - accuracy: 0.9688 - val_loss: 1.6801 - val_accuracy: 0.7994\n",
      "Epoch 47/50\n",
      "625/625 [==============================] - 37s 59ms/step - loss: 0.0658 - accuracy: 0.9698 - val_loss: 1.8134 - val_accuracy: 0.7921\n",
      "Epoch 48/50\n",
      "625/625 [==============================] - 37s 59ms/step - loss: 0.0711 - accuracy: 0.9671 - val_loss: 1.7231 - val_accuracy: 0.7897\n",
      "Epoch 49/50\n",
      "625/625 [==============================] - 37s 59ms/step - loss: 0.0691 - accuracy: 0.9678 - val_loss: 1.7556 - val_accuracy: 0.7976\n",
      "Epoch 50/50\n",
      "625/625 [==============================] - 37s 59ms/step - loss: 0.0626 - accuracy: 0.9707 - val_loss: 1.8747 - val_accuracy: 0.7901\n"
     ]
    }
   ],
   "source": [
    "num_epochs = 50\n",
    "training_padded = np.array(training_padded)\n",
    "training_labels = np.array(training_labels)\n",
    "testing_padded = np.array(testing_padded)\n",
    "testing_labels = np.array(testing_labels)\n",
    "history = model.fit(training_padded, training_labels, epochs=num_epochs, validation_data=(testing_padded, testing_labels), verbose=1)"
   ]
  },
  {
   "cell_type": "code",
   "execution_count": 7,
   "metadata": {
    "colab": {
     "base_uri": "https://localhost:8080/",
     "height": 541
    },
    "colab_type": "code",
    "id": "g9DC6dmLF8DC",
    "outputId": "402b85b5-b90f-42cb-82a3-4b4d0309a974"
   },
   "outputs": [
    {
     "data": {
      "image/png": "[encoded data removed]",
      "text/plain": [
       "<Figure size 432x288 with 1 Axes>"
      ]
     },
     "metadata": {
      "needs_background": "light",
      "tags": []
     },
     "output_type": "display_data"
    },
    {
     "data": {
      "image/png": "[encoded data removed]",
      "text/plain": [
       "<Figure size 432x288 with 1 Axes>"
      ]
     },
     "metadata": {
      "needs_background": "light",
      "tags": []
     },
     "output_type": "display_data"
    }
   ],
   "source": [
    "import matplotlib.pyplot as plt\n",
    "\n",
    "def plot_graphs(history, string):\n",
    "  plt.plot(history.history[string])\n",
    "  plt.plot(history.history['val_'+string])\n",
    "  plt.xlabel(\"Epochs\")\n",
    "  plt.ylabel(string)\n",
    "  plt.legend([string, 'val_'+string])\n",
    "  plt.show()\n",
    "\n",
    "plot_graphs(history, 'accuracy')\n",
    "plot_graphs(history, 'loss')"
   ]
  },
  {
   "cell_type": "code",
   "execution_count": 8,
   "metadata": {
    "colab": {},
    "colab_type": "code",
    "id": "7ZEZIUppGhdi"
   },
   "outputs": [],
   "source": [
    "model.save(\"test.h5\")"
   ]
  }
 ],
 "metadata": {
  "accelerator": "GPU",
  "colab": {
   "collapsed_sections": [],
   "name": "Course 3 - Week 3 - Lesson 2.ipynb",
   "provenance": [],
   "toc_visible": true
  },
  "kernelspec": {
   "display_name": "Python 3",
   "language": "python",
   "name": "python3"
  },
  "language_info": {
   "codemirror_mode": {
    "name": "ipython",
    "version": 3
   },
   "file_extension": ".py",
   "mimetype": "text/x-python",
   "name": "python",
   "nbconvert_exporter": "python",
   "pygments_lexer": "ipython3",
   "version": "3.7.9"
  }
 },
 "nbformat": 4,
 "nbformat_minor": 4
}
