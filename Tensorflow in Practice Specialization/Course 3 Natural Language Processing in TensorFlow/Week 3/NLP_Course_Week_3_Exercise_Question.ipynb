{
 "cells": [
  {
   "cell_type": "markdown",
   "metadata": {
    "colab": {},
    "colab_type": "code",
    "id": "zX4Kg8DUTKWO"
   },
   "source": [
    "# Week 3 Final Exercise: Twitter Sentiment Analysis\n",
    "\n",
    "https://www.kaggle.com/kazanova/sentiment140\n",
    "\n",
    "Context\n",
    "\n",
    "This is the sentiment140 dataset. It contains **1,600,000** tweets extracted using the twitter api . The tweets have been annotated (0 = negative, 4 = positive) and they can be used to detect sentiment .\n",
    "Content\n",
    "\n",
    "It contains the following 6 fields:\n",
    "\n",
    "    0 target: the polarity of the tweet (0 = negative, 2 = neutral, 4 = positive)  <-- use this\n",
    "\n",
    "    1 ids: The id of the tweet (1467810672)\n",
    "\n",
    "    2 date: the date of the tweet (Sat May 16 23:58:44 UTC 2009)\n",
    "\n",
    "    3 flag: The query (lyx). If there is no query, then this value is NO_QUERY.\n",
    "\n",
    "    4 user: the user that tweeted (robotickilldozr)\n",
    "\n",
    "    5 text: the text of the tweet (Lyx is cool) <--- use this"
   ]
  },
  {
   "cell_type": "code",
   "execution_count": 1,
   "metadata": {
    "colab": {},
    "colab_type": "code",
    "id": "hmA6EzkQJ5jt"
   },
   "outputs": [],
   "source": [
    "import json\n",
    "import tensorflow as tf\n",
    "import csv\n",
    "import random\n",
    "import numpy as np\n",
    "\n",
    "from tensorflow.keras.preprocessing.text import Tokenizer\n",
    "from tensorflow.keras.preprocessing.sequence import pad_sequences\n",
    "from tensorflow.keras.utils import to_categorical\n",
    "from tensorflow.keras import regularizers"
   ]
  },
  {
   "cell_type": "code",
   "execution_count": 2,
   "metadata": {},
   "outputs": [],
   "source": [
    "embedding_dim = 100\n",
    "max_length = 16\n",
    "trunc_type='post'\n",
    "padding_type='post'\n",
    "oov_tok = \"<OOV>\"\n",
    "training_size = 160000 # Only use 10% for training/testing in this project\n",
    "test_portion=.1"
   ]
  },
  {
   "cell_type": "code",
   "execution_count": 3,
   "metadata": {},
   "outputs": [],
   "source": [
    "# Note that I cleaned the Stanford dataset to remove LATIN1 encoding to make it easier for Python CSV reader\n",
    "# You can do that yourself with:\n",
    "# iconv -f LATIN1 -t UTF8 training.1600000.processed.noemoticon.csv -o training_cleaned.csv\n",
    "# I then hosted it on my site to make it easier to use in this notebook\n",
    "\n",
    "import os\n",
    "import wget\n",
    "\n",
    "url = 'https://storage.googleapis.com/laurencemoroney-blog.appspot.com/training_cleaned.csv'\n",
    "out = f'{os.getcwd()}\\\\temp\\\\training_cleaned.csv'\n",
    "\n",
    "if not os.path.isfile(out):\n",
    "    wget.download(url, out=out)"
   ]
  },
  {
   "cell_type": "markdown",
   "metadata": {},
   "source": [
    "# The corpus contains all samples (1.6 million), but only sentences and labels."
   ]
  },
  {
   "cell_type": "code",
   "execution_count": 4,
   "metadata": {
    "colab": {
     "base_uri": "https://localhost:8080/",
     "height": 204
    },
    "colab_type": "code",
    "id": "bM0l_dORKqE0",
    "outputId": "491ba86b-f780-4355-a4be-765565a29c8c"
   },
   "outputs": [
    {
     "name": "stdout",
     "output_type": "stream",
     "text": [
      "1600000\n",
      "1600000\n",
      "[\"is upset that he can't update his Facebook by texting it... and might cry as a result  School today also. Blah!\", 0]\n"
     ]
    }
   ],
   "source": [
    "num_sentences = 0\n",
    "corpus = []\n",
    "\n",
    "with open(f'{os.getcwd()}\\\\twitter_training_cleaned.csv', encoding='utf8', errors='ignore') as csvfile:\n",
    "    reader = csv.reader(csvfile, delimiter=',')\n",
    "    for row in reader:\n",
    "      # Your Code here. Create list items where the first item is the text, found in row[5], and the second is the label. Note that the label is a '0' or a '4' in the text. When it's the former, make\n",
    "      # your label to be 0, otherwise 1. Keep a count of the number of sentences in num_sentences\n",
    "        list_item = []\n",
    "        # label\n",
    "        list_item.append(row[5])\n",
    "        this_label = row[0] # YOUR CODE HERE\n",
    "        if this_label == '0':\n",
    "            list_item.append(0)\n",
    "        else:\n",
    "            list_item.append(1) # convert 4 to 1\n",
    "        # sentence\n",
    "        num_sentences = num_sentences + 1\n",
    "        corpus.append(list_item)\n",
    "\n",
    "print(num_sentences)\n",
    "print(len(corpus))\n",
    "print(corpus[1])\n",
    "\n",
    "# Expected Output:\n",
    "# 1600000\n",
    "# 1600000\n",
    "# [\"is upset that he can't update his Facebook by texting it... and might cry as a result  School today also. Blah!\", 0]"
   ]
  },
  {
   "cell_type": "markdown",
   "metadata": {},
   "source": [
    "# Separate Corpus into Sentences and Labels vars"
   ]
  },
  {
   "cell_type": "code",
   "execution_count": 5,
   "metadata": {
    "colab": {},
    "colab_type": "code",
    "id": "ohOGz24lsNAD"
   },
   "outputs": [
    {
     "name": "stdout",
     "output_type": "stream",
     "text": [
      "@tshogan63 oh go on and hush!  stinker!  I thought I heard a couple grunts coming from your end of the line too!  \n",
      "1\n"
     ]
    }
   ],
   "source": [
    "sentences = []\n",
    "labels = []\n",
    "random.shuffle(corpus)\n",
    "\n",
    "for x in range(training_size):\n",
    "    sentences.append(corpus[x][0]) # YOUR CODE HERE\n",
    "    labels.append(corpus[x][1]) # YOUR CODE HERE\n",
    "\n",
    "print(sentences[10])\n",
    "print(labels[10])"
   ]
  },
  {
   "cell_type": "markdown",
   "metadata": {},
   "source": [
    "# 1 Create Sequences, 2 Pad, 3 Split Sentences and Labels into Train and Test"
   ]
  },
  {
   "cell_type": "code",
   "execution_count": 6,
   "metadata": {},
   "outputs": [
    {
     "name": "stdout",
     "output_type": "stream",
     "text": [
      "Vocabulary size:  138832\n",
      "1\n"
     ]
    }
   ],
   "source": [
    "tokenizer = Tokenizer()\n",
    "tokenizer.fit_on_texts(sentences) # YOUR CODE HERE\n",
    "\n",
    "word_index = tokenizer.word_index\n",
    "vocab_size = len(word_index) # YOUR CODE HERE\n",
    "\n",
    "# 1 Create Sequences\n",
    "sequences = tokenizer.texts_to_sequences(sentences) # YOUR CODE HERE\n",
    "\n",
    "# 2 Pad\n",
    "padded = pad_sequences(sequences) # YOUR CODE HERE\n",
    "\n",
    "# Split\n",
    "split = int(test_portion * training_size)\n",
    "\n",
    "test_sequences = padded[0:split] # YOUR CODE HERE\n",
    "training_sequences = padded[split:training_size] # YOUR CODE HERE\n",
    "\n",
    "test_labels = labels[0:split] # YOUR CODE HERE\n",
    "training_labels = labels[split:training_size] # YOUR CODE HERE\n",
    "\n",
    "# convert all to numpy\n",
    "training_sequences = np.array(training_sequences)\n",
    "training_labels = np.array(training_labels)\n",
    "test_sequences = np.array(test_sequences)\n",
    "test_labels = np.array(test_labels)\n",
    "\n",
    "print(\"Vocabulary size: \",vocab_size)\n",
    "print(word_index['i'])\n",
    "# Expected Output\n",
    "# 138858\n",
    "# 1"
   ]
  },
  {
   "cell_type": "markdown",
   "metadata": {},
   "source": [
    "## Transfer Learning loading"
   ]
  },
  {
   "cell_type": "code",
   "execution_count": 7,
   "metadata": {},
   "outputs": [],
   "source": [
    "# Note this is the 100 dimension version of GloVe from Stanford\n",
    "# I unzipped and hosted it on my site to make this notebook easier\n",
    "\n",
    "url = 'https://storage.googleapis.com/laurencemoroney-blog.appspot.com/glove.6B.100d.txt'\n",
    "out = f'{os.getcwd()}\\\\glove.6B.100d.txt'\n",
    "\n",
    "if not os.path.isfile(out):\n",
    "    wget.download(url, out=out)"
   ]
  },
  {
   "cell_type": "code",
   "execution_count": 8,
   "metadata": {
    "colab": {
     "base_uri": "https://localhost:8080/",
     "height": 204
    },
    "colab_type": "code",
    "id": "C1zdgJkusRh0",
    "outputId": "b6edd322-8191-45e7-cb12-08921685a72f"
   },
   "outputs": [
    {
     "name": "stdout",
     "output_type": "stream",
     "text": [
      "Length Embeddings_matrix:  138833\n"
     ]
    }
   ],
   "source": [
    "embeddings_index = {};\n",
    "\n",
    "with open(f'{os.getcwd()}\\\\glove.6B.100d.txt', encoding='utf8', errors='ignore') as f:\n",
    "    for line in f:\n",
    "        values = line.split();\n",
    "        word = values[0];\n",
    "        coefs = np.asarray(values[1:], dtype='float32');\n",
    "        embeddings_index[word] = coefs;\n",
    "\n",
    "embeddings_matrix = np.zeros((vocab_size+1, embedding_dim));\n",
    "for word, i in word_index.items():\n",
    "    embedding_vector = embeddings_index.get(word);\n",
    "    if embedding_vector is not None:\n",
    "        embeddings_matrix[i] = embedding_vector;\n",
    "        \n",
    "print(\"Length Embeddings_matrix: \",len(embeddings_matrix))\n",
    "# Expected Output\n",
    "# 138859"
   ]
  },
  {
   "cell_type": "code",
   "execution_count": 9,
   "metadata": {
    "colab": {},
    "colab_type": "code",
    "id": "iKKvbuEBOGFz"
   },
   "outputs": [
    {
     "name": "stdout",
     "output_type": "stream",
     "text": [
      "Model: \"sequential\"\n",
      "_________________________________________________________________\n",
      "Layer (type)                 Output Shape              Param #   \n",
      "=================================================================\n",
      "embedding (Embedding)        (None, 16, 100)           13883300  \n",
      "_________________________________________________________________\n",
      "dropout (Dropout)            (None, 16, 100)           0         \n",
      "_________________________________________________________________\n",
      "conv1d (Conv1D)              (None, 12, 64)            32064     \n",
      "_________________________________________________________________\n",
      "max_pooling1d (MaxPooling1D) (None, 3, 64)             0         \n",
      "_________________________________________________________________\n",
      "lstm (LSTM)                  (None, 64)                33024     \n",
      "_________________________________________________________________\n",
      "dense (Dense)                (None, 1)                 65        \n",
      "=================================================================\n",
      "Total params: 13,948,453\n",
      "Trainable params: 65,153\n",
      "Non-trainable params: 13,883,300\n",
      "_________________________________________________________________\n"
     ]
    }
   ],
   "source": [
    "model = tf.keras.Sequential([\n",
    "    tf.keras.layers.Embedding(vocab_size+1, embedding_dim, input_length=max_length, weights=[embeddings_matrix], trainable=False), ### here we load up the embedding_matrix from Stanford\n",
    "    tf.keras.layers.Dropout(0.2),\n",
    "    tf.keras.layers.Conv1D(64, 5, activation='relu'),\n",
    "    tf.keras.layers.MaxPooling1D(pool_size=4),\n",
    "    tf.keras.layers.LSTM(64),\n",
    "    tf.keras.layers.Dense(1, activation='sigmoid') # YOUR CODE HERE - experiment with combining different types, such as convolutions and LSTMs\n",
    "])\n",
    "model.compile(loss='binary_crossentropy',optimizer='adam',metrics=['accuracy']) # YOUR CODE HERE\n",
    "model.summary()"
   ]
  },
  {
   "cell_type": "code",
   "execution_count": 10,
   "metadata": {},
   "outputs": [
    {
     "name": "stdout",
     "output_type": "stream",
     "text": [
      "Epoch 1/50\n",
      "WARNING:tensorflow:Model was constructed with shape (None, 16) for input Tensor(\"embedding_input:0\", shape=(None, 16), dtype=float32), but it was called on an input with incompatible shape (32, 52).\n",
      "WARNING:tensorflow:Model was constructed with shape (None, 16) for input Tensor(\"embedding_input:0\", shape=(None, 16), dtype=float32), but it was called on an input with incompatible shape (32, 52).\n",
      "WARNING:tensorflow:Model was constructed with shape (None, 16) for input Tensor(\"embedding_input:0\", shape=(None, 16), dtype=float32), but it was called on an input with incompatible shape (32, 52).\n",
      "4500/4500 - 22s - loss: 0.5480 - accuracy: 0.7182 - val_loss: 0.5013 - val_accuracy: 0.7514\n",
      "Epoch 2/50\n",
      "4500/4500 - 21s - loss: 0.5046 - accuracy: 0.7512 - val_loss: 0.4841 - val_accuracy: 0.7649\n",
      "Epoch 3/50\n",
      "4500/4500 - 21s - loss: 0.4868 - accuracy: 0.7627 - val_loss: 0.4771 - val_accuracy: 0.7673\n",
      "Epoch 4/50\n",
      "4500/4500 - 23s - loss: 0.4755 - accuracy: 0.7692 - val_loss: 0.4721 - val_accuracy: 0.7731\n",
      "Epoch 5/50\n",
      "4500/4500 - 23s - loss: 0.4656 - accuracy: 0.7760 - val_loss: 0.4750 - val_accuracy: 0.7703\n",
      "Epoch 6/50\n",
      "4500/4500 - 23s - loss: 0.4596 - accuracy: 0.7787 - val_loss: 0.4747 - val_accuracy: 0.7741\n",
      "Epoch 7/50\n",
      "4500/4500 - 24s - loss: 0.4532 - accuracy: 0.7832 - val_loss: 0.4682 - val_accuracy: 0.7734\n",
      "Epoch 8/50\n",
      "4500/4500 - 22s - loss: 0.4487 - accuracy: 0.7856 - val_loss: 0.4660 - val_accuracy: 0.7754\n",
      "Epoch 9/50\n",
      "4500/4500 - 21s - loss: 0.4433 - accuracy: 0.7898 - val_loss: 0.4687 - val_accuracy: 0.7713\n",
      "Epoch 10/50\n",
      "4500/4500 - 21s - loss: 0.4400 - accuracy: 0.7907 - val_loss: 0.4715 - val_accuracy: 0.7755\n",
      "Epoch 11/50\n",
      "4500/4500 - 21s - loss: 0.4356 - accuracy: 0.7938 - val_loss: 0.4772 - val_accuracy: 0.7696\n",
      "Epoch 12/50\n",
      "4500/4500 - 21s - loss: 0.4332 - accuracy: 0.7947 - val_loss: 0.4717 - val_accuracy: 0.7732\n",
      "Epoch 13/50\n",
      "4500/4500 - 21s - loss: 0.4293 - accuracy: 0.7978 - val_loss: 0.4734 - val_accuracy: 0.7749\n",
      "Epoch 14/50\n",
      "4500/4500 - 21s - loss: 0.4266 - accuracy: 0.7985 - val_loss: 0.4721 - val_accuracy: 0.7713\n",
      "Epoch 15/50\n",
      "4500/4500 - 21s - loss: 0.4257 - accuracy: 0.7987 - val_loss: 0.4749 - val_accuracy: 0.7720\n",
      "Epoch 16/50\n",
      "4500/4500 - 21s - loss: 0.4229 - accuracy: 0.8020 - val_loss: 0.4762 - val_accuracy: 0.7711\n",
      "Epoch 17/50\n",
      "4500/4500 - 22s - loss: 0.4212 - accuracy: 0.8015 - val_loss: 0.4820 - val_accuracy: 0.7694\n",
      "Epoch 18/50\n",
      "4500/4500 - 21s - loss: 0.4182 - accuracy: 0.8028 - val_loss: 0.4858 - val_accuracy: 0.7648\n",
      "Epoch 19/50\n",
      "4500/4500 - 22s - loss: 0.4192 - accuracy: 0.8031 - val_loss: 0.4809 - val_accuracy: 0.7690\n",
      "Epoch 20/50\n",
      "4500/4500 - 21s - loss: 0.4165 - accuracy: 0.8048 - val_loss: 0.4778 - val_accuracy: 0.7713\n",
      "Epoch 21/50\n",
      "4500/4500 - 21s - loss: 0.4153 - accuracy: 0.8054 - val_loss: 0.4797 - val_accuracy: 0.7703\n",
      "Epoch 22/50\n",
      "4500/4500 - 21s - loss: 0.4148 - accuracy: 0.8058 - val_loss: 0.4807 - val_accuracy: 0.7761\n",
      "Epoch 23/50\n",
      "4500/4500 - 21s - loss: 0.4120 - accuracy: 0.8081 - val_loss: 0.4777 - val_accuracy: 0.7694\n",
      "Epoch 24/50\n",
      "4500/4500 - 22s - loss: 0.4118 - accuracy: 0.8077 - val_loss: 0.4856 - val_accuracy: 0.7680\n",
      "Epoch 25/50\n",
      "4500/4500 - 21s - loss: 0.4103 - accuracy: 0.8078 - val_loss: 0.4838 - val_accuracy: 0.7727\n",
      "Epoch 26/50\n",
      "4500/4500 - 21s - loss: 0.4102 - accuracy: 0.8070 - val_loss: 0.4839 - val_accuracy: 0.7687\n",
      "Epoch 27/50\n",
      "4500/4500 - 21s - loss: 0.4099 - accuracy: 0.8083 - val_loss: 0.4813 - val_accuracy: 0.7696\n",
      "Epoch 28/50\n",
      "4500/4500 - 21s - loss: 0.4093 - accuracy: 0.8091 - val_loss: 0.4826 - val_accuracy: 0.7689\n",
      "Epoch 29/50\n",
      "4500/4500 - 21s - loss: 0.4071 - accuracy: 0.8104 - val_loss: 0.4787 - val_accuracy: 0.7715\n",
      "Epoch 30/50\n",
      "4500/4500 - 21s - loss: 0.4081 - accuracy: 0.8094 - val_loss: 0.4815 - val_accuracy: 0.7701\n",
      "Epoch 31/50\n",
      "4500/4500 - 21s - loss: 0.4063 - accuracy: 0.8105 - val_loss: 0.4890 - val_accuracy: 0.7721\n",
      "Epoch 32/50\n",
      "4500/4500 - 21s - loss: 0.4056 - accuracy: 0.8115 - val_loss: 0.4848 - val_accuracy: 0.7717\n",
      "Epoch 33/50\n",
      "4500/4500 - 21s - loss: 0.4052 - accuracy: 0.8118 - val_loss: 0.4876 - val_accuracy: 0.7723\n",
      "Epoch 34/50\n",
      "4500/4500 - 21s - loss: 0.4047 - accuracy: 0.8108 - val_loss: 0.4826 - val_accuracy: 0.7702\n",
      "Epoch 35/50\n",
      "4500/4500 - 21s - loss: 0.4032 - accuracy: 0.8119 - val_loss: 0.4804 - val_accuracy: 0.7729\n",
      "Epoch 36/50\n",
      "4500/4500 - 21s - loss: 0.4035 - accuracy: 0.8109 - val_loss: 0.4868 - val_accuracy: 0.7702\n",
      "Epoch 37/50\n",
      "4500/4500 - 21s - loss: 0.4035 - accuracy: 0.8123 - val_loss: 0.4854 - val_accuracy: 0.7759\n",
      "Epoch 38/50\n",
      "4500/4500 - 21s - loss: 0.4045 - accuracy: 0.8124 - val_loss: 0.4846 - val_accuracy: 0.7685\n",
      "Epoch 39/50\n",
      "4500/4500 - 21s - loss: 0.4038 - accuracy: 0.8118 - val_loss: 0.4848 - val_accuracy: 0.7733\n",
      "Epoch 40/50\n",
      "4500/4500 - 21s - loss: 0.4020 - accuracy: 0.8131 - val_loss: 0.4844 - val_accuracy: 0.7712\n",
      "Epoch 41/50\n",
      "4500/4500 - 21s - loss: 0.4027 - accuracy: 0.8132 - val_loss: 0.4876 - val_accuracy: 0.7733\n",
      "Epoch 42/50\n",
      "4500/4500 - 22s - loss: 0.4007 - accuracy: 0.8138 - val_loss: 0.4824 - val_accuracy: 0.7744\n",
      "Epoch 43/50\n",
      "4500/4500 - 22s - loss: 0.4003 - accuracy: 0.8137 - val_loss: 0.4844 - val_accuracy: 0.7697\n",
      "Epoch 44/50\n",
      "4500/4500 - 21s - loss: 0.4015 - accuracy: 0.8138 - val_loss: 0.4862 - val_accuracy: 0.7720\n",
      "Epoch 45/50\n",
      "4500/4500 - 21s - loss: 0.4010 - accuracy: 0.8142 - val_loss: 0.4868 - val_accuracy: 0.7684\n",
      "Epoch 46/50\n",
      "4500/4500 - 21s - loss: 0.4013 - accuracy: 0.8138 - val_loss: 0.4894 - val_accuracy: 0.7707\n",
      "Epoch 47/50\n",
      "4500/4500 - 21s - loss: 0.3991 - accuracy: 0.8140 - val_loss: 0.4925 - val_accuracy: 0.7716\n",
      "Epoch 48/50\n",
      "4500/4500 - 21s - loss: 0.3993 - accuracy: 0.8155 - val_loss: 0.4886 - val_accuracy: 0.7707\n",
      "Epoch 49/50\n",
      "4500/4500 - 21s - loss: 0.3995 - accuracy: 0.8145 - val_loss: 0.4885 - val_accuracy: 0.7711\n",
      "Epoch 50/50\n",
      "4500/4500 - 21s - loss: 0.3995 - accuracy: 0.8148 - val_loss: 0.4840 - val_accuracy: 0.7716\n",
      "Training Complete\n"
     ]
    }
   ],
   "source": [
    "num_epochs = 50\n",
    "history = model.fit(training_sequences, training_labels, epochs=num_epochs, validation_data=(test_sequences, test_labels), verbose=2)\n",
    "\n",
    "print(\"Training Complete\")"
   ]
  },
  {
   "cell_type": "code",
   "execution_count": 11,
   "metadata": {
    "colab": {},
    "colab_type": "code",
    "id": "qxju4ItJKO8F"
   },
   "outputs": [
    {
     "data": {
      "text/plain": [
       "<Figure size 432x288 with 0 Axes>"
      ]
     },
     "execution_count": 11,
     "metadata": {},
     "output_type": "execute_result"
    },
    {
     "data": {
      "image/png": "[encoded data removed]",
      "text/plain": [
       "<Figure size 432x288 with 1 Axes>"
      ]
     },
     "metadata": {
      "needs_background": "light"
     },
     "output_type": "display_data"
    },
    {
     "data": {
      "image/png": "[encoded data removed]",
      "text/plain": [
       "<Figure size 432x288 with 1 Axes>"
      ]
     },
     "metadata": {
      "needs_background": "light"
     },
     "output_type": "display_data"
    },
    {
     "data": {
      "text/plain": [
       "<Figure size 432x288 with 0 Axes>"
      ]
     },
     "metadata": {},
     "output_type": "display_data"
    }
   ],
   "source": [
    "import matplotlib.image  as mpimg\n",
    "import matplotlib.pyplot as plt\n",
    "\n",
    "#-----------------------------------------------------------\n",
    "# Retrieve a list of list results on training and test data\n",
    "# sets for each training epoch\n",
    "#-----------------------------------------------------------\n",
    "acc=history.history['accuracy']\n",
    "val_acc=history.history['val_accuracy']\n",
    "loss=history.history['loss']\n",
    "val_loss=history.history['val_loss']\n",
    "\n",
    "epochs=range(len(acc)) # Get number of epochs\n",
    "\n",
    "#------------------------------------------------\n",
    "# Plot training and validation accuracy per epoch\n",
    "#------------------------------------------------\n",
    "plt.plot(epochs, acc, 'r')\n",
    "plt.plot(epochs, val_acc, 'b')\n",
    "plt.title('Training and validation accuracy')\n",
    "plt.xlabel(\"Epochs\")\n",
    "plt.ylabel(\"Accuracy\")\n",
    "plt.legend([\"Accuracy\", \"Validation Accuracy\"])\n",
    "\n",
    "plt.figure()\n",
    "\n",
    "#------------------------------------------------\n",
    "# Plot training and validation loss per epoch\n",
    "#------------------------------------------------\n",
    "plt.plot(epochs, loss, 'r')\n",
    "plt.plot(epochs, val_loss, 'b')\n",
    "plt.title('Training and validation loss')\n",
    "plt.xlabel(\"Epochs\")\n",
    "plt.ylabel(\"Loss\")\n",
    "plt.legend([\"Loss\", \"Validation Loss\"])\n",
    "\n",
    "plt.figure()\n",
    "\n",
    "\n",
    "# Expected Output\n",
    "# A chart where the validation loss does not increase sharply!"
   ]
  }
 ],
 "metadata": {
  "accelerator": "GPU",
  "colab": {
   "name": "NLP Course - Week 3 Exercise Question.ipynb",
   "provenance": [],
   "toc_visible": true
  },
  "kernelspec": {
   "display_name": "Python 3",
   "language": "python",
   "name": "python3"
  },
  "language_info": {
   "codemirror_mode": {
    "name": "ipython",
    "version": 3
   },
   "file_extension": ".py",
   "mimetype": "text/x-python",
   "name": "python",
   "nbconvert_exporter": "python",
   "pygments_lexer": "ipython3",
   "version": "3.7.9"
  }
 },
 "nbformat": 4,
 "nbformat_minor": 4
}
