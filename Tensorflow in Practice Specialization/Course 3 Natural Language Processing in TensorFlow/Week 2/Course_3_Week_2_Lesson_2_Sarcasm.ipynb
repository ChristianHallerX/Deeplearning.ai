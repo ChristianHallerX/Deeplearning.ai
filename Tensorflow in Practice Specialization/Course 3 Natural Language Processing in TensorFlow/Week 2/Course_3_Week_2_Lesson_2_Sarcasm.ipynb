{
 "cells": [
  {
   "cell_type": "markdown",
   "metadata": {},
   "source": [
    "# Sarcasm Sentiment Analysis with Embedding"
   ]
  },
  {
   "cell_type": "code",
   "execution_count": 1,
   "metadata": {
    "colab": {
     "base_uri": "https://localhost:8080/",
     "height": 35
    },
    "colab_type": "code",
    "id": "XYYDvoskkE61",
    "outputId": "86f63e87-b5a6-44e1-ff3f-a4d8243f7d95"
   },
   "outputs": [
    {
     "name": "stdout",
     "output_type": "stream",
     "text": [
      "2.2.0-rc1\n"
     ]
    }
   ],
   "source": [
    "import json\n",
    "import tensorflow as tf\n",
    "print(tf.__version__)\n",
    "import os\n",
    "\n",
    "from tensorflow.keras.preprocessing.text import Tokenizer\n",
    "from tensorflow.keras.preprocessing.sequence import pad_sequences"
   ]
  },
  {
   "cell_type": "code",
   "execution_count": 2,
   "metadata": {
    "colab": {},
    "colab_type": "code",
    "id": "0eJSTTYnkJQd"
   },
   "outputs": [],
   "source": [
    "#vocab_size = 10000 shorter improves loss\n",
    "vocab_size = 1000\n",
    "\n",
    "embedding_dim = 16\n",
    "\n",
    "#max_length = 100 shorter improves loss\n",
    "max_length = 16\n",
    "\n",
    "trunc_type='post'\n",
    "padding_type='post'\n",
    "oov_tok = \"<OOV>\"\n",
    "training_size = 20000"
   ]
  },
  {
   "cell_type": "code",
   "execution_count": 3,
   "metadata": {
    "colab": {
     "base_uri": "https://localhost:8080/",
     "height": 214
    },
    "colab_type": "code",
    "id": "BQVuQrZNkPn9",
    "outputId": "3711ce05-087f-481a-8f2e-fb718b85a193"
   },
   "outputs": [
    {
     "name": "stdout",
     "output_type": "stream",
     "text": [
      "Finished download\n"
     ]
    }
   ],
   "source": [
    "# Download data set\n",
    "import wget\n",
    "\n",
    "url = 'https://storage.googleapis.com/laurencemoroney-blog.appspot.com/sarcasm.json'\n",
    "wget.download(url)\n",
    "\n",
    "print('Finished download')"
   ]
  },
  {
   "cell_type": "code",
   "execution_count": 4,
   "metadata": {
    "colab": {},
    "colab_type": "code",
    "id": "oaLaaqhNkUPd"
   },
   "outputs": [],
   "source": [
    "# transfer from json to a sentences and labels lists\n",
    "\n",
    "with open(f'{os.getcwd()}\\\\Sarcasm_Data\\\\sarcasm.json', 'r') as f:\n",
    "    datastore = json.load(f)\n",
    "\n",
    "sentences = []\n",
    "labels = []\n",
    "\n",
    "for item in datastore:\n",
    "    sentences.append(item['headline'])\n",
    "    labels.append(item['is_sarcastic'])"
   ]
  },
  {
   "cell_type": "code",
   "execution_count": 5,
   "metadata": {
    "colab": {},
    "colab_type": "code",
    "id": "S1sD-7v0kYWk"
   },
   "outputs": [],
   "source": [
    "# train/test split\n",
    "\n",
    "training_sentences = sentences[0:training_size]\n",
    "testing_sentences = sentences[training_size:]\n",
    "training_labels = labels[0:training_size]\n",
    "testing_labels = labels[training_size:]"
   ]
  },
  {
   "cell_type": "code",
   "execution_count": 6,
   "metadata": {
    "colab": {},
    "colab_type": "code",
    "id": "3u8UB0MCkZ5N"
   },
   "outputs": [],
   "source": [
    "# Step 1 instantiate tokenizer\n",
    "tokenizer = Tokenizer(num_words=vocab_size, oov_token=oov_tok)\n",
    "\n",
    "# Step 2 fit tokenizer\n",
    "tokenizer.fit_on_texts(training_sentences)\n",
    "\n",
    "# Step 3 use fitted tokenizer to create word indexes\n",
    "word_index = tokenizer.word_index\n",
    "\n",
    "# Step 4 use word index to create number sequences (train)\n",
    "training_sequences = tokenizer.texts_to_sequences(training_sentences)\n",
    "\n",
    "# Step 5 pad sequences to same length (train)\n",
    "training_padded = pad_sequences(training_sequences, maxlen=max_length, padding=padding_type, truncating=trunc_type)\n",
    "\n",
    "# Step 4 use word index to create number sequences (test)\n",
    "testing_sequences = tokenizer.texts_to_sequences(testing_sentences)\n",
    "\n",
    "# Step 5 pad sequences to same length (test)\n",
    "testing_padded = pad_sequences(testing_sequences, maxlen=max_length, padding=padding_type, truncating=trunc_type)"
   ]
  },
  {
   "cell_type": "code",
   "execution_count": 7,
   "metadata": {
    "colab": {},
    "colab_type": "code",
    "id": "GrAlWBKf99Ya"
   },
   "outputs": [],
   "source": [
    "# np arrays needed for TF2.0\n",
    "import numpy as np\n",
    "\n",
    "training_padded = np.array(training_padded)\n",
    "training_labels = np.array(training_labels)\n",
    "testing_padded = np.array(testing_padded)\n",
    "testing_labels = np.array(testing_labels)"
   ]
  },
  {
   "cell_type": "code",
   "execution_count": 8,
   "metadata": {
    "colab": {},
    "colab_type": "code",
    "id": "FufaT4vlkiDE"
   },
   "outputs": [],
   "source": [
    "model = tf.keras.Sequential([\n",
    "    tf.keras.layers.Embedding(vocab_size, embedding_dim, input_length=max_length),\n",
    "    tf.keras.layers.GlobalAveragePooling1D(),\n",
    "    tf.keras.layers.Dense(24, activation='relu'),\n",
    "    tf.keras.layers.Dense(1, activation='sigmoid')\n",
    "])\n",
    "model.compile(loss='binary_crossentropy',optimizer='adam',metrics=['accuracy'])"
   ]
  },
  {
   "cell_type": "code",
   "execution_count": 9,
   "metadata": {
    "colab": {
     "base_uri": "https://localhost:8080/",
     "height": 303
    },
    "colab_type": "code",
    "id": "XfDt1hmYkiys",
    "outputId": "e417ab50-d489-4671-df7f-5207eaf7ceb4"
   },
   "outputs": [
    {
     "name": "stdout",
     "output_type": "stream",
     "text": [
      "Model: \"sequential\"\n",
      "_________________________________________________________________\n",
      "Layer (type)                 Output Shape              Param #   \n",
      "=================================================================\n",
      "embedding (Embedding)        (None, 16, 16)            16000     \n",
      "_________________________________________________________________\n",
      "global_average_pooling1d (Gl (None, 16)                0         \n",
      "_________________________________________________________________\n",
      "dense (Dense)                (None, 24)                408       \n",
      "_________________________________________________________________\n",
      "dense_1 (Dense)              (None, 1)                 25        \n",
      "=================================================================\n",
      "Total params: 16,433\n",
      "Trainable params: 16,433\n",
      "Non-trainable params: 0\n",
      "_________________________________________________________________\n"
     ]
    }
   ],
   "source": [
    "model.summary()"
   ]
  },
  {
   "cell_type": "code",
   "execution_count": 10,
   "metadata": {
    "colab": {
     "base_uri": "https://localhost:8080/",
     "height": 1000
    },
    "colab_type": "code",
    "id": "2DTKQFf1kkyc",
    "outputId": "217147ec-7657-41d1-b2e0-c971a23603c2"
   },
   "outputs": [
    {
     "name": "stdout",
     "output_type": "stream",
     "text": [
      "Epoch 1/30\n",
      "625/625 - 2s - loss: 0.5223 - accuracy: 0.7423 - val_loss: 0.4162 - val_accuracy: 0.8038\n",
      "Epoch 2/30\n",
      "625/625 - 2s - loss: 0.3788 - accuracy: 0.8276 - val_loss: 0.3986 - val_accuracy: 0.8170\n",
      "Epoch 3/30\n",
      "625/625 - 2s - loss: 0.3632 - accuracy: 0.8353 - val_loss: 0.3995 - val_accuracy: 0.8137\n",
      "Epoch 4/30\n",
      "625/625 - 2s - loss: 0.3577 - accuracy: 0.8375 - val_loss: 0.4011 - val_accuracy: 0.8147\n",
      "Epoch 5/30\n",
      "625/625 - 2s - loss: 0.3554 - accuracy: 0.8385 - val_loss: 0.4066 - val_accuracy: 0.8128\n",
      "Epoch 6/30\n",
      "625/625 - 2s - loss: 0.3527 - accuracy: 0.8397 - val_loss: 0.4037 - val_accuracy: 0.8143\n",
      "Epoch 7/30\n",
      "625/625 - 2s - loss: 0.3492 - accuracy: 0.8407 - val_loss: 0.4019 - val_accuracy: 0.8122\n",
      "Epoch 8/30\n",
      "625/625 - 2s - loss: 0.3465 - accuracy: 0.8427 - val_loss: 0.4057 - val_accuracy: 0.8092\n",
      "Epoch 9/30\n",
      "625/625 - 2s - loss: 0.3419 - accuracy: 0.8444 - val_loss: 0.3970 - val_accuracy: 0.8182\n",
      "Epoch 10/30\n",
      "625/625 - 2s - loss: 0.3385 - accuracy: 0.8478 - val_loss: 0.3984 - val_accuracy: 0.8185\n",
      "Epoch 11/30\n",
      "625/625 - 2s - loss: 0.3359 - accuracy: 0.8482 - val_loss: 0.3973 - val_accuracy: 0.8170\n",
      "Epoch 12/30\n",
      "625/625 - 2s - loss: 0.3336 - accuracy: 0.8497 - val_loss: 0.3936 - val_accuracy: 0.8220\n",
      "Epoch 13/30\n",
      "625/625 - 2s - loss: 0.3312 - accuracy: 0.8506 - val_loss: 0.3960 - val_accuracy: 0.8179\n",
      "Epoch 14/30\n",
      "625/625 - 2s - loss: 0.3286 - accuracy: 0.8527 - val_loss: 0.3946 - val_accuracy: 0.8199\n",
      "Epoch 15/30\n",
      "625/625 - 2s - loss: 0.3267 - accuracy: 0.8536 - val_loss: 0.3963 - val_accuracy: 0.8205\n",
      "Epoch 16/30\n",
      "625/625 - 2s - loss: 0.3248 - accuracy: 0.8550 - val_loss: 0.3990 - val_accuracy: 0.8177\n",
      "Epoch 17/30\n",
      "625/625 - 2s - loss: 0.3221 - accuracy: 0.8574 - val_loss: 0.3953 - val_accuracy: 0.8210\n",
      "Epoch 18/30\n",
      "625/625 - 2s - loss: 0.3202 - accuracy: 0.8587 - val_loss: 0.4009 - val_accuracy: 0.8180\n",
      "Epoch 19/30\n",
      "625/625 - 2s - loss: 0.3175 - accuracy: 0.8590 - val_loss: 0.3988 - val_accuracy: 0.8199\n",
      "Epoch 20/30\n",
      "625/625 - 2s - loss: 0.3159 - accuracy: 0.8605 - val_loss: 0.4038 - val_accuracy: 0.8185\n",
      "Epoch 21/30\n",
      "625/625 - 2s - loss: 0.3145 - accuracy: 0.8616 - val_loss: 0.4019 - val_accuracy: 0.8204\n",
      "Epoch 22/30\n",
      "625/625 - 2s - loss: 0.3127 - accuracy: 0.8629 - val_loss: 0.4015 - val_accuracy: 0.8173\n",
      "Epoch 23/30\n",
      "625/625 - 2s - loss: 0.3111 - accuracy: 0.8644 - val_loss: 0.4036 - val_accuracy: 0.8198\n",
      "Epoch 24/30\n",
      "625/625 - 2s - loss: 0.3102 - accuracy: 0.8640 - val_loss: 0.4078 - val_accuracy: 0.8162\n",
      "Epoch 25/30\n",
      "625/625 - 2s - loss: 0.3087 - accuracy: 0.8637 - val_loss: 0.4065 - val_accuracy: 0.8170\n",
      "Epoch 26/30\n",
      "625/625 - 2s - loss: 0.3068 - accuracy: 0.8643 - val_loss: 0.4084 - val_accuracy: 0.8176\n",
      "Epoch 27/30\n",
      "625/625 - 2s - loss: 0.3060 - accuracy: 0.8666 - val_loss: 0.4089 - val_accuracy: 0.8199\n",
      "Epoch 28/30\n",
      "625/625 - 2s - loss: 0.3048 - accuracy: 0.8666 - val_loss: 0.4119 - val_accuracy: 0.8155\n",
      "Epoch 29/30\n",
      "625/625 - 2s - loss: 0.3027 - accuracy: 0.8658 - val_loss: 0.4148 - val_accuracy: 0.8161\n",
      "Epoch 30/30\n",
      "625/625 - 2s - loss: 0.3021 - accuracy: 0.8664 - val_loss: 0.4131 - val_accuracy: 0.8158\n"
     ]
    }
   ],
   "source": [
    "# train\n",
    "num_epochs = 30\n",
    "history = model.fit(training_padded, training_labels, epochs=num_epochs, validation_data=(testing_padded, testing_labels), verbose=2)"
   ]
  },
  {
   "cell_type": "code",
   "execution_count": 11,
   "metadata": {
    "colab": {
     "base_uri": "https://localhost:8080/",
     "height": 541
    },
    "colab_type": "code",
    "id": "2HYfBKXjkmU8",
    "outputId": "a3926ac6-d4ec-4f32-f43c-bef3d7dd4300"
   },
   "outputs": [
    {
     "data": {
      "image/png": "[encoded data removed]",
      "text/plain": [
       "<Figure size 432x288 with 1 Axes>"
      ]
     },
     "metadata": {
      "needs_background": "light"
     },
     "output_type": "display_data"
    },
    {
     "data": {
      "image/png": "[encoded data removed]",
      "text/plain": [
       "<Figure size 432x288 with 1 Axes>"
      ]
     },
     "metadata": {
      "needs_background": "light"
     },
     "output_type": "display_data"
    }
   ],
   "source": [
    "import matplotlib.pyplot as plt\n",
    "\n",
    "def plot_graphs(history, string):\n",
    "  plt.plot(history.history[string])\n",
    "  plt.plot(history.history['val_'+string])\n",
    "  plt.xlabel(\"Epochs\")\n",
    "  plt.ylabel(string)\n",
    "  plt.legend([string, 'val_'+string])\n",
    "  plt.show()\n",
    "  \n",
    "plot_graphs(history, \"accuracy\")\n",
    "plot_graphs(history, \"loss\")"
   ]
  },
  {
   "cell_type": "code",
   "execution_count": 12,
   "metadata": {
    "colab": {
     "base_uri": "https://localhost:8080/",
     "height": 71
    },
    "colab_type": "code",
    "id": "7SBdAZAenvzL",
    "outputId": "58a3704e-c50a-4ee3-e3da-bde15c25900b"
   },
   "outputs": [
    {
     "name": "stdout",
     "output_type": "stream",
     "text": [
      "mom starting to fear <OOV> <OOV> series <OOV> thing she will have to <OOV> ? ?\n",
      "mom starting to fear son's web series closest thing she will have to grandchild\n",
      "1\n"
     ]
    }
   ],
   "source": [
    "reverse_word_index = dict([(value, key) for (key, value) in word_index.items()])\n",
    "\n",
    "def decode_sentence(text):\n",
    "    return ' '.join([reverse_word_index.get(i, '?') for i in text])\n",
    "\n",
    "print(decode_sentence(training_padded[2]))\n",
    "print(training_sentences[2])\n",
    "\n",
    "# 1 = sarcasm, 0 = not sarcasm\n",
    "print(labels[2])"
   ]
  },
  {
   "cell_type": "code",
   "execution_count": 13,
   "metadata": {
    "colab": {
     "base_uri": "https://localhost:8080/",
     "height": 35
    },
    "colab_type": "code",
    "id": "c9MqihtEkzQ9",
    "outputId": "a886b326-d29f-4f95-d175-4828514c29b7"
   },
   "outputs": [
    {
     "name": "stdout",
     "output_type": "stream",
     "text": [
      "(1000, 16)\n"
     ]
    }
   ],
   "source": [
    "e = model.layers[0]\n",
    "weights = e.get_weights()[0]\n",
    "\n",
    "print(weights.shape) # shape: (vocab_size, embedding_dim)"
   ]
  },
  {
   "cell_type": "code",
   "execution_count": 14,
   "metadata": {
    "colab": {},
    "colab_type": "code",
    "id": "LoBXVffknldU"
   },
   "outputs": [],
   "source": [
    "# write files containing vectors and meta (words) - formatting required by TF Embedding Projector\n",
    "\n",
    "import io\n",
    "\n",
    "out_v = io.open('vecs_sarcasm.tsv', 'w', encoding='utf-8')\n",
    "out_m = io.open('meta_sarcasm.tsv', 'w', encoding='utf-8')\n",
    "for word_num in range(1, vocab_size):\n",
    "  word = reverse_word_index[word_num]\n",
    "  embeddings = weights[word_num]\n",
    "  out_m.write(word + \"\\n\")\n",
    "  out_v.write('\\t'.join([str(x) for x in embeddings]) + \"\\n\")\n",
    "out_v.close()\n",
    "out_m.close()"
   ]
  },
  {
   "cell_type": "code",
   "execution_count": 15,
   "metadata": {
    "colab": {
     "base_uri": "https://localhost:8080/",
     "height": 17
    },
    "colab_type": "code",
    "id": "U4eZ5HtVnnEE",
    "outputId": "2e053940-9a76-47b9-d284-a757688a03a2"
   },
   "outputs": [],
   "source": [
    "# Download files to local system\n",
    "\n",
    "try:\n",
    "  from google.colab import files\n",
    "except ImportError:\n",
    "  pass\n",
    "else:\n",
    "  files.download('vecs_sarcasm.tsv')\n",
    "  files.download('meta_sarcasm.tsv')"
   ]
  },
  {
   "cell_type": "code",
   "execution_count": 16,
   "metadata": {
    "colab": {
     "base_uri": "https://localhost:8080/",
     "height": 53
    },
    "colab_type": "code",
    "id": "cG8-ArY-qDcz",
    "outputId": "695f8f20-215f-42a8-8d1a-085d68ff62ae"
   },
   "outputs": [
    {
     "name": "stdout",
     "output_type": "stream",
     "text": [
      "[[0.4022996 ]\n",
      " [0.55063754]]\n"
     ]
    }
   ],
   "source": [
    "sentence = [\"granny starting to fear spiders in the garden might be real\", \"game of thrones season finale showing this sunday night\"]\n",
    "sequences = tokenizer.texts_to_sequences(sentence)\n",
    "padded = pad_sequences(sequences, maxlen=max_length, padding=padding_type, truncating=trunc_type)\n",
    "print(model.predict(padded))"
   ]
  }
 ],
 "metadata": {
  "accelerator": "GPU",
  "colab": {
   "collapsed_sections": [],
   "name": "Course 3 - Week 2 - Lesson 2.ipynb",
   "provenance": [],
   "toc_visible": true
  },
  "kernelspec": {
   "display_name": "Python 3",
   "language": "python",
   "name": "python3"
  },
  "language_info": {
   "codemirror_mode": {
    "name": "ipython",
    "version": 3
   },
   "file_extension": ".py",
   "mimetype": "text/x-python",
   "name": "python",
   "nbconvert_exporter": "python",
   "pygments_lexer": "ipython3",
   "version": "3.7.7"
  }
 },
 "nbformat": 4,
 "nbformat_minor": 4
}
