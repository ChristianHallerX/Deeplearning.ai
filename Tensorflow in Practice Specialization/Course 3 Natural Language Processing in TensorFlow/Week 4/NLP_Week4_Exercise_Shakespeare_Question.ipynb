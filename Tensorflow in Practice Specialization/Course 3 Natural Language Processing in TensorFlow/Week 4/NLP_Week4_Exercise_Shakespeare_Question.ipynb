{
  "nbformat": 4,
  "nbformat_minor": 0,
  "metadata": {
    "accelerator": "GPU",
    "colab": {
      "name": "NLP_Week4_Exercise_Shakespeare_Question.ipynb",
      "provenance": [],
      "toc_visible": true
    },
    "kernelspec": {
      "display_name": "Python 3",
      "name": "python3"
    }
  },
  "cells": [
    {
      "cell_type": "markdown",
      "metadata": {
        "id": "42v-KjeX5zqi",
        "colab_type": "text"
      },
      "source": [
        "# Text Generation (Shakespeare Sonnets Exercise)"
      ]
    },
    {
      "cell_type": "code",
      "metadata": {
        "colab_type": "code",
        "id": "BOwsuGQQY9OL",
        "colab": {}
      },
      "source": [
        "from tensorflow.keras.preprocessing.sequence import pad_sequences\n",
        "from tensorflow.keras.layers import Embedding, LSTM, Dense, Dropout, Bidirectional\n",
        "from tensorflow.keras.preprocessing.text import Tokenizer\n",
        "from tensorflow.keras.models import Sequential\n",
        "from tensorflow.keras.optimizers import Adam\n",
        "### YOUR CODE HERE\n",
        "#from tensorflow.keras.regularizers import l1_l2\n",
        "# Figure out how to import regularizers\n",
        "###\n",
        "import tensorflow.keras.utils as ku \n",
        "import numpy as np\n",
        "import tensorflow as tf"
      ],
      "execution_count": 9,
      "outputs": []
    },
    {
      "cell_type": "code",
      "metadata": {
        "id": "ApQyB0-N63Bh",
        "colab_type": "code",
        "colab": {
          "base_uri": "https://localhost:8080/",
          "height": 214
        },
        "outputId": "63033b23-c2c5-4d1f-b8e2-311d1c35466a"
      },
      "source": [
        "!wget --no-check-certificate \\\n",
        "    https://storage.googleapis.com/laurencemoroney-blog.appspot.com/sonnets.txt \\\n",
        "    -O /tmp/sonnets.txt"
      ],
      "execution_count": 2,
      "outputs": [
        {
          "output_type": "stream",
          "text": [
            "--2020-07-11 22:07:53--  https://storage.googleapis.com/laurencemoroney-blog.appspot.com/sonnets.txt\n",
            "Resolving storage.googleapis.com (storage.googleapis.com)... 74.125.20.128, 74.125.142.128, 74.125.195.128, ...\n",
            "Connecting to storage.googleapis.com (storage.googleapis.com)|74.125.20.128|:443... connected.\n",
            "HTTP request sent, awaiting response... 200 OK\n",
            "Length: 93578 (91K) [text/plain]\n",
            "Saving to: ‘/tmp/sonnets.txt’\n",
            "\n",
            "\r/tmp/sonnets.txt      0%[                    ]       0  --.-KB/s               \r/tmp/sonnets.txt    100%[===================>]  91.38K  --.-KB/s    in 0.001s  \n",
            "\n",
            "2020-07-11 22:07:53 (118 MB/s) - ‘/tmp/sonnets.txt’ saved [93578/93578]\n",
            "\n"
          ],
          "name": "stdout"
        }
      ]
    },
    {
      "cell_type": "code",
      "metadata": {
        "id": "UbSTQOgC7B9Y",
        "colab_type": "code",
        "colab": {
          "base_uri": "https://localhost:8080/",
          "height": 35
        },
        "outputId": "77d95b05-8f81-4987-f04d-308d41bcd935"
      },
      "source": [
        "tokenizer = Tokenizer()\n",
        "\n",
        "data = open('/tmp/sonnets.txt').read()\n",
        "\n",
        "corpus = data.lower().split(\"\\n\")\n",
        "\n",
        "tokenizer.fit_on_texts(corpus)\n",
        "total_words = len(tokenizer.word_index) + 1 # one more for OOV\n",
        "\n",
        "print(\"Vocabulary length: \",total_words)"
      ],
      "execution_count": 8,
      "outputs": [
        {
          "output_type": "stream",
          "text": [
            "Vocabulary length:  3211\n"
          ],
          "name": "stdout"
        }
      ]
    },
    {
      "cell_type": "code",
      "metadata": {
        "colab_type": "code",
        "id": "PRnDnCW-Z7qv",
        "colab": {}
      },
      "source": [
        "# create input sequences using list of tokens\n",
        "input_sequences = []\n",
        "for line in corpus:\n",
        "\ttoken_list = tokenizer.texts_to_sequences([line])[0]\n",
        "\tfor i in range(1, len(token_list)):\n",
        "\t\tn_gram_sequence = token_list[:i+1]\n",
        "\t\tinput_sequences.append(n_gram_sequence)\n",
        "\n",
        "\n",
        "# pad sequences \n",
        "max_sequence_len = max([len(x) for x in input_sequences])\n",
        "input_sequences = np.array(pad_sequences(input_sequences, maxlen=max_sequence_len, padding='pre'))\n",
        "\n",
        "# create predictors and label\n",
        "predictors, label = input_sequences[:,:-1],input_sequences[:,-1]\n",
        "\n",
        "# one-hot-encoding of label tokens\n",
        "label = ku.to_categorical(label, num_classes=total_words)"
      ],
      "execution_count": 5,
      "outputs": []
    },
    {
      "cell_type": "code",
      "metadata": {
        "colab_type": "code",
        "id": "w9vH8Y59ajYL",
        "colab": {
          "base_uri": "https://localhost:8080/",
          "height": 374
        },
        "outputId": "2b2e044a-468f-4902-d286-d7ffa4ba1f0c"
      },
      "source": [
        "# design neural network with LSTM\n",
        "\n",
        "model = Sequential()\n",
        "model.add(Embedding(total_words, 64, input_length=max_sequence_len-1)) # Your Embedding Layer\n",
        "model.add(Bidirectional(LSTM(150, return_sequences = True))) # An LSTM Layer\n",
        "model.add(Dropout(.2)) # A dropout layer\n",
        "model.add(Bidirectional(LSTM(150))) # Another LSTM Layer\n",
        "model.add(Dense(total_words/2,\n",
        "                activation='relu',\n",
        "                kernel_initializer='ones',\n",
        "                kernel_regularizer=tf.keras.regularizers.l1(0.01),\n",
        "                activity_regularizer=tf.keras.regularizers.l2(0.01))) # A Dense Layer including regularizers\n",
        "model.add(Dense(total_words, activation='softmax')) # A Dense Layer\n",
        "\n",
        "model.compile(loss='categorical_crossentropy', optimizer='adam', metrics=['accuracy']) # Pick a loss function and an optimizer\n",
        "\n",
        "model.summary()"
      ],
      "execution_count": 20,
      "outputs": [
        {
          "output_type": "stream",
          "text": [
            "Model: \"sequential_4\"\n",
            "_________________________________________________________________\n",
            "Layer (type)                 Output Shape              Param #   \n",
            "=================================================================\n",
            "embedding_4 (Embedding)      (None, 10, 64)            205504    \n",
            "_________________________________________________________________\n",
            "bidirectional_7 (Bidirection (None, 10, 300)           258000    \n",
            "_________________________________________________________________\n",
            "dropout_3 (Dropout)          (None, 10, 300)           0         \n",
            "_________________________________________________________________\n",
            "bidirectional_8 (Bidirection (None, 300)               541200    \n",
            "_________________________________________________________________\n",
            "dense_4 (Dense)              (None, 1605)              483105    \n",
            "_________________________________________________________________\n",
            "dense_5 (Dense)              (None, 3211)              5156866   \n",
            "=================================================================\n",
            "Total params: 6,644,675\n",
            "Trainable params: 6,644,675\n",
            "Non-trainable params: 0\n",
            "_________________________________________________________________\n"
          ],
          "name": "stdout"
        }
      ]
    },
    {
      "cell_type": "code",
      "metadata": {
        "colab_type": "code",
        "id": "AIg2f1HBxqof",
        "colab": {
          "base_uri": "https://localhost:8080/",
          "height": 1000
        },
        "outputId": "574babe5-2434-4ff4-d921-b3ddbf60b9c3"
      },
      "source": [
        " # train\n",
        " history = model.fit(predictors, label, epochs=100, verbose=1)"
      ],
      "execution_count": 21,
      "outputs": [
        {
          "output_type": "stream",
          "text": [
            "Epoch 1/100\n",
            "484/484 [==============================] - 6s 13ms/step - loss: 3662.1182 - accuracy: 0.0215\n",
            "Epoch 2/100\n",
            "484/484 [==============================] - 6s 13ms/step - loss: 1331.4965 - accuracy: 0.0227\n",
            "Epoch 3/100\n",
            "484/484 [==============================] - 6s 13ms/step - loss: 13.2598 - accuracy: 0.0204\n",
            "Epoch 4/100\n",
            "484/484 [==============================] - 6s 12ms/step - loss: 7.2318 - accuracy: 0.0210\n",
            "Epoch 5/100\n",
            "484/484 [==============================] - 6s 12ms/step - loss: 7.2019 - accuracy: 0.0228\n",
            "Epoch 6/100\n",
            "484/484 [==============================] - 6s 12ms/step - loss: 7.1940 - accuracy: 0.0204\n",
            "Epoch 7/100\n",
            "484/484 [==============================] - 6s 12ms/step - loss: 7.1957 - accuracy: 0.0223\n",
            "Epoch 8/100\n",
            "484/484 [==============================] - 6s 12ms/step - loss: 7.2036 - accuracy: 0.0230\n",
            "Epoch 9/100\n",
            "484/484 [==============================] - 6s 12ms/step - loss: 7.1799 - accuracy: 0.0224\n",
            "Epoch 10/100\n",
            "484/484 [==============================] - 6s 12ms/step - loss: 7.1392 - accuracy: 0.0224\n",
            "Epoch 11/100\n",
            "484/484 [==============================] - 6s 12ms/step - loss: 7.0834 - accuracy: 0.0232\n",
            "Epoch 12/100\n",
            "484/484 [==============================] - 6s 12ms/step - loss: 7.0394 - accuracy: 0.0217\n",
            "Epoch 13/100\n",
            "484/484 [==============================] - 6s 12ms/step - loss: 7.0014 - accuracy: 0.0255\n",
            "Epoch 14/100\n",
            "484/484 [==============================] - 6s 12ms/step - loss: 6.9695 - accuracy: 0.0277\n",
            "Epoch 15/100\n",
            "484/484 [==============================] - 6s 12ms/step - loss: 6.9437 - accuracy: 0.0274\n",
            "Epoch 16/100\n",
            "484/484 [==============================] - 6s 13ms/step - loss: 6.9181 - accuracy: 0.0279\n",
            "Epoch 17/100\n",
            "484/484 [==============================] - 6s 12ms/step - loss: 6.8835 - accuracy: 0.0303\n",
            "Epoch 18/100\n",
            "484/484 [==============================] - 6s 12ms/step - loss: 6.8548 - accuracy: 0.0316\n",
            "Epoch 19/100\n",
            "484/484 [==============================] - 6s 12ms/step - loss: 6.8224 - accuracy: 0.0329\n",
            "Epoch 20/100\n",
            "484/484 [==============================] - 6s 12ms/step - loss: 6.7968 - accuracy: 0.0349\n",
            "Epoch 21/100\n",
            "484/484 [==============================] - 6s 12ms/step - loss: 6.7532 - accuracy: 0.0365\n",
            "Epoch 22/100\n",
            "484/484 [==============================] - 6s 12ms/step - loss: 6.7177 - accuracy: 0.0370\n",
            "Epoch 23/100\n",
            "484/484 [==============================] - 6s 12ms/step - loss: 6.6905 - accuracy: 0.0395\n",
            "Epoch 24/100\n",
            "484/484 [==============================] - 6s 12ms/step - loss: 6.6587 - accuracy: 0.0399\n",
            "Epoch 25/100\n",
            "484/484 [==============================] - 6s 12ms/step - loss: 6.6299 - accuracy: 0.0421\n",
            "Epoch 26/100\n",
            "484/484 [==============================] - 6s 12ms/step - loss: 6.5932 - accuracy: 0.0423\n",
            "Epoch 27/100\n",
            "484/484 [==============================] - 6s 12ms/step - loss: 6.5481 - accuracy: 0.0468\n",
            "Epoch 28/100\n",
            "484/484 [==============================] - 6s 12ms/step - loss: 6.5284 - accuracy: 0.0474\n",
            "Epoch 29/100\n",
            "484/484 [==============================] - 6s 13ms/step - loss: 6.4777 - accuracy: 0.0487\n",
            "Epoch 30/100\n",
            "484/484 [==============================] - 6s 13ms/step - loss: 6.4514 - accuracy: 0.0505\n",
            "Epoch 31/100\n",
            "484/484 [==============================] - 6s 12ms/step - loss: 6.4248 - accuracy: 0.0521\n",
            "Epoch 32/100\n",
            "484/484 [==============================] - 6s 12ms/step - loss: 6.4006 - accuracy: 0.0554\n",
            "Epoch 33/100\n",
            "484/484 [==============================] - 6s 12ms/step - loss: 6.3618 - accuracy: 0.0565\n",
            "Epoch 34/100\n",
            "484/484 [==============================] - 6s 12ms/step - loss: 6.3189 - accuracy: 0.0582\n",
            "Epoch 35/100\n",
            "484/484 [==============================] - 6s 12ms/step - loss: 6.2968 - accuracy: 0.0611\n",
            "Epoch 36/100\n",
            "484/484 [==============================] - 6s 12ms/step - loss: 6.2657 - accuracy: 0.0638\n",
            "Epoch 37/100\n",
            "484/484 [==============================] - 6s 12ms/step - loss: 6.2299 - accuracy: 0.0667\n",
            "Epoch 38/100\n",
            "484/484 [==============================] - 6s 12ms/step - loss: 6.1942 - accuracy: 0.0676\n",
            "Epoch 39/100\n",
            "484/484 [==============================] - 6s 12ms/step - loss: 6.1693 - accuracy: 0.0694\n",
            "Epoch 40/100\n",
            "484/484 [==============================] - 6s 12ms/step - loss: 6.1264 - accuracy: 0.0759\n",
            "Epoch 41/100\n",
            "484/484 [==============================] - 6s 12ms/step - loss: 6.0851 - accuracy: 0.0781\n",
            "Epoch 42/100\n",
            "484/484 [==============================] - 6s 12ms/step - loss: 6.0546 - accuracy: 0.0806\n",
            "Epoch 43/100\n",
            "484/484 [==============================] - 6s 12ms/step - loss: 6.0297 - accuracy: 0.0830\n",
            "Epoch 44/100\n",
            "484/484 [==============================] - 6s 12ms/step - loss: 5.9954 - accuracy: 0.0854\n",
            "Epoch 45/100\n",
            "484/484 [==============================] - 6s 12ms/step - loss: 5.9557 - accuracy: 0.0886\n",
            "Epoch 46/100\n",
            "484/484 [==============================] - 6s 12ms/step - loss: 5.9161 - accuracy: 0.0918\n",
            "Epoch 47/100\n",
            "484/484 [==============================] - 6s 12ms/step - loss: 5.8922 - accuracy: 0.0962\n",
            "Epoch 48/100\n",
            "484/484 [==============================] - 6s 12ms/step - loss: 5.8619 - accuracy: 0.0983\n",
            "Epoch 49/100\n",
            "484/484 [==============================] - 6s 12ms/step - loss: 5.8232 - accuracy: 0.0985\n",
            "Epoch 50/100\n",
            "484/484 [==============================] - 6s 12ms/step - loss: 5.7870 - accuracy: 0.1052\n",
            "Epoch 51/100\n",
            "484/484 [==============================] - 6s 12ms/step - loss: 5.7550 - accuracy: 0.1091\n",
            "Epoch 52/100\n",
            "484/484 [==============================] - 6s 12ms/step - loss: 5.7111 - accuracy: 0.1129\n",
            "Epoch 53/100\n",
            "484/484 [==============================] - 6s 12ms/step - loss: 5.6925 - accuracy: 0.1169\n",
            "Epoch 54/100\n",
            "484/484 [==============================] - 6s 12ms/step - loss: 5.6555 - accuracy: 0.1193\n",
            "Epoch 55/100\n",
            "484/484 [==============================] - 6s 12ms/step - loss: 5.6301 - accuracy: 0.1213\n",
            "Epoch 56/100\n",
            "484/484 [==============================] - 6s 12ms/step - loss: 5.5853 - accuracy: 0.1261\n",
            "Epoch 57/100\n",
            "484/484 [==============================] - 6s 12ms/step - loss: 5.5603 - accuracy: 0.1299\n",
            "Epoch 58/100\n",
            "484/484 [==============================] - 6s 12ms/step - loss: 5.5171 - accuracy: 0.1352\n",
            "Epoch 59/100\n",
            "484/484 [==============================] - 6s 12ms/step - loss: 5.4811 - accuracy: 0.1409\n",
            "Epoch 60/100\n",
            "484/484 [==============================] - 6s 12ms/step - loss: 5.4401 - accuracy: 0.1482\n",
            "Epoch 61/100\n",
            "484/484 [==============================] - 6s 12ms/step - loss: 5.4092 - accuracy: 0.1497\n",
            "Epoch 62/100\n",
            "484/484 [==============================] - 6s 12ms/step - loss: 5.3892 - accuracy: 0.1511\n",
            "Epoch 63/100\n",
            "484/484 [==============================] - 6s 12ms/step - loss: 5.3358 - accuracy: 0.1591\n",
            "Epoch 64/100\n",
            "484/484 [==============================] - 6s 12ms/step - loss: 5.2867 - accuracy: 0.1655\n",
            "Epoch 65/100\n",
            "484/484 [==============================] - 6s 12ms/step - loss: 5.2450 - accuracy: 0.1726\n",
            "Epoch 66/100\n",
            "484/484 [==============================] - 6s 12ms/step - loss: 5.2256 - accuracy: 0.1742\n",
            "Epoch 67/100\n",
            "484/484 [==============================] - 6s 12ms/step - loss: 5.1771 - accuracy: 0.1796\n",
            "Epoch 68/100\n",
            "484/484 [==============================] - 6s 12ms/step - loss: 5.1430 - accuracy: 0.1887\n",
            "Epoch 69/100\n",
            "484/484 [==============================] - 6s 12ms/step - loss: 5.1094 - accuracy: 0.1925\n",
            "Epoch 70/100\n",
            "484/484 [==============================] - 6s 12ms/step - loss: 5.0655 - accuracy: 0.1950\n",
            "Epoch 71/100\n",
            "484/484 [==============================] - 6s 12ms/step - loss: 5.0277 - accuracy: 0.2060\n",
            "Epoch 72/100\n",
            "484/484 [==============================] - 6s 12ms/step - loss: 4.9971 - accuracy: 0.2099\n",
            "Epoch 73/100\n",
            "484/484 [==============================] - 6s 12ms/step - loss: 4.9474 - accuracy: 0.2135\n",
            "Epoch 74/100\n",
            "484/484 [==============================] - 6s 12ms/step - loss: 4.9124 - accuracy: 0.2209\n",
            "Epoch 75/100\n",
            "484/484 [==============================] - 6s 12ms/step - loss: 4.8738 - accuracy: 0.2242\n",
            "Epoch 76/100\n",
            "484/484 [==============================] - 6s 12ms/step - loss: 4.8435 - accuracy: 0.2289\n",
            "Epoch 77/100\n",
            "484/484 [==============================] - 6s 12ms/step - loss: 4.8218 - accuracy: 0.2310\n",
            "Epoch 78/100\n",
            "484/484 [==============================] - 6s 12ms/step - loss: 4.7649 - accuracy: 0.2409\n",
            "Epoch 79/100\n",
            "484/484 [==============================] - 6s 12ms/step - loss: 4.7203 - accuracy: 0.2488\n",
            "Epoch 80/100\n",
            "484/484 [==============================] - 6s 12ms/step - loss: 4.6941 - accuracy: 0.2526\n",
            "Epoch 81/100\n",
            "484/484 [==============================] - 6s 12ms/step - loss: 4.6538 - accuracy: 0.2535\n",
            "Epoch 82/100\n",
            "484/484 [==============================] - 6s 13ms/step - loss: 4.6385 - accuracy: 0.2645\n",
            "Epoch 83/100\n",
            "484/484 [==============================] - 6s 12ms/step - loss: 4.5798 - accuracy: 0.2709\n",
            "Epoch 84/100\n",
            "484/484 [==============================] - 6s 12ms/step - loss: 4.5437 - accuracy: 0.2767\n",
            "Epoch 85/100\n",
            "484/484 [==============================] - 6s 12ms/step - loss: 4.5166 - accuracy: 0.2819\n",
            "Epoch 86/100\n",
            "484/484 [==============================] - 6s 12ms/step - loss: 4.4736 - accuracy: 0.2856\n",
            "Epoch 87/100\n",
            "484/484 [==============================] - 6s 12ms/step - loss: 4.4299 - accuracy: 0.2939\n",
            "Epoch 88/100\n",
            "484/484 [==============================] - 6s 12ms/step - loss: 4.3976 - accuracy: 0.3003\n",
            "Epoch 89/100\n",
            "484/484 [==============================] - 6s 12ms/step - loss: 4.3813 - accuracy: 0.3055\n",
            "Epoch 90/100\n",
            "484/484 [==============================] - 6s 12ms/step - loss: 4.3455 - accuracy: 0.3128\n",
            "Epoch 91/100\n",
            "484/484 [==============================] - 6s 12ms/step - loss: 4.3092 - accuracy: 0.3184\n",
            "Epoch 92/100\n",
            "484/484 [==============================] - 6s 12ms/step - loss: 4.2930 - accuracy: 0.3209\n",
            "Epoch 93/100\n",
            "484/484 [==============================] - 6s 12ms/step - loss: 4.2446 - accuracy: 0.3322\n",
            "Epoch 94/100\n",
            "484/484 [==============================] - 6s 12ms/step - loss: 4.2201 - accuracy: 0.3394\n",
            "Epoch 95/100\n",
            "484/484 [==============================] - 6s 12ms/step - loss: 4.1743 - accuracy: 0.3438\n",
            "Epoch 96/100\n",
            "484/484 [==============================] - 6s 12ms/step - loss: 4.1549 - accuracy: 0.3478\n",
            "Epoch 97/100\n",
            "484/484 [==============================] - 6s 12ms/step - loss: 4.1234 - accuracy: 0.3522\n",
            "Epoch 98/100\n",
            "484/484 [==============================] - 6s 12ms/step - loss: 4.0735 - accuracy: 0.3655\n",
            "Epoch 99/100\n",
            "484/484 [==============================] - 6s 12ms/step - loss: 4.0475 - accuracy: 0.3674\n",
            "Epoch 100/100\n",
            "484/484 [==============================] - 6s 12ms/step - loss: 4.0264 - accuracy: 0.3736\n"
          ],
          "name": "stdout"
        }
      ]
    },
    {
      "cell_type": "code",
      "metadata": {
        "colab_type": "code",
        "id": "1fXTEO3GJ282",
        "colab": {
          "base_uri": "https://localhost:8080/",
          "height": 545
        },
        "outputId": "548b2397-a508-413c-8bdf-6249745f5cb9"
      },
      "source": [
        "import matplotlib.pyplot as plt\n",
        "acc = history.history['accuracy']\n",
        "loss = history.history['loss']\n",
        "\n",
        "epochs = range(len(acc))\n",
        "\n",
        "plt.plot(epochs, acc, 'b', label='Training accuracy')\n",
        "plt.title('Training accuracy')\n",
        "\n",
        "plt.figure()\n",
        "\n",
        "plt.plot(epochs, loss, 'b', label='Training Loss')\n",
        "plt.title('Training loss')\n",
        "plt.legend()\n",
        "\n",
        "plt.show()"
      ],
      "execution_count": 22,
      "outputs": [
        {
          "output_type": "display_data",
          "data": {
            "image/png": "[encoded data removed]",
            "text/plain": [
              "<Figure size 432x288 with 1 Axes>"
            ]
          },
          "metadata": {
            "tags": [],
            "needs_background": "light"
          }
        },
        {
          "output_type": "display_data",
          "data": {
            "image/png": "[encoded data removed]",
            "text/plain": [
              "<Figure size 432x288 with 1 Axes>"
            ]
          },
          "metadata": {
            "tags": [],
            "needs_background": "light"
          }
        }
      ]
    },
    {
      "cell_type": "code",
      "metadata": {
        "colab_type": "code",
        "id": "6Vc6PHgxa6Hm",
        "colab": {
          "base_uri": "https://localhost:8080/",
          "height": 55
        },
        "outputId": "fb92b126-7080-4817-fad5-887bffe844b9"
      },
      "source": [
        "seed_text = \"Help me Obi Wan Kenobi, you're my only hope\"\n",
        "next_words = 100\n",
        "  \n",
        "for _ in range(next_words):\n",
        "\ttoken_list = tokenizer.texts_to_sequences([seed_text])[0]\n",
        "\ttoken_list = pad_sequences([token_list], maxlen=max_sequence_len-1, padding='pre')\n",
        "\tpredicted = model.predict_classes(token_list, verbose=0)\n",
        "\toutput_word = \"\"\n",
        "\tfor word, index in tokenizer.word_index.items():\n",
        "\t\tif index == predicted:\n",
        "\t\t\toutput_word = word\n",
        "\t\t\tbreak\n",
        "\tseed_text += \" \" + output_word\n",
        "print(seed_text)"
      ],
      "execution_count": 23,
      "outputs": [
        {
          "output_type": "stream",
          "text": [
            "Help me Obi Wan Kenobi, you're my only hope rude grow thee end deeds to amiss part be fire seen kings pride i gone of his doom my spent doom or taken part i appear rich tell your friend new day still new that mine ill was i am the thing their state away doth end ' quite disdain excel tell your friend tell your friend be i be ' doth time do ' lie me made of lies dead liberty decay ' night night being pitch this world bear decay your knife cruel tell i past face wrong decay go canopy your tomb his tomb your end deeds\n"
          ],
          "name": "stdout"
        }
      ]
    },
    {
      "cell_type": "code",
      "metadata": {
        "id": "RtJUSTOBJN43",
        "colab_type": "code",
        "colab": {}
      },
      "source": [
        ""
      ],
      "execution_count": 23,
      "outputs": []
    }
  ]
}