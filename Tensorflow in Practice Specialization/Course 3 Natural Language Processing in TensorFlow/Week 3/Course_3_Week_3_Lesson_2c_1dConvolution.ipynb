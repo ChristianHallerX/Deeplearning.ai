{
  "nbformat": 4,
  "nbformat_minor": 0,
  "metadata": {
    "accelerator": "GPU",
    "colab": {
      "name": "Course 3 - Week 3 - Lesson 2c.ipynb",
      "provenance": [],
      "collapsed_sections": [],
      "toc_visible": true
    },
    "kernelspec": {
      "display_name": "Python 3",
      "language": "python",
      "name": "python3"
    },
    "language_info": {
      "codemirror_mode": {
        "name": "ipython",
        "version": 3
      },
      "file_extension": ".py",
      "mimetype": "text/x-python",
      "name": "python",
      "nbconvert_exporter": "python",
      "pygments_lexer": "ipython3",
      "version": "3.7.6"
    }
  },
  "cells": [
    {
      "cell_type": "markdown",
      "metadata": {
        "id": "fkEjyqZYSfCr",
        "colab_type": "text"
      },
      "source": [
        "# Sarcasm with 1D Convolutional Layer"
      ]
    },
    {
      "cell_type": "code",
      "metadata": {
        "id": "cPipYv3gSi-w",
        "colab_type": "code",
        "colab": {}
      },
      "source": [
        "import numpy as np\n",
        "\n",
        "import json\n",
        "import tensorflow as tf\n",
        "\n",
        "from tensorflow.keras.preprocessing.text import Tokenizer\n",
        "from tensorflow.keras.preprocessing.sequence import pad_sequences"
      ],
      "execution_count": 1,
      "outputs": []
    },
    {
      "cell_type": "code",
      "metadata": {
        "id": "WNpYnal-SjEL",
        "colab_type": "code",
        "colab": {
          "base_uri": "https://localhost:8080/",
          "height": 214
        },
        "outputId": "331aa0d6-c12a-4755-f060-62f21a8922ad"
      },
      "source": [
        "!wget --no-check-certificate \\\n",
        "    https://storage.googleapis.com/laurencemoroney-blog.appspot.com/sarcasm.json \\\n",
        "    -O /tmp/sarcasm.json"
      ],
      "execution_count": 2,
      "outputs": [
        {
          "output_type": "stream",
          "text": [
            "--2020-07-09 16:26:15--  https://storage.googleapis.com/laurencemoroney-blog.appspot.com/sarcasm.json\n",
            "Resolving storage.googleapis.com (storage.googleapis.com)... 74.125.133.128, 74.125.140.128, 173.194.76.128, ...\n",
            "Connecting to storage.googleapis.com (storage.googleapis.com)|74.125.133.128|:443... connected.\n",
            "HTTP request sent, awaiting response... 200 OK\n",
            "Length: 5643545 (5.4M) [application/json]\n",
            "Saving to: ‘/tmp/sarcasm.json’\n",
            "\n",
            "/tmp/sarcasm.json   100%[===================>]   5.38M  6.80MB/s    in 0.8s    \n",
            "\n",
            "2020-07-09 16:26:16 (6.80 MB/s) - ‘/tmp/sarcasm.json’ saved [5643545/5643545]\n",
            "\n"
          ],
          "name": "stdout"
        }
      ]
    },
    {
      "cell_type": "code",
      "metadata": {
        "id": "S4j8Q7XVSjJg",
        "colab_type": "code",
        "colab": {}
      },
      "source": [
        "vocab_size = 1000\n",
        "embedding_dim = 16\n",
        "max_length = 120\n",
        "trunc_type='post'\n",
        "padding_type='post'\n",
        "oov_tok = \"<OOV>\"\n",
        "training_size = 20000\n",
        "\n",
        "with open(\"/tmp/sarcasm.json\", 'r') as f:\n",
        "    datastore = json.load(f)\n",
        "\n",
        "sentences = []\n",
        "labels = []\n",
        "urls = []\n",
        "for item in datastore:\n",
        "    sentences.append(item['headline'])\n",
        "    labels.append(item['is_sarcastic'])\n",
        "\n",
        "training_sentences = sentences[0:training_size]\n",
        "testing_sentences = sentences[training_size:]\n",
        "training_labels = labels[0:training_size]\n",
        "testing_labels = labels[training_size:]"
      ],
      "execution_count": 3,
      "outputs": []
    },
    {
      "cell_type": "code",
      "metadata": {
        "id": "bxmtMR1pSp7X",
        "colab_type": "code",
        "colab": {}
      },
      "source": [
        "tokenizer = Tokenizer(num_words=vocab_size, oov_token=oov_tok)\n",
        "tokenizer.fit_on_texts(training_sentences)\n",
        "\n",
        "word_index = tokenizer.word_index\n",
        "\n",
        "training_sequences = tokenizer.texts_to_sequences(training_sentences)\n",
        "training_padded = pad_sequences(training_sequences, maxlen=max_length, padding=padding_type, truncating=trunc_type)\n",
        "\n",
        "testing_sequences = tokenizer.texts_to_sequences(testing_sentences)\n",
        "testing_padded = pad_sequences(testing_sequences, maxlen=max_length, padding=padding_type, truncating=trunc_type)"
      ],
      "execution_count": 4,
      "outputs": []
    },
    {
      "cell_type": "code",
      "metadata": {
        "id": "9HIhv6vbSp_E",
        "colab_type": "code",
        "colab": {
          "base_uri": "https://localhost:8080/",
          "height": 339
        },
        "outputId": "2ed70eee-435a-4017-f0f2-bdd1b9fa1f9c"
      },
      "source": [
        "model = tf.keras.Sequential([\n",
        "    tf.keras.layers.Embedding(vocab_size, embedding_dim, input_length=max_length),\n",
        "    tf.keras.layers.Conv1D(128, 5, activation='relu'),\n",
        "    tf.keras.layers.GlobalMaxPooling1D(),\n",
        "    tf.keras.layers.Dense(24, activation='relu'),\n",
        "    tf.keras.layers.Dense(1, activation='sigmoid')\n",
        "])\n",
        "model.compile(loss='binary_crossentropy',optimizer='adam',metrics=['accuracy'])\n",
        "model.summary()\n",
        "\n",
        "num_epochs = 50\n",
        "\n",
        "training_padded = np.array(training_padded)\n",
        "training_labels = np.array(training_labels)\n",
        "testing_padded = np.array(testing_padded)\n",
        "testing_labels = np.array(testing_labels)"
      ],
      "execution_count": 5,
      "outputs": [
        {
          "output_type": "stream",
          "text": [
            "Model: \"sequential\"\n",
            "_________________________________________________________________\n",
            "Layer (type)                 Output Shape              Param #   \n",
            "=================================================================\n",
            "embedding (Embedding)        (None, 120, 16)           16000     \n",
            "_________________________________________________________________\n",
            "conv1d (Conv1D)              (None, 116, 128)          10368     \n",
            "_________________________________________________________________\n",
            "global_max_pooling1d (Global (None, 128)               0         \n",
            "_________________________________________________________________\n",
            "dense (Dense)                (None, 24)                3096      \n",
            "_________________________________________________________________\n",
            "dense_1 (Dense)              (None, 1)                 25        \n",
            "=================================================================\n",
            "Total params: 29,489\n",
            "Trainable params: 29,489\n",
            "Non-trainable params: 0\n",
            "_________________________________________________________________\n"
          ],
          "name": "stdout"
        }
      ]
    },
    {
      "cell_type": "code",
      "metadata": {
        "colab_type": "code",
        "id": "jGwXGIXvFhXW",
        "colab": {
          "base_uri": "https://localhost:8080/",
          "height": 1000
        },
        "outputId": "7eff6e0f-8a57-4499-89ca-248601ae7bba"
      },
      "source": [
        "history = model.fit(training_padded, training_labels, epochs=num_epochs, validation_data=(testing_padded, testing_labels), verbose=1)"
      ],
      "execution_count": 6,
      "outputs": [
        {
          "output_type": "stream",
          "text": [
            "Epoch 1/50\n",
            "625/625 [==============================] - 4s 6ms/step - loss: 0.4788 - accuracy: 0.7513 - val_loss: 0.4123 - val_accuracy: 0.8104\n",
            "Epoch 2/50\n",
            "625/625 [==============================] - 4s 6ms/step - loss: 0.3645 - accuracy: 0.8357 - val_loss: 0.3959 - val_accuracy: 0.8196\n",
            "Epoch 3/50\n",
            "625/625 [==============================] - 4s 6ms/step - loss: 0.3269 - accuracy: 0.8554 - val_loss: 0.3974 - val_accuracy: 0.8217\n",
            "Epoch 4/50\n",
            "625/625 [==============================] - 4s 6ms/step - loss: 0.2925 - accuracy: 0.8727 - val_loss: 0.4084 - val_accuracy: 0.8252\n",
            "Epoch 5/50\n",
            "625/625 [==============================] - 4s 6ms/step - loss: 0.2583 - accuracy: 0.8896 - val_loss: 0.4240 - val_accuracy: 0.8152\n",
            "Epoch 6/50\n",
            "625/625 [==============================] - 4s 6ms/step - loss: 0.2230 - accuracy: 0.9070 - val_loss: 0.4603 - val_accuracy: 0.8111\n",
            "Epoch 7/50\n",
            "625/625 [==============================] - 4s 6ms/step - loss: 0.1899 - accuracy: 0.9232 - val_loss: 0.4999 - val_accuracy: 0.8111\n",
            "Epoch 8/50\n",
            "625/625 [==============================] - 4s 7ms/step - loss: 0.1609 - accuracy: 0.9388 - val_loss: 0.5572 - val_accuracy: 0.8123\n",
            "Epoch 9/50\n",
            "625/625 [==============================] - 4s 6ms/step - loss: 0.1326 - accuracy: 0.9504 - val_loss: 0.6124 - val_accuracy: 0.8030\n",
            "Epoch 10/50\n",
            "625/625 [==============================] - 4s 6ms/step - loss: 0.1071 - accuracy: 0.9625 - val_loss: 0.7004 - val_accuracy: 0.8006\n",
            "Epoch 11/50\n",
            "625/625 [==============================] - 4s 6ms/step - loss: 0.0891 - accuracy: 0.9686 - val_loss: 0.7822 - val_accuracy: 0.8030\n",
            "Epoch 12/50\n",
            "625/625 [==============================] - 4s 6ms/step - loss: 0.0756 - accuracy: 0.9729 - val_loss: 0.8883 - val_accuracy: 0.8025\n",
            "Epoch 13/50\n",
            "625/625 [==============================] - 4s 6ms/step - loss: 0.0667 - accuracy: 0.9769 - val_loss: 0.9806 - val_accuracy: 0.8010\n",
            "Epoch 14/50\n",
            "625/625 [==============================] - 4s 6ms/step - loss: 0.0567 - accuracy: 0.9807 - val_loss: 1.0396 - val_accuracy: 0.8031\n",
            "Epoch 15/50\n",
            "625/625 [==============================] - 4s 6ms/step - loss: 0.0518 - accuracy: 0.9819 - val_loss: 1.1165 - val_accuracy: 0.7988\n",
            "Epoch 16/50\n",
            "625/625 [==============================] - 4s 6ms/step - loss: 0.0455 - accuracy: 0.9831 - val_loss: 1.2434 - val_accuracy: 0.7939\n",
            "Epoch 17/50\n",
            "625/625 [==============================] - 4s 6ms/step - loss: 0.0441 - accuracy: 0.9840 - val_loss: 1.2532 - val_accuracy: 0.7934\n",
            "Epoch 18/50\n",
            "625/625 [==============================] - 4s 6ms/step - loss: 0.0415 - accuracy: 0.9848 - val_loss: 1.3615 - val_accuracy: 0.7970\n",
            "Epoch 19/50\n",
            "625/625 [==============================] - 4s 6ms/step - loss: 0.0353 - accuracy: 0.9876 - val_loss: 1.4310 - val_accuracy: 0.7939\n",
            "Epoch 20/50\n",
            "625/625 [==============================] - 4s 6ms/step - loss: 0.0351 - accuracy: 0.9867 - val_loss: 1.4445 - val_accuracy: 0.7943\n",
            "Epoch 21/50\n",
            "625/625 [==============================] - 4s 6ms/step - loss: 0.0346 - accuracy: 0.9865 - val_loss: 1.5966 - val_accuracy: 0.7883\n",
            "Epoch 22/50\n",
            "625/625 [==============================] - 4s 6ms/step - loss: 0.0370 - accuracy: 0.9858 - val_loss: 1.5002 - val_accuracy: 0.7934\n",
            "Epoch 23/50\n",
            "625/625 [==============================] - 4s 6ms/step - loss: 0.0327 - accuracy: 0.9869 - val_loss: 1.6145 - val_accuracy: 0.7869\n",
            "Epoch 24/50\n",
            "625/625 [==============================] - 4s 6ms/step - loss: 0.0289 - accuracy: 0.9887 - val_loss: 1.6566 - val_accuracy: 0.7930\n",
            "Epoch 25/50\n",
            "625/625 [==============================] - 4s 6ms/step - loss: 0.0289 - accuracy: 0.9883 - val_loss: 1.6634 - val_accuracy: 0.7930\n",
            "Epoch 26/50\n",
            "625/625 [==============================] - 4s 6ms/step - loss: 0.0299 - accuracy: 0.9880 - val_loss: 1.7295 - val_accuracy: 0.7906\n",
            "Epoch 27/50\n",
            "625/625 [==============================] - 4s 6ms/step - loss: 0.0313 - accuracy: 0.9873 - val_loss: 1.7460 - val_accuracy: 0.7886\n",
            "Epoch 28/50\n",
            "625/625 [==============================] - 4s 6ms/step - loss: 0.0266 - accuracy: 0.9898 - val_loss: 1.8927 - val_accuracy: 0.7895\n",
            "Epoch 29/50\n",
            "625/625 [==============================] - 4s 6ms/step - loss: 0.0249 - accuracy: 0.9905 - val_loss: 1.8242 - val_accuracy: 0.7949\n",
            "Epoch 30/50\n",
            "625/625 [==============================] - 4s 6ms/step - loss: 0.0250 - accuracy: 0.9904 - val_loss: 1.9353 - val_accuracy: 0.7916\n",
            "Epoch 31/50\n",
            "625/625 [==============================] - 4s 6ms/step - loss: 0.0238 - accuracy: 0.9902 - val_loss: 1.9618 - val_accuracy: 0.7937\n",
            "Epoch 32/50\n",
            "625/625 [==============================] - 4s 6ms/step - loss: 0.0253 - accuracy: 0.9900 - val_loss: 2.0801 - val_accuracy: 0.7843\n",
            "Epoch 33/50\n",
            "625/625 [==============================] - 4s 6ms/step - loss: 0.0262 - accuracy: 0.9901 - val_loss: 2.1411 - val_accuracy: 0.7848\n",
            "Epoch 34/50\n",
            "625/625 [==============================] - 4s 6ms/step - loss: 0.0228 - accuracy: 0.9905 - val_loss: 2.0797 - val_accuracy: 0.7855\n",
            "Epoch 35/50\n",
            "625/625 [==============================] - 4s 6ms/step - loss: 0.0218 - accuracy: 0.9911 - val_loss: 2.1186 - val_accuracy: 0.7883\n",
            "Epoch 36/50\n",
            "625/625 [==============================] - 4s 6ms/step - loss: 0.0225 - accuracy: 0.9901 - val_loss: 2.1145 - val_accuracy: 0.7813\n",
            "Epoch 37/50\n",
            "625/625 [==============================] - 4s 6ms/step - loss: 0.0235 - accuracy: 0.9897 - val_loss: 2.0757 - val_accuracy: 0.7883\n",
            "Epoch 38/50\n",
            "625/625 [==============================] - 4s 6ms/step - loss: 0.0275 - accuracy: 0.9886 - val_loss: 2.1424 - val_accuracy: 0.7845\n",
            "Epoch 39/50\n",
            "625/625 [==============================] - 4s 6ms/step - loss: 0.0245 - accuracy: 0.9894 - val_loss: 2.1383 - val_accuracy: 0.7869\n",
            "Epoch 40/50\n",
            "625/625 [==============================] - 4s 6ms/step - loss: 0.0204 - accuracy: 0.9912 - val_loss: 2.1997 - val_accuracy: 0.7942\n",
            "Epoch 41/50\n",
            "625/625 [==============================] - 4s 6ms/step - loss: 0.0187 - accuracy: 0.9925 - val_loss: 2.3234 - val_accuracy: 0.7882\n",
            "Epoch 42/50\n",
            "625/625 [==============================] - 4s 6ms/step - loss: 0.0181 - accuracy: 0.9918 - val_loss: 2.2902 - val_accuracy: 0.7901\n",
            "Epoch 43/50\n",
            "625/625 [==============================] - 4s 6ms/step - loss: 0.0200 - accuracy: 0.9916 - val_loss: 2.3817 - val_accuracy: 0.7860\n",
            "Epoch 44/50\n",
            "625/625 [==============================] - 4s 6ms/step - loss: 0.0236 - accuracy: 0.9900 - val_loss: 2.3735 - val_accuracy: 0.7901\n",
            "Epoch 45/50\n",
            "625/625 [==============================] - 4s 6ms/step - loss: 0.0244 - accuracy: 0.9902 - val_loss: 2.3370 - val_accuracy: 0.7879\n",
            "Epoch 46/50\n",
            "625/625 [==============================] - 4s 6ms/step - loss: 0.0228 - accuracy: 0.9901 - val_loss: 2.3673 - val_accuracy: 0.7867\n",
            "Epoch 47/50\n",
            "625/625 [==============================] - 4s 6ms/step - loss: 0.0189 - accuracy: 0.9908 - val_loss: 2.4053 - val_accuracy: 0.7916\n",
            "Epoch 48/50\n",
            "625/625 [==============================] - 4s 6ms/step - loss: 0.0211 - accuracy: 0.9908 - val_loss: 2.3686 - val_accuracy: 0.7882\n",
            "Epoch 49/50\n",
            "625/625 [==============================] - 4s 6ms/step - loss: 0.0180 - accuracy: 0.9922 - val_loss: 2.4502 - val_accuracy: 0.7858\n",
            "Epoch 50/50\n",
            "625/625 [==============================] - 4s 6ms/step - loss: 0.0160 - accuracy: 0.9929 - val_loss: 2.4723 - val_accuracy: 0.7895\n"
          ],
          "name": "stdout"
        }
      ]
    },
    {
      "cell_type": "code",
      "metadata": {
        "colab_type": "code",
        "id": "g9DC6dmLF8DC",
        "colab": {
          "base_uri": "https://localhost:8080/",
          "height": 541
        },
        "outputId": "6cb2a38f-7318-4c56-c051-5a554b4c0426"
      },
      "source": [
        "import matplotlib.pyplot as plt\n",
        "\n",
        "def plot_graphs(history, string):\n",
        "  plt.plot(history.history[string])\n",
        "  plt.plot(history.history['val_'+string])\n",
        "  plt.xlabel(\"Epochs\")\n",
        "  plt.ylabel(string)\n",
        "  plt.legend([string, 'val_'+string])\n",
        "  plt.show()\n",
        "\n",
        "plot_graphs(history, 'accuracy')\n",
        "plot_graphs(history, 'loss')"
      ],
      "execution_count": 7,
      "outputs": [
        {
          "output_type": "display_data",
          "data": {
            "image/png": "[encoded data removed]",
            "text/plain": [
              "<Figure size 432x288 with 1 Axes>"
            ]
          },
          "metadata": {
            "tags": [],
            "needs_background": "light"
          }
        },
        {
          "output_type": "display_data",
          "data": {
            "image/png": "[encoded data removed]",
            "text/plain": [
              "<Figure size 432x288 with 1 Axes>"
            ]
          },
          "metadata": {
            "tags": [],
            "needs_background": "light"
          }
        }
      ]
    },
    {
      "cell_type": "code",
      "metadata": {
        "colab_type": "code",
        "id": "7ZEZIUppGhdi",
        "colab": {}
      },
      "source": [
        "model.save(\"test.h5\")"
      ],
      "execution_count": 8,
      "outputs": []
    }
  ]
}