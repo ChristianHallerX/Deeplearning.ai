{
 "cells": [
  {
   "cell_type": "markdown",
   "metadata": {
    "colab_type": "text",
    "id": "42v-KjeX5zqi"
   },
   "source": [
    "# Text Generation (Shakespeare Sonnets Exercise)"
   ]
  },
  {
   "cell_type": "code",
   "execution_count": 1,
   "metadata": {
    "colab": {},
    "colab_type": "code",
    "id": "BOwsuGQQY9OL"
   },
   "outputs": [],
   "source": [
    "from tensorflow.keras.preprocessing.sequence import pad_sequences\n",
    "from tensorflow.keras.layers import Embedding, LSTM, Dense, Dropout, Bidirectional\n",
    "from tensorflow.keras.preprocessing.text import Tokenizer\n",
    "from tensorflow.keras.models import Sequential\n",
    "from tensorflow.keras.optimizers import Adam\n",
    "### YOUR CODE HERE\n",
    "#from tensorflow.keras.regularizers import l2\n",
    "# Figure out how to import regularizers\n",
    "###\n",
    "import tensorflow.keras.utils as ku \n",
    "import numpy as np\n",
    "import tensorflow as tf"
   ]
  },
  {
   "cell_type": "code",
   "execution_count": 2,
   "metadata": {},
   "outputs": [],
   "source": [
    "import os\n",
    "import wget\n",
    "\n",
    "url = 'https://storage.googleapis.com/laurencemoroney-blog.appspot.com/sonnets.txt'\n",
    "out = f'{os.getcwd()}\\\\sonnets.txt'\n",
    "\n",
    "if not os.path.isfile(out):\n",
    "    wget.download(url, out=out)"
   ]
  },
  {
   "cell_type": "code",
   "execution_count": 3,
   "metadata": {
    "colab": {
     "base_uri": "https://localhost:8080/",
     "height": 35
    },
    "colab_type": "code",
    "id": "UbSTQOgC7B9Y",
    "outputId": "77d95b05-8f81-4987-f04d-308d41bcd935"
   },
   "outputs": [
    {
     "name": "stdout",
     "output_type": "stream",
     "text": [
      "Vocabulary length:  3211\n"
     ]
    }
   ],
   "source": [
    "tokenizer = Tokenizer()\n",
    "\n",
    "data = open(f'{os.getcwd()}\\\\sonnets.txt').read()\n",
    "\n",
    "corpus = data.lower().split(\"\\n\")\n",
    "\n",
    "tokenizer.fit_on_texts(corpus)\n",
    "total_words = len(tokenizer.word_index) + 1 # one more for OOV\n",
    "\n",
    "print(\"Vocabulary length: \",total_words)"
   ]
  },
  {
   "cell_type": "code",
   "execution_count": 4,
   "metadata": {
    "colab": {},
    "colab_type": "code",
    "id": "PRnDnCW-Z7qv"
   },
   "outputs": [],
   "source": [
    "# create input sequences using list of tokens\n",
    "input_sequences = []\n",
    "for line in corpus:\n",
    "    token_list = tokenizer.texts_to_sequences([line])[0]\n",
    "    for i in range(1, len(token_list)):\n",
    "        n_gram_sequence = token_list[:i+1]\n",
    "        input_sequences.append(n_gram_sequence)\n",
    "\n",
    "# pad sequences \n",
    "max_sequence_len = max([len(x) for x in input_sequences])\n",
    "input_sequences = np.array(pad_sequences(input_sequences, maxlen=max_sequence_len, padding='pre'))\n",
    "\n",
    "# create predictors and label\n",
    "predictors, label = input_sequences[:,:-1],input_sequences[:,-1]\n",
    "\n",
    "# one-hot-encoding of label tokens\n",
    "label = ku.to_categorical(label, num_classes=total_words)"
   ]
  },
  {
   "cell_type": "code",
   "execution_count": 6,
   "metadata": {
    "colab": {
     "base_uri": "https://localhost:8080/",
     "height": 374
    },
    "colab_type": "code",
    "id": "w9vH8Y59ajYL",
    "outputId": "2b2e044a-468f-4902-d286-d7ffa4ba1f0c"
   },
   "outputs": [
    {
     "name": "stdout",
     "output_type": "stream",
     "text": [
      "Model: \"sequential_1\"\n",
      "_________________________________________________________________\n",
      "Layer (type)                 Output Shape              Param #   \n",
      "=================================================================\n",
      "embedding_1 (Embedding)      (None, 10, 64)            205504    \n",
      "_________________________________________________________________\n",
      "bidirectional (Bidirectional (None, 10, 300)           258000    \n",
      "_________________________________________________________________\n",
      "dropout (Dropout)            (None, 10, 300)           0         \n",
      "_________________________________________________________________\n",
      "bidirectional_1 (Bidirection (None, 300)               541200    \n",
      "_________________________________________________________________\n",
      "dense (Dense)                (None, 1605)              483105    \n",
      "_________________________________________________________________\n",
      "dense_1 (Dense)              (None, 3211)              5156866   \n",
      "=================================================================\n",
      "Total params: 6,644,675\n",
      "Trainable params: 6,644,675\n",
      "Non-trainable params: 0\n",
      "_________________________________________________________________\n"
     ]
    }
   ],
   "source": [
    "# design neural network with LSTM\n",
    "\n",
    "model = Sequential()\n",
    "model.add(Embedding(total_words, 64, input_length=max_sequence_len-1)) # Your Embedding Layer\n",
    "model.add(Bidirectional(LSTM(150, return_sequences = True))) # An LSTM Layer\n",
    "model.add(Dropout(.2)) # A dropout layer\n",
    "model.add(Bidirectional(LSTM(150))) # Another LSTM Layer\n",
    "model.add(Dense(total_words/2,\n",
    "                activation='relu',\n",
    "                kernel_regularizer=tf.keras.regularizers.l2(0.01))) # A Dense Layer including regularizers\n",
    "model.add(Dense(total_words, activation='softmax')) # A Dense Layer\n",
    "\n",
    "model.compile(loss='categorical_crossentropy', optimizer='adam', metrics=['accuracy']) # Pick a loss function and an optimizer\n",
    "\n",
    "model.summary()"
   ]
  },
  {
   "cell_type": "code",
   "execution_count": 7,
   "metadata": {
    "colab": {
     "base_uri": "https://localhost:8080/",
     "height": 1000
    },
    "colab_type": "code",
    "id": "AIg2f1HBxqof",
    "outputId": "574babe5-2434-4ff4-d921-b3ddbf60b9c3"
   },
   "outputs": [
    {
     "name": "stdout",
     "output_type": "stream",
     "text": [
      "Epoch 1/100\n",
      "484/484 [==============================] - 5s 11ms/step - loss: 7.0449 - accuracy: 0.0214\n",
      "Epoch 2/100\n",
      "484/484 [==============================] - 5s 11ms/step - loss: 6.5259 - accuracy: 0.0224\n",
      "Epoch 3/100\n",
      "484/484 [==============================] - 5s 11ms/step - loss: 6.4326 - accuracy: 0.0257\n",
      "Epoch 4/100\n",
      "484/484 [==============================] - 5s 11ms/step - loss: 6.3160 - accuracy: 0.0331\n",
      "Epoch 5/100\n",
      "484/484 [==============================] - 5s 11ms/step - loss: 6.1892 - accuracy: 0.0366\n",
      "Epoch 6/100\n",
      "484/484 [==============================] - 5s 11ms/step - loss: 6.0656 - accuracy: 0.0369\n",
      "Epoch 7/100\n",
      "484/484 [==============================] - 5s 11ms/step - loss: 5.9486 - accuracy: 0.0417\n",
      "Epoch 8/100\n",
      "484/484 [==============================] - 5s 11ms/step - loss: 5.8399 - accuracy: 0.0466\n",
      "Epoch 9/100\n",
      "484/484 [==============================] - 5s 11ms/step - loss: 5.7264 - accuracy: 0.0515\n",
      "Epoch 10/100\n",
      "484/484 [==============================] - 5s 11ms/step - loss: 5.6208 - accuracy: 0.0592\n",
      "Epoch 11/100\n",
      "484/484 [==============================] - 5s 11ms/step - loss: 5.5043 - accuracy: 0.0673\n",
      "Epoch 12/100\n",
      "484/484 [==============================] - 5s 11ms/step - loss: 5.3852 - accuracy: 0.0713\n",
      "Epoch 13/100\n",
      "484/484 [==============================] - 5s 11ms/step - loss: 5.2646 - accuracy: 0.0816\n",
      "Epoch 14/100\n",
      "484/484 [==============================] - 5s 11ms/step - loss: 5.1494 - accuracy: 0.0882\n",
      "Epoch 15/100\n",
      "484/484 [==============================] - 5s 11ms/step - loss: 5.0341 - accuracy: 0.0955\n",
      "Epoch 16/100\n",
      "484/484 [==============================] - 5s 11ms/step - loss: 4.9261 - accuracy: 0.1046\n",
      "Epoch 17/100\n",
      "484/484 [==============================] - 5s 11ms/step - loss: 4.8166 - accuracy: 0.1123\n",
      "Epoch 18/100\n",
      "484/484 [==============================] - 5s 11ms/step - loss: 4.7076 - accuracy: 0.1239\n",
      "Epoch 19/100\n",
      "484/484 [==============================] - 5s 11ms/step - loss: 4.5860 - accuracy: 0.1354\n",
      "Epoch 20/100\n",
      "484/484 [==============================] - 5s 11ms/step - loss: 4.4731 - accuracy: 0.1457\n",
      "Epoch 21/100\n",
      "484/484 [==============================] - 5s 11ms/step - loss: 4.3632 - accuracy: 0.1584\n",
      "Epoch 22/100\n",
      "484/484 [==============================] - 5s 11ms/step - loss: 4.2427 - accuracy: 0.1724\n",
      "Epoch 23/100\n",
      "484/484 [==============================] - 5s 11ms/step - loss: 4.1287 - accuracy: 0.1890\n",
      "Epoch 24/100\n",
      "484/484 [==============================] - 5s 11ms/step - loss: 4.0114 - accuracy: 0.2037\n",
      "Epoch 25/100\n",
      "484/484 [==============================] - 6s 11ms/step - loss: 3.9073 - accuracy: 0.2210\n",
      "Epoch 26/100\n",
      "484/484 [==============================] - 6s 11ms/step - loss: 3.7872 - accuracy: 0.2402\n",
      "Epoch 27/100\n",
      "484/484 [==============================] - 6s 11ms/step - loss: 3.6764 - accuracy: 0.2599\n",
      "Epoch 28/100\n",
      "484/484 [==============================] - 6s 12ms/step - loss: 3.5596 - accuracy: 0.2876\n",
      "Epoch 29/100\n",
      "484/484 [==============================] - 6s 11ms/step - loss: 3.4605 - accuracy: 0.3051\n",
      "Epoch 30/100\n",
      "484/484 [==============================] - 5s 11ms/step - loss: 3.3555 - accuracy: 0.3324\n",
      "Epoch 31/100\n",
      "484/484 [==============================] - 6s 11ms/step - loss: 3.2571 - accuracy: 0.3508\n",
      "Epoch 32/100\n",
      "484/484 [==============================] - 6s 12ms/step - loss: 3.1554 - accuracy: 0.3745\n",
      "Epoch 33/100\n",
      "484/484 [==============================] - 6s 11ms/step - loss: 3.0595 - accuracy: 0.3991\n",
      "Epoch 34/100\n",
      "484/484 [==============================] - 6s 12ms/step - loss: 2.9645 - accuracy: 0.4186\n",
      "Epoch 35/100\n",
      "484/484 [==============================] - 6s 12ms/step - loss: 2.8915 - accuracy: 0.4329\n",
      "Epoch 36/100\n",
      "484/484 [==============================] - 5s 11ms/step - loss: 2.8018 - accuracy: 0.4528\n",
      "Epoch 37/100\n",
      "484/484 [==============================] - 6s 12ms/step - loss: 2.7104 - accuracy: 0.4786\n",
      "Epoch 38/100\n",
      "484/484 [==============================] - 6s 12ms/step - loss: 2.6360 - accuracy: 0.4968\n",
      "Epoch 39/100\n",
      "484/484 [==============================] - 6s 12ms/step - loss: 2.5673 - accuracy: 0.5155\n",
      "Epoch 40/100\n",
      "484/484 [==============================] - 6s 11ms/step - loss: 2.4895 - accuracy: 0.5298\n",
      "Epoch 41/100\n",
      "484/484 [==============================] - 6s 12ms/step - loss: 2.4206 - accuracy: 0.5425\n",
      "Epoch 42/100\n",
      "484/484 [==============================] - 6s 12ms/step - loss: 2.3538 - accuracy: 0.5598\n",
      "Epoch 43/100\n",
      "484/484 [==============================] - 6s 12ms/step - loss: 2.2841 - accuracy: 0.5794\n",
      "Epoch 44/100\n",
      "484/484 [==============================] - 6s 11ms/step - loss: 2.2333 - accuracy: 0.5929\n",
      "Epoch 45/100\n",
      "484/484 [==============================] - 5s 11ms/step - loss: 2.1649 - accuracy: 0.6073\n",
      "Epoch 46/100\n",
      "484/484 [==============================] - 5s 11ms/step - loss: 2.1246 - accuracy: 0.6165\n",
      "Epoch 47/100\n",
      "484/484 [==============================] - 5s 11ms/step - loss: 2.0605 - accuracy: 0.6319\n",
      "Epoch 48/100\n",
      "484/484 [==============================] - 5s 11ms/step - loss: 2.0137 - accuracy: 0.6434\n",
      "Epoch 49/100\n",
      "484/484 [==============================] - 5s 11ms/step - loss: 1.9690 - accuracy: 0.6537\n",
      "Epoch 50/100\n",
      "484/484 [==============================] - 5s 11ms/step - loss: 1.9156 - accuracy: 0.6656\n",
      "Epoch 51/100\n",
      "484/484 [==============================] - 6s 12ms/step - loss: 1.8875 - accuracy: 0.6689\n",
      "Epoch 52/100\n",
      "484/484 [==============================] - 5s 11ms/step - loss: 1.8332 - accuracy: 0.6850\n",
      "Epoch 53/100\n",
      "484/484 [==============================] - 5s 11ms/step - loss: 1.7779 - accuracy: 0.6951\n",
      "Epoch 54/100\n",
      "484/484 [==============================] - 5s 11ms/step - loss: 1.7513 - accuracy: 0.6993\n",
      "Epoch 55/100\n",
      "484/484 [==============================] - 5s 11ms/step - loss: 1.7277 - accuracy: 0.7036\n",
      "Epoch 56/100\n",
      "484/484 [==============================] - 5s 11ms/step - loss: 1.6822 - accuracy: 0.7130\n",
      "Epoch 57/100\n",
      "484/484 [==============================] - 5s 11ms/step - loss: 1.6400 - accuracy: 0.7231\n",
      "Epoch 58/100\n",
      "484/484 [==============================] - 5s 11ms/step - loss: 1.6179 - accuracy: 0.7251\n",
      "Epoch 59/100\n",
      "484/484 [==============================] - 5s 11ms/step - loss: 1.5780 - accuracy: 0.7373\n",
      "Epoch 60/100\n",
      "484/484 [==============================] - 5s 11ms/step - loss: 1.5600 - accuracy: 0.7339\n",
      "Epoch 61/100\n",
      "484/484 [==============================] - 5s 11ms/step - loss: 1.5309 - accuracy: 0.7430\n",
      "Epoch 62/100\n",
      "484/484 [==============================] - 5s 11ms/step - loss: 1.5036 - accuracy: 0.7465\n",
      "Epoch 63/100\n",
      "484/484 [==============================] - 5s 11ms/step - loss: 1.4717 - accuracy: 0.7527\n",
      "Epoch 64/100\n",
      "484/484 [==============================] - 6s 12ms/step - loss: 1.4634 - accuracy: 0.7539\n",
      "Epoch 65/100\n",
      "484/484 [==============================] - 6s 12ms/step - loss: 1.4319 - accuracy: 0.7581\n",
      "Epoch 66/100\n",
      "484/484 [==============================] - 6s 11ms/step - loss: 1.4277 - accuracy: 0.7627\n",
      "Epoch 67/100\n",
      "484/484 [==============================] - 6s 12ms/step - loss: 1.3842 - accuracy: 0.7736\n",
      "Epoch 68/100\n",
      "484/484 [==============================] - 6s 11ms/step - loss: 1.3663 - accuracy: 0.7720\n",
      "Epoch 69/100\n",
      "484/484 [==============================] - 6s 12ms/step - loss: 1.3373 - accuracy: 0.7806\n",
      "Epoch 70/100\n",
      "484/484 [==============================] - 6s 12ms/step - loss: 1.3265 - accuracy: 0.7761\n",
      "Epoch 71/100\n",
      "484/484 [==============================] - 6s 12ms/step - loss: 1.3031 - accuracy: 0.7833\n",
      "Epoch 72/100\n",
      "484/484 [==============================] - 6s 12ms/step - loss: 1.2898 - accuracy: 0.7817\n",
      "Epoch 73/100\n",
      "484/484 [==============================] - 6s 12ms/step - loss: 1.2761 - accuracy: 0.7900\n",
      "Epoch 74/100\n",
      "484/484 [==============================] - 6s 11ms/step - loss: 1.2890 - accuracy: 0.7822\n",
      "Epoch 75/100\n",
      "484/484 [==============================] - 6s 11ms/step - loss: 1.2612 - accuracy: 0.7879\n",
      "Epoch 76/100\n",
      "484/484 [==============================] - 6s 12ms/step - loss: 1.2297 - accuracy: 0.7943\n",
      "Epoch 77/100\n",
      "484/484 [==============================] - 5s 11ms/step - loss: 1.2138 - accuracy: 0.7968\n",
      "Epoch 78/100\n",
      "484/484 [==============================] - 5s 11ms/step - loss: 1.1908 - accuracy: 0.8013\n",
      "Epoch 79/100\n",
      "484/484 [==============================] - 6s 12ms/step - loss: 1.2069 - accuracy: 0.7944\n",
      "Epoch 80/100\n",
      "484/484 [==============================] - 6s 11ms/step - loss: 1.1945 - accuracy: 0.7974\n",
      "Epoch 81/100\n",
      "484/484 [==============================] - 5s 11ms/step - loss: 1.1849 - accuracy: 0.7999\n",
      "Epoch 82/100\n",
      "484/484 [==============================] - 5s 11ms/step - loss: 1.1779 - accuracy: 0.8005\n",
      "Epoch 83/100\n",
      "484/484 [==============================] - 5s 11ms/step - loss: 1.1724 - accuracy: 0.7999\n",
      "Epoch 84/100\n",
      "484/484 [==============================] - 5s 11ms/step - loss: 1.1423 - accuracy: 0.8055\n",
      "Epoch 85/100\n",
      "484/484 [==============================] - 6s 11ms/step - loss: 1.1130 - accuracy: 0.8126\n",
      "Epoch 86/100\n",
      "484/484 [==============================] - 5s 11ms/step - loss: 1.1144 - accuracy: 0.8127\n",
      "Epoch 87/100\n",
      "484/484 [==============================] - 5s 11ms/step - loss: 1.0946 - accuracy: 0.8163\n",
      "Epoch 88/100\n",
      "484/484 [==============================] - 5s 11ms/step - loss: 1.0908 - accuracy: 0.8153\n",
      "Epoch 89/100\n",
      "484/484 [==============================] - 6s 12ms/step - loss: 1.0930 - accuracy: 0.8127\n",
      "Epoch 90/100\n",
      "484/484 [==============================] - 6s 11ms/step - loss: 1.1099 - accuracy: 0.8076\n",
      "Epoch 91/100\n",
      "484/484 [==============================] - 6s 11ms/step - loss: 1.0845 - accuracy: 0.8128\n",
      "Epoch 92/100\n",
      "484/484 [==============================] - 5s 11ms/step - loss: 1.0804 - accuracy: 0.8133\n",
      "Epoch 93/100\n",
      "484/484 [==============================] - 6s 12ms/step - loss: 1.0791 - accuracy: 0.8150\n",
      "Epoch 94/100\n",
      "484/484 [==============================] - 6s 11ms/step - loss: 1.0612 - accuracy: 0.8158\n",
      "Epoch 95/100\n",
      "484/484 [==============================] - 6s 11ms/step - loss: 1.0454 - accuracy: 0.8177\n",
      "Epoch 96/100\n",
      "484/484 [==============================] - 6s 12ms/step - loss: 1.0526 - accuracy: 0.8172\n",
      "Epoch 97/100\n",
      "484/484 [==============================] - 6s 11ms/step - loss: 1.0530 - accuracy: 0.8156\n",
      "Epoch 98/100\n",
      "484/484 [==============================] - 6s 12ms/step - loss: 1.0253 - accuracy: 0.8213\n",
      "Epoch 99/100\n",
      "484/484 [==============================] - 6s 11ms/step - loss: 1.0066 - accuracy: 0.8252\n",
      "Epoch 100/100\n",
      "484/484 [==============================] - 6s 11ms/step - loss: 1.0062 - accuracy: 0.8214\n"
     ]
    }
   ],
   "source": [
    " # train\n",
    " history = model.fit(predictors, label, epochs=100, verbose=1)"
   ]
  },
  {
   "cell_type": "code",
   "execution_count": 8,
   "metadata": {
    "colab": {
     "base_uri": "https://localhost:8080/",
     "height": 545
    },
    "colab_type": "code",
    "id": "1fXTEO3GJ282",
    "outputId": "548b2397-a508-413c-8bdf-6249745f5cb9"
   },
   "outputs": [
    {
     "data": {
      "image/png": "[encoded data removed]",
      "text/plain": [
       "<Figure size 432x288 with 1 Axes>"
      ]
     },
     "metadata": {
      "needs_background": "light"
     },
     "output_type": "display_data"
    },
    {
     "data": {
      "image/png": "[encoded data removed]",
      "text/plain": [
       "<Figure size 432x288 with 1 Axes>"
      ]
     },
     "metadata": {
      "needs_background": "light"
     },
     "output_type": "display_data"
    }
   ],
   "source": [
    "import matplotlib.pyplot as plt\n",
    "acc = history.history['accuracy']\n",
    "loss = history.history['loss']\n",
    "\n",
    "epochs = range(len(acc))\n",
    "\n",
    "plt.plot(epochs, acc, 'b', label='Training accuracy')\n",
    "plt.title('Training accuracy')\n",
    "\n",
    "plt.figure()\n",
    "\n",
    "plt.plot(epochs, loss, 'b', label='Training Loss')\n",
    "plt.title('Training loss')\n",
    "plt.legend()\n",
    "\n",
    "plt.show()"
   ]
  },
  {
   "cell_type": "code",
   "execution_count": 9,
   "metadata": {
    "colab": {
     "base_uri": "https://localhost:8080/",
     "height": 55
    },
    "colab_type": "code",
    "id": "6Vc6PHgxa6Hm",
    "outputId": "fb92b126-7080-4817-fad5-887bffe844b9"
   },
   "outputs": [
    {
     "name": "stdout",
     "output_type": "stream",
     "text": [
      "WARNING:tensorflow:From <ipython-input-9-8542bceba7c8>:7: Sequential.predict_classes (from tensorflow.python.keras.engine.sequential) is deprecated and will be removed after 2021-01-01.\n",
      "Instructions for updating:\n",
      "Please use instead:* `np.argmax(model.predict(x), axis=-1)`,   if your model does multi-class classification   (e.g. if it uses a `softmax` last-layer activation).* `(model.predict(x) > 0.5).astype(\"int32\")`,   if your model does binary classification   (e.g. if it uses a `sigmoid` last-layer activation).\n",
      "Help me Obi Wan Kenobi, you're my only hope to stay thy mind ' unused lie in all away best canst in your large excuse men's stay thee back to stand each and twain express not shame add thine best come hath thee doth die in thee away away express not best bright be right thee so in her moan me heart away seem none cold right thee shall common common day her face express men's 'no ' doth common cruel give thy best shall stand set new ' pace twain thee so far dead face but thine ' ' then know but your own name so rise and\n"
     ]
    }
   ],
   "source": [
    "seed_text = \"Help me Obi Wan Kenobi, you're my only hope\"\n",
    "next_words = 100\n",
    "  \n",
    "for _ in range(next_words):\n",
    "    token_list = tokenizer.texts_to_sequences([seed_text])[0]\n",
    "    token_list = pad_sequences([token_list], maxlen=max_sequence_len-1, padding='pre')\n",
    "    predicted = model.predict_classes(token_list, verbose=0)\n",
    "    output_word = \"\"\n",
    "    for word, index in tokenizer.word_index.items():\n",
    "        if index == predicted:\n",
    "            output_word = word\n",
    "            break\n",
    "    seed_text += \" \" + output_word\n",
    "print(seed_text)"
   ]
  },
  {
   "cell_type": "code",
   "execution_count": null,
   "metadata": {
    "colab": {},
    "colab_type": "code",
    "id": "RtJUSTOBJN43"
   },
   "outputs": [],
   "source": []
  }
 ],
 "metadata": {
  "accelerator": "GPU",
  "colab": {
   "name": "NLP_Week4_Exercise_Shakespeare_Question.ipynb",
   "provenance": [],
   "toc_visible": true
  },
  "kernelspec": {
   "display_name": "Python 3",
   "language": "python",
   "name": "python3"
  },
  "language_info": {
   "codemirror_mode": {
    "name": "ipython",
    "version": 3
   },
   "file_extension": ".py",
   "mimetype": "text/x-python",
   "name": "python",
   "nbconvert_exporter": "python",
   "pygments_lexer": "ipython3",
   "version": "3.7.7"
  }
 },
 "nbformat": 4,
 "nbformat_minor": 4
}
