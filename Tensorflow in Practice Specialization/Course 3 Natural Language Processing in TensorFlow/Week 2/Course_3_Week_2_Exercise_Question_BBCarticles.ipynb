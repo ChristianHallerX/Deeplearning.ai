{
 "cells": [
  {
   "cell_type": "markdown",
   "metadata": {
    "colab_type": "text",
    "id": "view-in-github"
   },
   "source": [
    "# BBC News Article Classification 2"
   ]
  },
  {
   "cell_type": "code",
   "execution_count": 1,
   "metadata": {
    "colab": {},
    "colab_type": "code",
    "id": "gnwiOnGyW5JK"
   },
   "outputs": [],
   "source": [
    "import csv\n",
    "import tensorflow as tf\n",
    "import numpy as np\n",
    "from tensorflow.keras.preprocessing.text import Tokenizer\n",
    "from tensorflow.keras.preprocessing.sequence import pad_sequences"
   ]
  },
  {
   "cell_type": "raw",
   "metadata": {},
   "source": [
    "# Download data set\n",
    "import wget\n",
    "\n",
    "url = 'https://storage.googleapis.com/laurencemoroney-blog.appspot.com/bbc-text.csv'\n",
    "wget.download(url)\n",
    "\n",
    "print('Finished download')"
   ]
  },
  {
   "cell_type": "code",
   "execution_count": 2,
   "metadata": {
    "colab": {},
    "colab_type": "code",
    "id": "EYo6A4v5ZABQ"
   },
   "outputs": [],
   "source": [
    "vocab_size=1000 # YOUR CODE HERE\n",
    "embedding_dim=16 # YOUR CODE HERE\n",
    "max_length=120 # for padding YOUR CODE HERE\n",
    "trunc_type='post' # YOUR CODE HERE\n",
    "padding_type='post' # YOUR CODE HERE\n",
    "oov_tok=\"<OOV>\" # YOUR CODE HERE\n",
    "training_portion=.8 # 80% train set, 20% test set"
   ]
  },
  {
   "cell_type": "code",
   "execution_count": 3,
   "metadata": {
    "colab": {},
    "colab_type": "code",
    "id": "iU1qq3_SZBx_"
   },
   "outputs": [
    {
     "name": "stdout",
     "output_type": "stream",
     "text": [
      "153\n"
     ]
    }
   ],
   "source": [
    "sentences = []\n",
    "labels = []\n",
    "stopwords = [ \"a\", \"about\", \"above\", \"after\", \"again\", \"against\", \"all\", \"am\", \"an\", \"and\", \"any\", \"are\", \"as\", \"at\", \"be\", \"because\", \"been\", \"before\", \"being\", \"below\", \"between\", \"both\", \"but\", \"by\", \"could\", \"did\", \"do\", \"does\", \"doing\", \"down\", \"during\", \"each\", \"few\", \"for\", \"from\", \"further\", \"had\", \"has\", \"have\", \"having\", \"he\", \"he'd\", \"he'll\", \"he's\", \"her\", \"here\", \"here's\", \"hers\", \"herself\", \"him\", \"himself\", \"his\", \"how\", \"how's\", \"i\", \"i'd\", \"i'll\", \"i'm\", \"i've\", \"if\", \"in\", \"into\", \"is\", \"it\", \"it's\", \"its\", \"itself\", \"let's\", \"me\", \"more\", \"most\", \"my\", \"myself\", \"nor\", \"of\", \"on\", \"once\", \"only\", \"or\", \"other\", \"ought\", \"our\", \"ours\", \"ourselves\", \"out\", \"over\", \"own\", \"same\", \"she\", \"she'd\", \"she'll\", \"she's\", \"should\", \"so\", \"some\", \"such\", \"than\", \"that\", \"that's\", \"the\", \"their\", \"theirs\", \"them\", \"themselves\", \"then\", \"there\", \"there's\", \"these\", \"they\", \"they'd\", \"they'll\", \"they're\", \"they've\", \"this\", \"those\", \"through\", \"to\", \"too\", \"under\", \"until\", \"up\", \"very\", \"was\", \"we\", \"we'd\", \"we'll\", \"we're\", \"we've\", \"were\", \"what\", \"what's\", \"when\", \"when's\", \"where\", \"where's\", \"which\", \"while\", \"who\", \"who's\", \"whom\", \"why\", \"why's\", \"with\", \"would\", \"you\", \"you'd\", \"you'll\", \"you're\", \"you've\", \"your\", \"yours\", \"yourself\", \"yourselves\" ]\n",
    "print(len(stopwords))\n",
    "# Expected Output\n",
    "# 153"
   ]
  },
  {
   "cell_type": "code",
   "execution_count": 4,
   "metadata": {
    "colab": {},
    "colab_type": "code",
    "id": "eutB2xMiZD0e"
   },
   "outputs": [
    {
     "name": "stdout",
     "output_type": "stream",
     "text": [
      "Number of labels:  2225\n",
      "Number of Sentences:  2225\n",
      "First sentence:\n",
      " tv future hands viewers home theatre systems plasma high-definition tvs digital video recorders moving living room way people watch tv will radically different five years time. according expert panel gathered annual consumer electronics show las vegas discuss new technologies will impact one favourite pastimes. us leading trend programmes content will delivered viewers via home networks cable satellite telecoms companies broadband service providers front rooms portable devices. one talked-about technologies ces digital personal video recorders (dvr pvr). set-top boxes like us s tivo uk s sky+ system allow people record store play pause forward wind tv programmes want. essentially technology allows much personalised tv. also built-in high-definition tv sets big business japan us slower take off europe lack high-definition programming. not can people forward wind adverts can also forget abiding network channel schedules putting together a-la-carte entertainment. us networks cable satellite companies worried means terms advertising revenues well brand identity viewer loyalty channels. although us leads technology moment also concern raised europe particularly growing uptake services like sky+. happens today will see nine months years time uk adam hume bbc broadcast s futurologist told bbc news website. likes bbc no issues lost advertising revenue yet. pressing issue moment commercial uk broadcasters brand loyalty important everyone. will talking content brands rather network brands said tim hanlon brand communications firm starcom mediavest. reality broadband connections anybody can producer content. added: challenge now hard promote programme much choice. means said stacey jolna senior vice president tv guide tv group way people find content want watch simplified tv viewers. means networks us terms channels take leaf google s book search engine future instead scheduler help people find want watch. kind channel model might work younger ipod generation used taking control gadgets play them. might not suit everyone panel recognised. older generations comfortable familiar schedules channel brands know getting. perhaps not want much choice put hands mr hanlon suggested. end kids just diapers pushing buttons already - everything possible available said mr hanlon. ultimately consumer will tell market want. 50 000 new gadgets technologies showcased ces many enhancing tv-watching experience. high-definition tv sets everywhere many new models lcd (liquid crystal display) tvs launched dvr capability built instead external boxes. one example launched show humax s 26-inch lcd tv 80-hour tivo dvr dvd recorder. one us s biggest satellite tv companies directtv even launched branded dvr show 100-hours recording capability instant replay search function. set can pause rewind tv 90 hours. microsoft chief bill gates announced pre-show keynote speech partnership tivo called tivotogo means people can play recorded programmes windows pcs mobile devices. reflect increasing trend freeing multimedia people can watch want want.\n"
     ]
    }
   ],
   "source": [
    "import os\n",
    "\n",
    "with open(f'{os.getcwd()}\\\\BBC_Data\\\\bbc-text.csv', 'r') as csvfile:\n",
    "    datastore = csv.reader(csvfile, delimiter=',')\n",
    "    \n",
    "    next(datastore)\n",
    "    \n",
    "    # loop through csv file and get labels and sentences\n",
    "    for row in datastore:\n",
    "        labels.append(row[0])\n",
    "        sentence = row[1]\n",
    "        \n",
    "        # check in each row for stopword tokens and replace with space\n",
    "        for word in stopwords:\n",
    "            token = \" \" + word + \" \"\n",
    "            sentence = sentence.replace(token, \" \")\n",
    "            sentence = sentence.replace(\"  \", \" \")\n",
    "        sentences.append(sentence)\n",
    "        # YOUR CODE HERE\n",
    "\n",
    "    \n",
    "print(\"Number of labels: \",len(labels))\n",
    "print(\"Number of Sentences: \",len(sentences))\n",
    "print(\"First sentence:\\n\",sentences[0])\n",
    "# Expected Output\n",
    "# 2225\n",
    "# 2225\n",
    "# tv future hands viewers home theatre systems  plasma high-definition tvs  digital video recorders moving living room  way people watch tv will radically different five years  time.  according expert panel gathered annual consumer electronics show las vegas discuss new technologies will impact one favourite pastimes. us leading trend  programmes content will delivered viewers via home networks  cable  satellite  telecoms companies  broadband service providers front rooms portable devices.  one talked-about technologies ces digital personal video recorders (dvr pvr). set-top boxes  like us s tivo uk s sky+ system  allow people record  store  play  pause forward wind tv programmes want.  essentially  technology allows much personalised tv. also built-in high-definition tv sets  big business japan us  slower take off europe lack high-definition programming. not can people forward wind adverts  can also forget abiding network channel schedules  putting together a-la-carte entertainment. us networks cable satellite companies worried means terms advertising revenues well  brand identity  viewer loyalty channels. although us leads technology moment  also concern raised europe  particularly growing uptake services like sky+.  happens today  will see nine months years  time uk   adam hume  bbc broadcast s futurologist told bbc news website. likes bbc  no issues lost advertising revenue yet. pressing issue moment commercial uk broadcasters  brand loyalty important everyone.  will talking content brands rather network brands   said tim hanlon  brand communications firm starcom mediavest.  reality broadband connections  anybody can producer content.  added:  challenge now hard promote programme much choice.   means  said stacey jolna  senior vice president tv guide tv group  way people find content want watch simplified tv viewers. means networks  us terms  channels take leaf google s book search engine future  instead scheduler help people find want watch. kind channel model might work younger ipod generation used taking control gadgets play them. might not suit everyone  panel recognised. older generations comfortable familiar schedules channel brands know getting. perhaps not want much choice put hands  mr hanlon suggested.  end  kids just diapers pushing buttons already - everything possible available   said mr hanlon.  ultimately  consumer will tell market want.   50 000 new gadgets technologies showcased ces  many enhancing tv-watching experience. high-definition tv sets everywhere many new models lcd (liquid crystal display) tvs launched dvr capability built  instead external boxes. one example launched show humax s 26-inch lcd tv 80-hour tivo dvr dvd recorder. one us s biggest satellite tv companies  directtv  even launched branded dvr show 100-hours recording capability  instant replay  search function. set can pause rewind tv 90 hours. microsoft chief bill gates announced pre-show keynote speech partnership tivo  called tivotogo  means people can play recorded programmes windows pcs mobile devices. reflect increasing trend freeing multimedia people can watch want  want."
   ]
  },
  {
   "cell_type": "code",
   "execution_count": 5,
   "metadata": {
    "colab": {},
    "colab_type": "code",
    "id": "XfdaWh06ZGe3"
   },
   "outputs": [
    {
     "name": "stdout",
     "output_type": "stream",
     "text": [
      "Training Size setting:  1780\n",
      "Training sentences size after slicing:  1780\n",
      "Training labels size after slicing:  1780\n",
      "Validation sentences size after slicing:  445\n",
      "Validation labels size after slicing:  445\n"
     ]
    }
   ],
   "source": [
    "# Step 1 Split dataset in train and test\n",
    "train_size = int(len(sentences) * training_portion) # YOUR CODE HERE\n",
    "print(\"Training Size setting: \",train_size)\n",
    "\n",
    "\n",
    "train_sentences = sentences[:train_size] # YOUR CODE HERE\n",
    "print(\"Training sentences size after slicing: \",len(train_sentences))\n",
    "\n",
    "train_labels = labels[:train_size] # YOUR CODE HERE\n",
    "print(\"Training labels size after slicing: \",len(train_labels))\n",
    "\n",
    "\n",
    "\n",
    "validation_sentences = sentences[train_size:]# YOUR CODE HERE\n",
    "print(\"Validation sentences size after slicing: \",len(validation_sentences))\n",
    "\n",
    "validation_labels = labels[train_size:]# YOUR CODE HERE\n",
    "print(\"Validation labels size after slicing: \",len(validation_labels))\n",
    "\n",
    "# Expected output (if training_portion=.8)\n",
    "# 1780\n",
    "# 1780\n",
    "# 1780\n",
    "# 445\n",
    "# 445"
   ]
  },
  {
   "cell_type": "code",
   "execution_count": 6,
   "metadata": {
    "colab": {},
    "colab_type": "code",
    "id": "ULzA8xhwZI22"
   },
   "outputs": [
    {
     "name": "stdout",
     "output_type": "stream",
     "text": [
      "Train Sequence 0 raw:  449\n",
      "Train Sequence 0 padded:  120\n",
      "Train Sequence 1 raw:  200\n",
      "Train Sequence 1 padded:  120\n",
      "Train Sequence 10 raw:  192\n",
      "Train Sequence 10 padded:  120\n",
      "train_padded shape:  (1780, 120)\n"
     ]
    }
   ],
   "source": [
    "# Step 2 instantiate tokenizer\n",
    "tokenizer = Tokenizer(num_words=vocab_size, oov_token=oov_tok) # YOUR CODE HERE\n",
    "\n",
    "# Step 3 fit/train tokenizer on text\n",
    "tokenizer.fit_on_texts(train_sentences) # YOUR CODE HERE\n",
    "\n",
    "# Step 4 create word index/dictionary\n",
    "word_index = tokenizer.word_index # YOUR CODE HERE\n",
    "\n",
    "# Step 5 translate sentences into (different length) token sequences (train)\n",
    "train_sequences = tokenizer.texts_to_sequences(train_sentences) # YOUR CODE HERE\n",
    "\n",
    "# Step 6 pad the token sequences to equalize length (train)\n",
    "train_padded = pad_sequences(train_sequences, padding=padding_type, maxlen=max_length) # YOUR CODE HERE\n",
    "\n",
    "# print some sequence lengths for verification\n",
    "print(\"Train Sequence 0 raw: \",len(train_sequences[0]))\n",
    "print(\"Train Sequence 0 padded: \",len(train_padded[0]))\n",
    "\n",
    "print(\"Train Sequence 1 raw: \",len(train_sequences[1]))\n",
    "print(\"Train Sequence 1 padded: \",len(train_padded[1]))\n",
    "\n",
    "print(\"Train Sequence 10 raw: \",len(train_sequences[10]))\n",
    "print(\"Train Sequence 10 padded: \",len(train_padded[10]))\n",
    "\n",
    "print(\"train_padded shape: \",train_padded.shape)\n",
    "\n",
    "# Expected Ouput\n",
    "# 449\n",
    "# 120\n",
    "# 200\n",
    "# 120\n",
    "# 192\n",
    "# 120"
   ]
  },
  {
   "cell_type": "code",
   "execution_count": 7,
   "metadata": {
    "colab": {},
    "colab_type": "code",
    "id": "c8PeFWzPZLW_"
   },
   "outputs": [
    {
     "name": "stdout",
     "output_type": "stream",
     "text": [
      "Validation sequences samples:  445\n",
      "Validation padded shape:  (445, 120)\n"
     ]
    }
   ],
   "source": [
    "# Step 5 translate sentences into (different length) token sequences (validation)\n",
    "validation_sequences = tokenizer.texts_to_sequences(validation_sentences) # YOUR CODE HERE\n",
    "\n",
    "# Step 6 pad the token sequences to equalize length (validation)\n",
    "validation_padded = pad_sequences(validation_sequences, padding=padding_type, maxlen=max_length) # YOUR CODE HERE\n",
    "\n",
    "# print some verification\n",
    "print(\"Validation sequences samples: \",len(validation_sequences))\n",
    "print(\"Validation padded shape: \",validation_padded.shape)\n",
    "\n",
    "# Expected output\n",
    "# 445\n",
    "# (445, 120)"
   ]
  },
  {
   "cell_type": "markdown",
   "metadata": {},
   "source": [
    "## Labels also get tokenized"
   ]
  },
  {
   "cell_type": "code",
   "execution_count": 8,
   "metadata": {
    "colab": {},
    "colab_type": "code",
    "id": "XkWiQ_FKZNp2"
   },
   "outputs": [
    {
     "name": "stdout",
     "output_type": "stream",
     "text": [
      "Train label 0:  [4]\n",
      "Train label 1:  [2]\n",
      "Train label 2:  [1]\n",
      "Train label shape:  (1780, 1)\n",
      "Val label 0:  [5]\n",
      "Val label 1:  [4]\n",
      "Val label 2:  [3]\n",
      "Val label shape:  (445, 1)\n"
     ]
    }
   ],
   "source": [
    "label_tokenizer = Tokenizer() # YOUR CODE HERE\n",
    "\n",
    "# label tokens are fit to all (train+val) labels, since they may not contain <oov>\n",
    "label_tokenizer.fit_on_texts(labels) # YOUR CODE HERE\n",
    "\n",
    "training_label_seq = np.array(label_tokenizer.texts_to_sequences(train_labels)) # YOUR CODE HERE\n",
    "validation_label_seq = np.array(label_tokenizer.texts_to_sequences(validation_labels)) # YOUR CODE HERE\n",
    "\n",
    "# print some labels for verification\n",
    "print(\"Train label 0: \",training_label_seq[0])\n",
    "print(\"Train label 1: \",training_label_seq[1])\n",
    "print(\"Train label 2: \",training_label_seq[2])\n",
    "print(\"Train label shape: \",training_label_seq.shape)\n",
    "\n",
    "print(\"Val label 0: \",validation_label_seq[0])\n",
    "print(\"Val label 1: \",validation_label_seq[1])\n",
    "print(\"Val label 2: \",validation_label_seq[2])\n",
    "print(\"Val label shape: \",validation_label_seq.shape)\n",
    "\n",
    "# Expected output\n",
    "# [4]\n",
    "# [2]\n",
    "# [1]\n",
    "# (1780, 1)\n",
    "# [5]\n",
    "# [4]\n",
    "# [3]\n",
    "# (445, 1)"
   ]
  },
  {
   "cell_type": "code",
   "execution_count": 9,
   "metadata": {
    "colab": {},
    "colab_type": "code",
    "id": "HZ5um4MWZP-W"
   },
   "outputs": [
    {
     "name": "stdout",
     "output_type": "stream",
     "text": [
      "Model: \"sequential\"\n",
      "_________________________________________________________________\n",
      "Layer (type)                 Output Shape              Param #   \n",
      "=================================================================\n",
      "embedding (Embedding)        (None, 120, 16)           16000     \n",
      "_________________________________________________________________\n",
      "global_average_pooling1d (Gl (None, 16)                0         \n",
      "_________________________________________________________________\n",
      "dense (Dense)                (None, 24)                408       \n",
      "_________________________________________________________________\n",
      "dense_1 (Dense)              (None, 6)                 150       \n",
      "=================================================================\n",
      "Total params: 16,558\n",
      "Trainable params: 16,558\n",
      "Non-trainable params: 0\n",
      "_________________________________________________________________\n"
     ]
    }
   ],
   "source": [
    "model = tf.keras.Sequential([\n",
    "    tf.keras.layers.Embedding(vocab_size, embedding_dim, input_length=max_length),\n",
    "    tf.keras.layers.GlobalAveragePooling1D(),\n",
    "    tf.keras.layers.Dense(24, activation='relu'),\n",
    "    tf.keras.layers.Dense(6, activation='softmax')\n",
    "])\n",
    "\n",
    "model.compile(loss='sparse_categorical_crossentropy',optimizer='adam',metrics=['accuracy'])\n",
    "model.summary()\n",
    "\n",
    "# Expected Output\n",
    "# Layer (type)                 Output Shape              Param #   \n",
    "# =================================================================\n",
    "# embedding (Embedding)        (None, 120, 16)           16000     \n",
    "# _________________________________________________________________\n",
    "# global_average_pooling1d (Gl (None, 16)                0         \n",
    "# _________________________________________________________________\n",
    "# dense (Dense)                (None, 24)                408       \n",
    "# _________________________________________________________________\n",
    "# dense_1 (Dense)              (None, 6)                 150       \n",
    "# =================================================================\n",
    "# Total params: 16,558\n",
    "# Trainable params: 16,558\n",
    "# Non-trainable params: 0"
   ]
  },
  {
   "cell_type": "code",
   "execution_count": 10,
   "metadata": {
    "colab": {},
    "colab_type": "code",
    "id": "XsfdxySKZSXu"
   },
   "outputs": [
    {
     "name": "stdout",
     "output_type": "stream",
     "text": [
      "Epoch 1/30\n",
      "56/56 - 0s - loss: 1.7541 - accuracy: 0.2584 - val_loss: 1.7158 - val_accuracy: 0.2292\n",
      "Epoch 2/30\n",
      "56/56 - 0s - loss: 1.6637 - accuracy: 0.3039 - val_loss: 1.6218 - val_accuracy: 0.2539\n",
      "Epoch 3/30\n",
      "56/56 - 0s - loss: 1.5614 - accuracy: 0.3573 - val_loss: 1.5138 - val_accuracy: 0.4494\n",
      "Epoch 4/30\n",
      "56/56 - 0s - loss: 1.4320 - accuracy: 0.5213 - val_loss: 1.3688 - val_accuracy: 0.5820\n",
      "Epoch 5/30\n",
      "56/56 - 0s - loss: 1.2546 - accuracy: 0.6129 - val_loss: 1.1789 - val_accuracy: 0.6247\n",
      "Epoch 6/30\n",
      "56/56 - 0s - loss: 1.0485 - accuracy: 0.6989 - val_loss: 0.9915 - val_accuracy: 0.7236\n",
      "Epoch 7/30\n",
      "56/56 - 0s - loss: 0.8570 - accuracy: 0.8281 - val_loss: 0.8247 - val_accuracy: 0.8360\n",
      "Epoch 8/30\n",
      "56/56 - 0s - loss: 0.6979 - accuracy: 0.8972 - val_loss: 0.6958 - val_accuracy: 0.8876\n",
      "Epoch 9/30\n",
      "56/56 - 0s - loss: 0.5715 - accuracy: 0.9275 - val_loss: 0.5908 - val_accuracy: 0.8921\n",
      "Epoch 10/30\n",
      "56/56 - 0s - loss: 0.4648 - accuracy: 0.9371 - val_loss: 0.5144 - val_accuracy: 0.8989\n",
      "Epoch 11/30\n",
      "56/56 - 0s - loss: 0.3851 - accuracy: 0.9522 - val_loss: 0.4448 - val_accuracy: 0.9056\n",
      "Epoch 12/30\n",
      "56/56 - 0s - loss: 0.3169 - accuracy: 0.9573 - val_loss: 0.3904 - val_accuracy: 0.9146\n",
      "Epoch 13/30\n",
      "56/56 - 0s - loss: 0.2659 - accuracy: 0.9635 - val_loss: 0.3509 - val_accuracy: 0.9213\n",
      "Epoch 14/30\n",
      "56/56 - 0s - loss: 0.2254 - accuracy: 0.9663 - val_loss: 0.3197 - val_accuracy: 0.9281\n",
      "Epoch 15/30\n",
      "56/56 - 0s - loss: 0.1936 - accuracy: 0.9742 - val_loss: 0.2960 - val_accuracy: 0.9281\n",
      "Epoch 16/30\n",
      "56/56 - 0s - loss: 0.1678 - accuracy: 0.9775 - val_loss: 0.2787 - val_accuracy: 0.9326\n",
      "Epoch 17/30\n",
      "56/56 - 0s - loss: 0.1469 - accuracy: 0.9815 - val_loss: 0.2631 - val_accuracy: 0.9348\n",
      "Epoch 18/30\n",
      "56/56 - 0s - loss: 0.1297 - accuracy: 0.9843 - val_loss: 0.2507 - val_accuracy: 0.9348\n",
      "Epoch 19/30\n",
      "56/56 - 0s - loss: 0.1148 - accuracy: 0.9860 - val_loss: 0.2406 - val_accuracy: 0.9348\n",
      "Epoch 20/30\n",
      "56/56 - 0s - loss: 0.1024 - accuracy: 0.9854 - val_loss: 0.2311 - val_accuracy: 0.9393\n",
      "Epoch 21/30\n",
      "56/56 - 0s - loss: 0.0913 - accuracy: 0.9888 - val_loss: 0.2255 - val_accuracy: 0.9416\n",
      "Epoch 22/30\n",
      "56/56 - 0s - loss: 0.0821 - accuracy: 0.9916 - val_loss: 0.2175 - val_accuracy: 0.9416\n",
      "Epoch 23/30\n",
      "56/56 - 0s - loss: 0.0735 - accuracy: 0.9938 - val_loss: 0.2110 - val_accuracy: 0.9461\n",
      "Epoch 24/30\n",
      "56/56 - 0s - loss: 0.0663 - accuracy: 0.9933 - val_loss: 0.2113 - val_accuracy: 0.9393\n",
      "Epoch 25/30\n",
      "56/56 - 0s - loss: 0.0598 - accuracy: 0.9961 - val_loss: 0.2033 - val_accuracy: 0.9438\n",
      "Epoch 26/30\n",
      "56/56 - 0s - loss: 0.0540 - accuracy: 0.9966 - val_loss: 0.2015 - val_accuracy: 0.9416\n",
      "Epoch 27/30\n",
      "56/56 - 0s - loss: 0.0488 - accuracy: 0.9966 - val_loss: 0.1994 - val_accuracy: 0.9393\n",
      "Epoch 28/30\n",
      "56/56 - 0s - loss: 0.0443 - accuracy: 0.9978 - val_loss: 0.1960 - val_accuracy: 0.9438\n",
      "Epoch 29/30\n",
      "56/56 - 0s - loss: 0.0402 - accuracy: 0.9983 - val_loss: 0.1942 - val_accuracy: 0.9438\n",
      "Epoch 30/30\n",
      "56/56 - 0s - loss: 0.0367 - accuracy: 0.9989 - val_loss: 0.1932 - val_accuracy: 0.9461\n"
     ]
    }
   ],
   "source": [
    "num_epochs = 30\n",
    "history = model.fit(train_padded, training_label_seq, epochs=num_epochs, validation_data=(validation_padded, validation_label_seq), verbose=2) # YOUR CODE HERE"
   ]
  },
  {
   "cell_type": "code",
   "execution_count": 12,
   "metadata": {
    "colab": {},
    "colab_type": "code",
    "id": "dQ0BX2apXS9u"
   },
   "outputs": [
    {
     "data": {
      "image/png": "[encoded data removed]",
      "text/plain": [
       "<Figure size 432x288 with 1 Axes>"
      ]
     },
     "metadata": {
      "needs_background": "light"
     },
     "output_type": "display_data"
    },
    {
     "data": {
      "image/png": "[encoded data removed]",
      "text/plain": [
       "<Figure size 432x288 with 1 Axes>"
      ]
     },
     "metadata": {
      "needs_background": "light"
     },
     "output_type": "display_data"
    }
   ],
   "source": [
    "import matplotlib.pyplot as plt\n",
    "\n",
    "\n",
    "def plot_graphs(history, string):\n",
    "  plt.plot(history.history[string])\n",
    "  plt.plot(history.history['val_'+string])\n",
    "  plt.xlabel(\"Epochs\")\n",
    "  plt.ylabel(string)\n",
    "  plt.legend([string, 'val_'+string])\n",
    "  plt.show()\n",
    "  \n",
    "plot_graphs(history, \"accuracy\")\n",
    "plot_graphs(history, \"loss\")"
   ]
  },
  {
   "cell_type": "code",
   "execution_count": 13,
   "metadata": {
    "colab": {},
    "colab_type": "code",
    "id": "w7Xc-uWxXhML"
   },
   "outputs": [],
   "source": [
    "reverse_word_index = dict([(value, key) for (key, value) in word_index.items()])\n",
    "\n",
    "def decode_sentence(text):\n",
    "    return ' '.join([reverse_word_index.get(i, '?') for i in text])"
   ]
  },
  {
   "cell_type": "code",
   "execution_count": 14,
   "metadata": {
    "colab": {},
    "colab_type": "code",
    "id": "OhnFA_TDXrih"
   },
   "outputs": [
    {
     "name": "stdout",
     "output_type": "stream",
     "text": [
      "(1000, 16)\n"
     ]
    }
   ],
   "source": [
    "e = model.layers[0]\n",
    "weights = e.get_weights()[0]\n",
    "print(weights.shape) # shape: (vocab_size, embedding_dim)\n",
    "\n",
    "# Expected output\n",
    "# (1000, 16)"
   ]
  },
  {
   "cell_type": "code",
   "execution_count": 17,
   "metadata": {
    "colab": {},
    "colab_type": "code",
    "id": "_POzcWWAXudL"
   },
   "outputs": [],
   "source": [
    "import io\n",
    "\n",
    "out_v = io.open('vecs_BBC.tsv', 'w', encoding='utf-8')\n",
    "out_m = io.open('meta_BBC.tsv', 'w', encoding='utf-8')\n",
    "for word_num in range(1, vocab_size):\n",
    "  word = reverse_word_index[word_num]\n",
    "  embeddings = weights[word_num]\n",
    "  out_m.write(word + \"\\n\")\n",
    "  out_v.write('\\t'.join([str(x) for x in embeddings]) + \"\\n\")\n",
    "out_v.close()\n",
    "out_m.close()"
   ]
  },
  {
   "cell_type": "markdown",
   "metadata": {},
   "source": [
    "https://projector.tensorflow.org/"
   ]
  },
  {
   "cell_type": "code",
   "execution_count": null,
   "metadata": {},
   "outputs": [],
   "source": []
  }
 ],
 "metadata": {
  "accelerator": "GPU",
  "colab": {
   "name": "Course 3 - Week 2 - Exercise - Question.ipynb",
   "provenance": [],
   "toc_visible": true
  },
  "kernelspec": {
   "display_name": "Python 3",
   "language": "python",
   "name": "python3"
  },
  "language_info": {
   "codemirror_mode": {
    "name": "ipython",
    "version": 3
   },
   "file_extension": ".py",
   "mimetype": "text/x-python",
   "name": "python",
   "nbconvert_exporter": "python",
   "pygments_lexer": "ipython3",
   "version": "3.7.7"
  }
 },
 "nbformat": 4,
 "nbformat_minor": 4
}
