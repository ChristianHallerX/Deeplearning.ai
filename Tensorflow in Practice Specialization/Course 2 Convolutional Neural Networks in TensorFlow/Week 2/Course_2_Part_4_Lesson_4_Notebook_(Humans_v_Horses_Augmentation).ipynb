{
 "cells": [
  {
   "cell_type": "markdown",
   "metadata": {
    "colab_type": "text",
    "id": "rX8mhOLljYeM"
   },
   "source": [
    "# Horse or Human with Augmentation"
   ]
  },
  {
   "cell_type": "code",
   "execution_count": 2,
   "metadata": {
    "colab": {
     "base_uri": "https://localhost:8080/",
     "height": 410
    },
    "colab_type": "code",
    "id": "RXZT2UsyIVe_",
    "outputId": "80088af9-901d-48c1-8ee6-1dfcfcedf6ff"
   },
   "outputs": [
    {
     "name": "stdout",
     "output_type": "stream",
     "text": [
      "--2020-06-04 02:28:16--  https://storage.googleapis.com/laurencemoroney-blog.appspot.com/horse-or-human.zip\n",
      "Resolving storage.googleapis.com (storage.googleapis.com)... 74.125.140.128, 2a00:1450:400c:c0b::80\n",
      "Connecting to storage.googleapis.com (storage.googleapis.com)|74.125.140.128|:443... connected.\n",
      "HTTP request sent, awaiting response... 200 OK\n",
      "Length: 149574867 (143M) [application/zip]\n",
      "Saving to: ‘/tmp/horse-or-human.zip’\n",
      "\n",
      "/tmp/horse-or-human 100%[===================>] 142.65M  33.4MB/s    in 4.3s    \n",
      "\n",
      "2020-06-04 02:28:21 (33.4 MB/s) - ‘/tmp/horse-or-human.zip’ saved [149574867/149574867]\n",
      "\n",
      "--2020-06-04 02:28:22--  https://storage.googleapis.com/laurencemoroney-blog.appspot.com/validation-horse-or-human.zip\n",
      "Resolving storage.googleapis.com (storage.googleapis.com)... 173.194.76.128, 2a00:1450:400c:c07::80\n",
      "Connecting to storage.googleapis.com (storage.googleapis.com)|173.194.76.128|:443... connected.\n",
      "HTTP request sent, awaiting response... 200 OK\n",
      "Length: 11480187 (11M) [application/zip]\n",
      "Saving to: ‘/tmp/validation-horse-or-human.zip’\n",
      "\n",
      "/tmp/validation-hor 100%[===================>]  10.95M  18.8MB/s    in 0.6s    \n",
      "\n",
      "2020-06-04 02:28:23 (18.8 MB/s) - ‘/tmp/validation-horse-or-human.zip’ saved [11480187/11480187]\n",
      "\n"
     ]
    }
   ],
   "source": [
    "!wget --no-check-certificate \\\n",
    "    https://storage.googleapis.com/laurencemoroney-blog.appspot.com/horse-or-human.zip \\\n",
    "    -O /tmp/horse-or-human.zip\n",
    "\n",
    "!wget --no-check-certificate \\\n",
    "    https://storage.googleapis.com/laurencemoroney-blog.appspot.com/validation-horse-or-human.zip \\\n",
    "    -O /tmp/validation-horse-or-human.zip\n",
    "  \n",
    "import os\n",
    "import zipfile\n",
    "\n",
    "local_zip = '/tmp/horse-or-human.zip'\n",
    "zip_ref = zipfile.ZipFile(local_zip, 'r')\n",
    "zip_ref.extractall('/tmp/horse-or-human')\n",
    "local_zip = '/tmp/validation-horse-or-human.zip'\n",
    "zip_ref = zipfile.ZipFile(local_zip, 'r')\n",
    "zip_ref.extractall('/tmp/validation-horse-or-human')\n",
    "zip_ref.close()\n",
    "# Directory with our training horse pictures\n",
    "train_horse_dir = os.path.join('/tmp/horse-or-human/horses')\n",
    "\n",
    "# Directory with our training human pictures\n",
    "train_human_dir = os.path.join('/tmp/horse-or-human/humans')\n",
    "\n",
    "# Directory with our training horse pictures\n",
    "validation_horse_dir = os.path.join('/tmp/validation-horse-or-human/horses')\n",
    "\n",
    "# Directory with our training human pictures\n",
    "validation_human_dir = os.path.join('/tmp/validation-horse-or-human/humans')"
   ]
  },
  {
   "cell_type": "markdown",
   "metadata": {
    "colab_type": "text",
    "id": "5oqBkNBJmtUv"
   },
   "source": [
    "## Building a Small Model from Scratch\n",
    "\n",
    "But before we continue, let's start defining the model:\n",
    "\n",
    "Step 1 will be to import tensorflow."
   ]
  },
  {
   "cell_type": "code",
   "execution_count": null,
   "metadata": {
    "colab": {},
    "colab_type": "code",
    "id": "qvfZg3LQbD-5"
   },
   "outputs": [],
   "source": [
    "import tensorflow as tf"
   ]
  },
  {
   "cell_type": "markdown",
   "metadata": {
    "colab_type": "text",
    "id": "BnhYCP4tdqjC"
   },
   "source": [
    "We then add convolutional layers as in the previous example, and flatten the final result to feed into the densely connected layers."
   ]
  },
  {
   "cell_type": "markdown",
   "metadata": {
    "colab_type": "text",
    "id": "gokG5HKpdtzm"
   },
   "source": [
    "Finally we add the densely connected layers. \n",
    "\n",
    "Note that because we are facing a two-class classification problem, i.e. a *binary classification problem*, we will end our network with a [*sigmoid* activation](https://wikipedia.org/wiki/Sigmoid_function), so that the output of our network will be a single scalar between 0 and 1, encoding the probability that the current image is class 1 (as opposed to class 0)."
   ]
  },
  {
   "cell_type": "code",
   "execution_count": null,
   "metadata": {
    "colab": {},
    "colab_type": "code",
    "id": "PixZ2s5QbYQ3"
   },
   "outputs": [],
   "source": [
    "model = tf.keras.models.Sequential([\n",
    "    # Note the input shape is the desired size of the image 300x300 with 3 bytes color\n",
    "    # This is the first convolution\n",
    "    tf.keras.layers.Conv2D(16, (3,3), activation='relu', input_shape=(300, 300, 3)),\n",
    "    tf.keras.layers.MaxPooling2D(2, 2),\n",
    "    # The second convolution\n",
    "    tf.keras.layers.Conv2D(32, (3,3), activation='relu'),\n",
    "    tf.keras.layers.MaxPooling2D(2,2),\n",
    "    # The third convolution\n",
    "    tf.keras.layers.Conv2D(64, (3,3), activation='relu'),\n",
    "    tf.keras.layers.MaxPooling2D(2,2),\n",
    "    # The fourth convolution\n",
    "    tf.keras.layers.Conv2D(64, (3,3), activation='relu'),\n",
    "    tf.keras.layers.MaxPooling2D(2,2),\n",
    "    # The fifth convolution\n",
    "    tf.keras.layers.Conv2D(64, (3,3), activation='relu'),\n",
    "    tf.keras.layers.MaxPooling2D(2,2),\n",
    "    # Flatten the results to feed into a DNN\n",
    "    tf.keras.layers.Flatten(),\n",
    "    # 512 neuron hidden layer\n",
    "    tf.keras.layers.Dense(512, activation='relu'),\n",
    "    # Only 1 output neuron. It will contain a value from 0-1 where 0 for 1 class ('horses') and 1 for the other ('humans')\n",
    "    tf.keras.layers.Dense(1, activation='sigmoid')\n",
    "])"
   ]
  },
  {
   "cell_type": "code",
   "execution_count": null,
   "metadata": {
    "colab": {},
    "colab_type": "code",
    "id": "8DHWhFP_uhq3"
   },
   "outputs": [],
   "source": [
    "from tensorflow.keras.optimizers import RMSprop\n",
    "\n",
    "model.compile(loss='binary_crossentropy',\n",
    "              optimizer=RMSprop(lr=1e-4),\n",
    "              metrics=['accuracy'])"
   ]
  },
  {
   "cell_type": "code",
   "execution_count": 6,
   "metadata": {
    "colab": {
     "base_uri": "https://localhost:8080/",
     "height": 53
    },
    "colab_type": "code",
    "id": "ClebU9NJg99G",
    "outputId": "c7b66914-ae59-48b4-ed3c-b6267bb17f6f"
   },
   "outputs": [
    {
     "name": "stdout",
     "output_type": "stream",
     "text": [
      "Found 1027 images belonging to 2 classes.\n",
      "Found 256 images belonging to 2 classes.\n"
     ]
    }
   ],
   "source": [
    "from tensorflow.keras.preprocessing.image import ImageDataGenerator\n",
    "\n",
    "# All images will be rescaled by 1./255\n",
    "train_datagen = ImageDataGenerator(\n",
    "      rescale=1./255,\n",
    "      rotation_range=40,\n",
    "      width_shift_range=0.2,\n",
    "      height_shift_range=0.2,\n",
    "      shear_range=0.2,\n",
    "      zoom_range=0.2,\n",
    "      horizontal_flip=True,\n",
    "      fill_mode='nearest')\n",
    "\n",
    "validation_datagen = ImageDataGenerator(rescale=1/255)\n",
    "\n",
    "# Flow training images in batches of 128 using train_datagen generator\n",
    "train_generator = train_datagen.flow_from_directory(\n",
    "        '/tmp/horse-or-human/',  # This is the source directory for training images\n",
    "        target_size=(300, 300),  # All images will be resized to 150x150\n",
    "        batch_size=128,\n",
    "        # Since we use binary_crossentropy loss, we need binary labels\n",
    "        class_mode='binary')\n",
    "\n",
    "# Flow training images in batches of 128 using train_datagen generator\n",
    "validation_generator = validation_datagen.flow_from_directory(\n",
    "        '/tmp/validation-horse-or-human/',  # This is the source directory for training images\n",
    "        target_size=(300, 300),  # All images will be resized to 150x150\n",
    "        batch_size=32,\n",
    "        # Since we use binary_crossentropy loss, we need binary labels\n",
    "        class_mode='binary')"
   ]
  },
  {
   "cell_type": "code",
   "execution_count": 7,
   "metadata": {
    "colab": {
     "base_uri": "https://localhost:8080/",
     "height": 1000
    },
    "colab_type": "code",
    "id": "Fb1_lgobv81m",
    "outputId": "f338e59d-579b-4e45-895f-a36980a096c9"
   },
   "outputs": [
    {
     "name": "stdout",
     "output_type": "stream",
     "text": [
      "Epoch 1/100\n",
      "8/8 [==============================] - 21s 3s/step - loss: 0.6855 - accuracy: 0.5473 - val_loss: 0.6481 - val_accuracy: 0.8711\n",
      "Epoch 2/100\n",
      "8/8 [==============================] - 23s 3s/step - loss: 0.6651 - accuracy: 0.6218 - val_loss: 0.6443 - val_accuracy: 0.5547\n",
      "Epoch 3/100\n",
      "8/8 [==============================] - 20s 3s/step - loss: 0.6395 - accuracy: 0.6440 - val_loss: 0.6223 - val_accuracy: 0.5898\n",
      "Epoch 4/100\n",
      "8/8 [==============================] - 20s 3s/step - loss: 0.6386 - accuracy: 0.6663 - val_loss: 0.6041 - val_accuracy: 0.6055\n",
      "Epoch 5/100\n",
      "8/8 [==============================] - 20s 2s/step - loss: 0.5709 - accuracy: 0.7353 - val_loss: 0.6708 - val_accuracy: 0.5664\n",
      "Epoch 6/100\n",
      "8/8 [==============================] - 22s 3s/step - loss: 0.5558 - accuracy: 0.7217 - val_loss: 0.7566 - val_accuracy: 0.5508\n",
      "Epoch 7/100\n",
      "8/8 [==============================] - 20s 3s/step - loss: 0.5264 - accuracy: 0.7486 - val_loss: 0.5749 - val_accuracy: 0.6836\n",
      "Epoch 8/100\n",
      "8/8 [==============================] - 20s 2s/step - loss: 0.5220 - accuracy: 0.7408 - val_loss: 0.9498 - val_accuracy: 0.5312\n",
      "Epoch 9/100\n",
      "8/8 [==============================] - 20s 3s/step - loss: 0.4813 - accuracy: 0.7720 - val_loss: 0.6933 - val_accuracy: 0.6719\n",
      "Epoch 10/100\n",
      "8/8 [==============================] - 20s 2s/step - loss: 0.5137 - accuracy: 0.7608 - val_loss: 0.9257 - val_accuracy: 0.5898\n",
      "Epoch 11/100\n",
      "8/8 [==============================] - 20s 2s/step - loss: 0.4942 - accuracy: 0.7709 - val_loss: 0.9902 - val_accuracy: 0.5938\n",
      "Epoch 12/100\n",
      "8/8 [==============================] - 20s 3s/step - loss: 0.4732 - accuracy: 0.7798 - val_loss: 1.2442 - val_accuracy: 0.5508\n",
      "Epoch 13/100\n",
      "8/8 [==============================] - 20s 2s/step - loss: 0.5002 - accuracy: 0.7664 - val_loss: 0.9168 - val_accuracy: 0.6055\n",
      "Epoch 14/100\n",
      "8/8 [==============================] - 20s 2s/step - loss: 0.4317 - accuracy: 0.8176 - val_loss: 0.9283 - val_accuracy: 0.6211\n",
      "Epoch 15/100\n",
      "8/8 [==============================] - 20s 3s/step - loss: 0.5761 - accuracy: 0.7620 - val_loss: 1.2034 - val_accuracy: 0.5742\n",
      "Epoch 16/100\n",
      "8/8 [==============================] - 20s 2s/step - loss: 0.4224 - accuracy: 0.7998 - val_loss: 0.5493 - val_accuracy: 0.7344\n",
      "Epoch 17/100\n",
      "8/8 [==============================] - 23s 3s/step - loss: 0.4177 - accuracy: 0.8187 - val_loss: 0.9902 - val_accuracy: 0.6172\n",
      "Epoch 18/100\n",
      "8/8 [==============================] - 20s 2s/step - loss: 0.5139 - accuracy: 0.7809 - val_loss: 1.1998 - val_accuracy: 0.5898\n",
      "Epoch 19/100\n",
      "8/8 [==============================] - 22s 3s/step - loss: 0.3790 - accuracy: 0.8389 - val_loss: 1.5461 - val_accuracy: 0.5547\n",
      "Epoch 20/100\n",
      "8/8 [==============================] - 20s 2s/step - loss: 0.4149 - accuracy: 0.8220 - val_loss: 1.5324 - val_accuracy: 0.5469\n",
      "Epoch 21/100\n",
      "8/8 [==============================] - 20s 2s/step - loss: 0.3960 - accuracy: 0.8365 - val_loss: 1.5080 - val_accuracy: 0.5703\n",
      "Epoch 22/100\n",
      "8/8 [==============================] - 22s 3s/step - loss: 0.3716 - accuracy: 0.8301 - val_loss: 1.0074 - val_accuracy: 0.6680\n",
      "Epoch 23/100\n",
      "8/8 [==============================] - 20s 2s/step - loss: 0.3746 - accuracy: 0.8343 - val_loss: 0.9398 - val_accuracy: 0.6719\n",
      "Epoch 24/100\n",
      "8/8 [==============================] - 23s 3s/step - loss: 0.4315 - accuracy: 0.7964 - val_loss: 1.1215 - val_accuracy: 0.6367\n",
      "Epoch 25/100\n",
      "8/8 [==============================] - 20s 2s/step - loss: 0.3756 - accuracy: 0.8187 - val_loss: 1.2777 - val_accuracy: 0.6172\n",
      "Epoch 26/100\n",
      "8/8 [==============================] - 20s 2s/step - loss: 0.3538 - accuracy: 0.8331 - val_loss: 1.0811 - val_accuracy: 0.6602\n",
      "Epoch 27/100\n",
      "8/8 [==============================] - 20s 2s/step - loss: 0.3723 - accuracy: 0.8354 - val_loss: 0.9193 - val_accuracy: 0.6641\n",
      "Epoch 28/100\n",
      "8/8 [==============================] - 20s 3s/step - loss: 0.3663 - accuracy: 0.8365 - val_loss: 1.2015 - val_accuracy: 0.6094\n",
      "Epoch 29/100\n",
      "8/8 [==============================] - 23s 3s/step - loss: 0.3325 - accuracy: 0.8598 - val_loss: 1.1386 - val_accuracy: 0.6641\n",
      "Epoch 30/100\n",
      "8/8 [==============================] - 20s 2s/step - loss: 0.3107 - accuracy: 0.8765 - val_loss: 0.8805 - val_accuracy: 0.7305\n",
      "Epoch 31/100\n",
      "8/8 [==============================] - 23s 3s/step - loss: 0.3333 - accuracy: 0.8509 - val_loss: 1.4320 - val_accuracy: 0.6367\n",
      "Epoch 32/100\n",
      "8/8 [==============================] - 20s 2s/step - loss: 0.3262 - accuracy: 0.8598 - val_loss: 1.2572 - val_accuracy: 0.6719\n",
      "Epoch 33/100\n",
      "8/8 [==============================] - 20s 2s/step - loss: 0.3212 - accuracy: 0.8587 - val_loss: 1.9980 - val_accuracy: 0.5547\n",
      "Epoch 34/100\n",
      "8/8 [==============================] - 20s 3s/step - loss: 0.3402 - accuracy: 0.8242 - val_loss: 1.3785 - val_accuracy: 0.5781\n",
      "Epoch 35/100\n",
      "8/8 [==============================] - 20s 2s/step - loss: 0.3042 - accuracy: 0.8810 - val_loss: 1.0820 - val_accuracy: 0.6836\n",
      "Epoch 36/100\n",
      "8/8 [==============================] - 20s 2s/step - loss: 0.3122 - accuracy: 0.8587 - val_loss: 1.2587 - val_accuracy: 0.6562\n",
      "Epoch 37/100\n",
      "8/8 [==============================] - 20s 2s/step - loss: 0.3545 - accuracy: 0.8387 - val_loss: 1.4115 - val_accuracy: 0.5977\n",
      "Epoch 38/100\n",
      "8/8 [==============================] - 20s 2s/step - loss: 0.2669 - accuracy: 0.9099 - val_loss: 1.3364 - val_accuracy: 0.6484\n",
      "Epoch 39/100\n",
      "8/8 [==============================] - 20s 2s/step - loss: 0.2889 - accuracy: 0.8821 - val_loss: 1.4453 - val_accuracy: 0.6406\n",
      "Epoch 40/100\n",
      "8/8 [==============================] - 20s 3s/step - loss: 0.3519 - accuracy: 0.8498 - val_loss: 1.8861 - val_accuracy: 0.5391\n",
      "Epoch 41/100\n",
      "8/8 [==============================] - 20s 3s/step - loss: 0.2924 - accuracy: 0.8810 - val_loss: 1.8421 - val_accuracy: 0.5625\n",
      "Epoch 42/100\n",
      "8/8 [==============================] - 20s 2s/step - loss: 0.2499 - accuracy: 0.9055 - val_loss: 1.1661 - val_accuracy: 0.6641\n",
      "Epoch 43/100\n",
      "8/8 [==============================] - 20s 2s/step - loss: 0.2485 - accuracy: 0.9043 - val_loss: 1.7781 - val_accuracy: 0.6055\n",
      "Epoch 44/100\n",
      "8/8 [==============================] - 20s 2s/step - loss: 0.2341 - accuracy: 0.9043 - val_loss: 2.8100 - val_accuracy: 0.5273\n",
      "Epoch 45/100\n",
      "8/8 [==============================] - 20s 2s/step - loss: 0.2774 - accuracy: 0.8788 - val_loss: 2.2439 - val_accuracy: 0.5742\n",
      "Epoch 46/100\n",
      "8/8 [==============================] - 20s 3s/step - loss: 0.2993 - accuracy: 0.8721 - val_loss: 2.2437 - val_accuracy: 0.5391\n",
      "Epoch 47/100\n",
      "8/8 [==============================] - 20s 2s/step - loss: 0.2547 - accuracy: 0.8899 - val_loss: 1.9252 - val_accuracy: 0.6172\n",
      "Epoch 48/100\n",
      "8/8 [==============================] - 20s 2s/step - loss: 0.2874 - accuracy: 0.8721 - val_loss: 2.8750 - val_accuracy: 0.5469\n",
      "Epoch 49/100\n",
      "8/8 [==============================] - 20s 3s/step - loss: 0.2266 - accuracy: 0.8999 - val_loss: 2.3965 - val_accuracy: 0.5703\n",
      "Epoch 50/100\n",
      "8/8 [==============================] - 22s 3s/step - loss: 0.2453 - accuracy: 0.8984 - val_loss: 2.0849 - val_accuracy: 0.6055\n",
      "Epoch 51/100\n",
      "8/8 [==============================] - 23s 3s/step - loss: 0.2814 - accuracy: 0.8887 - val_loss: 2.0483 - val_accuracy: 0.6094\n",
      "Epoch 52/100\n",
      "8/8 [==============================] - 20s 3s/step - loss: 0.3231 - accuracy: 0.8554 - val_loss: 1.7189 - val_accuracy: 0.6289\n",
      "Epoch 53/100\n",
      "8/8 [==============================] - 20s 2s/step - loss: 0.1992 - accuracy: 0.9255 - val_loss: 1.7826 - val_accuracy: 0.6445\n",
      "Epoch 54/100\n",
      "8/8 [==============================] - 22s 3s/step - loss: 0.2395 - accuracy: 0.8955 - val_loss: 2.8211 - val_accuracy: 0.5273\n",
      "Epoch 55/100\n",
      "8/8 [==============================] - 20s 3s/step - loss: 0.2725 - accuracy: 0.8910 - val_loss: 1.7558 - val_accuracy: 0.6406\n",
      "Epoch 56/100\n",
      "8/8 [==============================] - 23s 3s/step - loss: 0.2130 - accuracy: 0.9121 - val_loss: 2.1157 - val_accuracy: 0.6016\n",
      "Epoch 57/100\n",
      "8/8 [==============================] - 23s 3s/step - loss: 0.2092 - accuracy: 0.9238 - val_loss: 1.3958 - val_accuracy: 0.6797\n",
      "Epoch 58/100\n",
      "8/8 [==============================] - 20s 3s/step - loss: 0.2991 - accuracy: 0.8710 - val_loss: 1.7440 - val_accuracy: 0.6367\n",
      "Epoch 59/100\n",
      "8/8 [==============================] - 20s 2s/step - loss: 0.2082 - accuracy: 0.9199 - val_loss: 1.9966 - val_accuracy: 0.6094\n",
      "Epoch 60/100\n",
      "8/8 [==============================] - 20s 2s/step - loss: 0.2044 - accuracy: 0.9277 - val_loss: 2.6518 - val_accuracy: 0.5664\n",
      "Epoch 61/100\n",
      "8/8 [==============================] - 23s 3s/step - loss: 0.2531 - accuracy: 0.8921 - val_loss: 1.7256 - val_accuracy: 0.6406\n",
      "Epoch 62/100\n",
      "8/8 [==============================] - 20s 3s/step - loss: 0.2710 - accuracy: 0.8888 - val_loss: 2.0148 - val_accuracy: 0.6094\n",
      "Epoch 63/100\n",
      "8/8 [==============================] - 20s 3s/step - loss: 0.2375 - accuracy: 0.9077 - val_loss: 1.9611 - val_accuracy: 0.6094\n",
      "Epoch 64/100\n",
      "8/8 [==============================] - 20s 2s/step - loss: 0.2303 - accuracy: 0.9132 - val_loss: 1.3140 - val_accuracy: 0.6680\n",
      "Epoch 65/100\n",
      "8/8 [==============================] - 20s 3s/step - loss: 0.2128 - accuracy: 0.9088 - val_loss: 1.4993 - val_accuracy: 0.6758\n",
      "Epoch 66/100\n",
      "8/8 [==============================] - 20s 2s/step - loss: 0.2401 - accuracy: 0.9032 - val_loss: 1.9735 - val_accuracy: 0.6250\n",
      "Epoch 67/100\n",
      "8/8 [==============================] - 20s 2s/step - loss: 0.2092 - accuracy: 0.9155 - val_loss: 2.1946 - val_accuracy: 0.6016\n",
      "Epoch 68/100\n",
      "8/8 [==============================] - 20s 2s/step - loss: 0.1712 - accuracy: 0.9310 - val_loss: 1.8716 - val_accuracy: 0.6680\n",
      "Epoch 69/100\n",
      "8/8 [==============================] - 20s 3s/step - loss: 0.2090 - accuracy: 0.9132 - val_loss: 2.5439 - val_accuracy: 0.5469\n",
      "Epoch 70/100\n",
      "8/8 [==============================] - 23s 3s/step - loss: 0.1952 - accuracy: 0.9229 - val_loss: 1.9242 - val_accuracy: 0.6406\n",
      "Epoch 71/100\n",
      "8/8 [==============================] - 20s 2s/step - loss: 0.2394 - accuracy: 0.8999 - val_loss: 1.9157 - val_accuracy: 0.5703\n",
      "Epoch 72/100\n",
      "8/8 [==============================] - 20s 3s/step - loss: 0.1801 - accuracy: 0.9277 - val_loss: 0.4778 - val_accuracy: 0.8594\n",
      "Epoch 73/100\n",
      "8/8 [==============================] - 23s 3s/step - loss: 0.3267 - accuracy: 0.8810 - val_loss: 2.2987 - val_accuracy: 0.6094\n",
      "Epoch 74/100\n",
      "8/8 [==============================] - 20s 3s/step - loss: 0.1519 - accuracy: 0.9410 - val_loss: 2.2200 - val_accuracy: 0.6211\n",
      "Epoch 75/100\n",
      "8/8 [==============================] - 22s 3s/step - loss: 0.1762 - accuracy: 0.9326 - val_loss: 3.7191 - val_accuracy: 0.5273\n",
      "Epoch 76/100\n",
      "8/8 [==============================] - 20s 3s/step - loss: 0.2163 - accuracy: 0.9121 - val_loss: 2.1708 - val_accuracy: 0.6250\n",
      "Epoch 77/100\n",
      "8/8 [==============================] - 23s 3s/step - loss: 0.3521 - accuracy: 0.8932 - val_loss: 2.5661 - val_accuracy: 0.5938\n",
      "Epoch 78/100\n",
      "8/8 [==============================] - 20s 2s/step - loss: 0.1624 - accuracy: 0.9466 - val_loss: 2.3439 - val_accuracy: 0.6055\n",
      "Epoch 79/100\n",
      "8/8 [==============================] - 20s 2s/step - loss: 0.2040 - accuracy: 0.9166 - val_loss: 0.4363 - val_accuracy: 0.8555\n",
      "Epoch 80/100\n",
      "8/8 [==============================] - 20s 3s/step - loss: 0.2578 - accuracy: 0.9043 - val_loss: 2.3024 - val_accuracy: 0.5938\n",
      "Epoch 81/100\n",
      "8/8 [==============================] - 20s 2s/step - loss: 0.1698 - accuracy: 0.9377 - val_loss: 2.4181 - val_accuracy: 0.6016\n",
      "Epoch 82/100\n",
      "8/8 [==============================] - 20s 3s/step - loss: 0.1713 - accuracy: 0.9266 - val_loss: 1.8980 - val_accuracy: 0.6562\n",
      "Epoch 83/100\n",
      "8/8 [==============================] - 20s 3s/step - loss: 0.3345 - accuracy: 0.8699 - val_loss: 1.7333 - val_accuracy: 0.6641\n",
      "Epoch 84/100\n",
      "8/8 [==============================] - 23s 3s/step - loss: 0.1646 - accuracy: 0.9333 - val_loss: 2.5964 - val_accuracy: 0.5898\n",
      "Epoch 85/100\n",
      "8/8 [==============================] - 20s 3s/step - loss: 0.1551 - accuracy: 0.9477 - val_loss: 2.3923 - val_accuracy: 0.6250\n",
      "Epoch 86/100\n",
      "8/8 [==============================] - 20s 3s/step - loss: 0.2183 - accuracy: 0.9032 - val_loss: 2.6097 - val_accuracy: 0.5977\n",
      "Epoch 87/100\n",
      "8/8 [==============================] - 20s 2s/step - loss: 0.1591 - accuracy: 0.9399 - val_loss: 3.1652 - val_accuracy: 0.5195\n",
      "Epoch 88/100\n",
      "8/8 [==============================] - 20s 3s/step - loss: 0.2636 - accuracy: 0.8943 - val_loss: 1.8600 - val_accuracy: 0.6289\n",
      "Epoch 89/100\n",
      "8/8 [==============================] - 20s 3s/step - loss: 0.1446 - accuracy: 0.9477 - val_loss: 3.6882 - val_accuracy: 0.5156\n",
      "Epoch 90/100\n",
      "8/8 [==============================] - 23s 3s/step - loss: 0.1578 - accuracy: 0.9433 - val_loss: 2.5391 - val_accuracy: 0.6055\n",
      "Epoch 91/100\n",
      "8/8 [==============================] - 23s 3s/step - loss: 0.1482 - accuracy: 0.9410 - val_loss: 1.4946 - val_accuracy: 0.7227\n",
      "Epoch 92/100\n",
      "8/8 [==============================] - 20s 3s/step - loss: 0.2066 - accuracy: 0.9177 - val_loss: 2.2334 - val_accuracy: 0.6133\n",
      "Epoch 93/100\n",
      "8/8 [==============================] - 20s 2s/step - loss: 0.1298 - accuracy: 0.9600 - val_loss: 1.9416 - val_accuracy: 0.6758\n",
      "Epoch 94/100\n",
      "8/8 [==============================] - 20s 3s/step - loss: 0.1849 - accuracy: 0.9288 - val_loss: 3.1925 - val_accuracy: 0.5391\n",
      "Epoch 95/100\n",
      "8/8 [==============================] - 20s 3s/step - loss: 0.3837 - accuracy: 0.8943 - val_loss: 2.4804 - val_accuracy: 0.5977\n",
      "Epoch 96/100\n",
      "8/8 [==============================] - 20s 3s/step - loss: 0.1365 - accuracy: 0.9566 - val_loss: 1.7021 - val_accuracy: 0.6719\n",
      "Epoch 97/100\n",
      "8/8 [==============================] - 20s 3s/step - loss: 0.1574 - accuracy: 0.9433 - val_loss: 1.4850 - val_accuracy: 0.6875\n",
      "Epoch 98/100\n",
      "8/8 [==============================] - 23s 3s/step - loss: 0.1239 - accuracy: 0.9590 - val_loss: 1.9704 - val_accuracy: 0.6641\n",
      "Epoch 99/100\n",
      "8/8 [==============================] - 23s 3s/step - loss: 0.2178 - accuracy: 0.9099 - val_loss: 2.2443 - val_accuracy: 0.6133\n",
      "Epoch 100/100\n",
      "8/8 [==============================] - 20s 3s/step - loss: 0.1521 - accuracy: 0.9488 - val_loss: 4.0420 - val_accuracy: 0.5273\n"
     ]
    }
   ],
   "source": [
    "history = model.fit(\n",
    "      train_generator,\n",
    "      steps_per_epoch=8,  \n",
    "      epochs=100,\n",
    "      verbose=1,\n",
    "      validation_data = validation_generator,\n",
    "      validation_steps=8)"
   ]
  },
  {
   "cell_type": "code",
   "execution_count": 8,
   "metadata": {
    "colab": {
     "base_uri": "https://localhost:8080/",
     "height": 545
    },
    "colab_type": "code",
    "id": "7zNPRWOVJdOH",
    "outputId": "71558f15-e158-4128-c0f2-aa290475df7d"
   },
   "outputs": [
    {
     "data": {
      "image/png": "[encoded data removed]",
      "text/plain": [
       "<Figure size 432x288 with 1 Axes>"
      ]
     },
     "metadata": {
      "needs_background": "light",
      "tags": []
     },
     "output_type": "display_data"
    },
    {
     "data": {
      "image/png": "[encoded data removed]",
      "text/plain": [
       "<Figure size 432x288 with 1 Axes>"
      ]
     },
     "metadata": {
      "needs_background": "light",
      "tags": []
     },
     "output_type": "display_data"
    }
   ],
   "source": [
    "import matplotlib.pyplot as plt\n",
    "acc = history.history['accuracy']\n",
    "val_acc = history.history['val_accuracy']\n",
    "loss = history.history['loss']\n",
    "val_loss = history.history['val_loss']\n",
    "\n",
    "epochs = range(len(acc))\n",
    "\n",
    "plt.plot(epochs, acc, 'r', label='Training accuracy')\n",
    "plt.plot(epochs, val_acc, 'b', label='Validation accuracy')\n",
    "plt.title('Training and validation accuracy')\n",
    "\n",
    "plt.figure()\n",
    "\n",
    "plt.plot(epochs, loss, 'r', label='Training Loss')\n",
    "plt.plot(epochs, val_loss, 'b', label='Validation Loss')\n",
    "plt.title('Training and validation loss')\n",
    "plt.legend()\n",
    "\n",
    "plt.show()"
   ]
  }
 ],
 "metadata": {
  "accelerator": "GPU",
  "colab": {
   "collapsed_sections": [],
   "name": "Course 2 - Part 4 - Lesson 4 - Notebook.ipynb",
   "provenance": [],
   "toc_visible": true
  },
  "kernelspec": {
   "display_name": "Python 3",
   "language": "python",
   "name": "python3"
  },
  "language_info": {
   "codemirror_mode": {
    "name": "ipython",
    "version": 3
   },
   "file_extension": ".py",
   "mimetype": "text/x-python",
   "name": "python",
   "nbconvert_exporter": "python",
   "pygments_lexer": "ipython3",
   "version": "3.7.7"
  }
 },
 "nbformat": 4,
 "nbformat_minor": 4
}
